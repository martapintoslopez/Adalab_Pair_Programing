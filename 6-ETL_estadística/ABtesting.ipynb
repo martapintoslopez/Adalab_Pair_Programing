{
 "cells": [
  {
   "cell_type": "code",
   "execution_count": 2,
   "metadata": {},
   "outputs": [],
   "source": [
    "# Importar librerías para manipulación y análisis de datos\n",
    "# -----------------------------------------------------------------------\n",
    "import pandas as pd\n",
    "from pandas import DataFrame\n",
    "import numpy as np\n",
    "\n",
    "# Configuraciones\n",
    "# -----------------------------------------------------------------------\n",
    "pd.set_option('display.max_columns', None)  # Establece una opción de Pandas para mostrar todas las columnas de un DataFrame.\n",
    "\n",
    "# Imputación de nulos usando métodos avanzados estadísticos\n",
    "# -----------------------------------------------------------------------\n",
    "from sklearn.impute import SimpleImputer\n",
    "from sklearn.experimental import enable_iterative_imputer\n",
    "from sklearn.impute import IterativeImputer\n",
    "from sklearn.impute import KNNImputer\n",
    "\n",
    "# Librerías de visualización\n",
    "# -----------------------------------------------------------------------\n",
    "import seaborn as sns\n",
    "import matplotlib.pyplot as plt\n",
    "\n",
    "# Métodos de visualización\n",
    "# -----------------------------------------------------------------------\n",
    "# establece el estilo del fondo de las gráficas como \"whitegrid\". Las gráficas tendrán un fondo blanco con líneas de cuadrícula horizontales y verticales.\n",
    "sns.set_style(\"whitegrid\")\n",
    "\n",
    "# cambiará el esquema de colores predeterminado de Seaborn a uno más oscuro, adecuado para gráficas con fondos claros. \n",
    "sns.set_theme(style=\"dark\")\n",
    "\n",
    "# establece el estilo en Solarize_Lihgt2. \n",
    "plt.style.use('Solarize_Light2')\n",
    "\n",
    "# Evaluar linealidad de las relaciones entre las variables\n",
    "# ------------------------------------------------------------------------------\n",
    "from scipy.stats import shapiro, kstest\n",
    "\n",
    "import scipy.stats as stats\n",
    "\n",
    "# Gestión de los warnings\n",
    "# -----------------------------------------------------------------------\n",
    "import warnings\n",
    "warnings.filterwarnings(\"ignore\")\n",
    "\n",
    "\n",
    "# -----------------------------------------------------------------------\n",
    "from scipy.stats import chi2_contingency\n",
    "from scipy.stats import ttest_ind\n",
    "from scipy.stats import mannwhitneyu\n",
    "from scipy.stats import levene"
   ]
  },
  {
   "cell_type": "code",
   "execution_count": 3,
   "metadata": {},
   "outputs": [
    {
     "data": {
      "text/html": [
       "<div>\n",
       "<style scoped>\n",
       "    .dataframe tbody tr th:only-of-type {\n",
       "        vertical-align: middle;\n",
       "    }\n",
       "\n",
       "    .dataframe tbody tr th {\n",
       "        vertical-align: top;\n",
       "    }\n",
       "\n",
       "    .dataframe thead th {\n",
       "        text-align: right;\n",
       "    }\n",
       "</style>\n",
       "<table border=\"1\" class=\"dataframe\">\n",
       "  <thead>\n",
       "    <tr style=\"text-align: right;\">\n",
       "      <th></th>\n",
       "      <th>user id</th>\n",
       "      <th>test group</th>\n",
       "      <th>converted</th>\n",
       "      <th>total ads</th>\n",
       "      <th>most ads day</th>\n",
       "      <th>most ads hour</th>\n",
       "    </tr>\n",
       "  </thead>\n",
       "  <tbody>\n",
       "    <tr>\n",
       "      <th>0</th>\n",
       "      <td>1069124</td>\n",
       "      <td>ad</td>\n",
       "      <td>False</td>\n",
       "      <td>130</td>\n",
       "      <td>Monday</td>\n",
       "      <td>20</td>\n",
       "    </tr>\n",
       "    <tr>\n",
       "      <th>1</th>\n",
       "      <td>1119715</td>\n",
       "      <td>ad</td>\n",
       "      <td>False</td>\n",
       "      <td>93</td>\n",
       "      <td>Tuesday</td>\n",
       "      <td>22</td>\n",
       "    </tr>\n",
       "    <tr>\n",
       "      <th>2</th>\n",
       "      <td>1144181</td>\n",
       "      <td>ad</td>\n",
       "      <td>False</td>\n",
       "      <td>21</td>\n",
       "      <td>Tuesday</td>\n",
       "      <td>18</td>\n",
       "    </tr>\n",
       "    <tr>\n",
       "      <th>3</th>\n",
       "      <td>1435133</td>\n",
       "      <td>ad</td>\n",
       "      <td>False</td>\n",
       "      <td>355</td>\n",
       "      <td>Tuesday</td>\n",
       "      <td>10</td>\n",
       "    </tr>\n",
       "    <tr>\n",
       "      <th>4</th>\n",
       "      <td>1015700</td>\n",
       "      <td>ad</td>\n",
       "      <td>False</td>\n",
       "      <td>276</td>\n",
       "      <td>Friday</td>\n",
       "      <td>14</td>\n",
       "    </tr>\n",
       "  </tbody>\n",
       "</table>\n",
       "</div>"
      ],
      "text/plain": [
       "   user id test group  converted  total ads most ads day  most ads hour\n",
       "0  1069124         ad      False        130       Monday             20\n",
       "1  1119715         ad      False         93      Tuesday             22\n",
       "2  1144181         ad      False         21      Tuesday             18\n",
       "3  1435133         ad      False        355      Tuesday             10\n",
       "4  1015700         ad      False        276       Friday             14"
      ]
     },
     "execution_count": 3,
     "metadata": {},
     "output_type": "execute_result"
    }
   ],
   "source": [
    "df = pd.read_csv(\"data/marketing_AB.csv\",index_col=0)\n",
    "df.head()"
   ]
  },
  {
   "cell_type": "code",
   "execution_count": 4,
   "metadata": {},
   "outputs": [
    {
     "data": {
      "text/plain": [
       "ad     564577\n",
       "psa     23524\n",
       "Name: test group, dtype: int64"
      ]
     },
     "execution_count": 4,
     "metadata": {},
     "output_type": "execute_result"
    }
   ],
   "source": [
    "df[\"test group\"].value_counts() #psa es control y ad es test"
   ]
  },
  {
   "cell_type": "code",
   "execution_count": 5,
   "metadata": {},
   "outputs": [],
   "source": [
    "# Añadimos \"_\" en lugar de espacios\n",
    "columnas = [col.replace(\" \", \"_\") for col in df.columns]\n",
    "df.columns = columnas"
   ]
  },
  {
   "cell_type": "code",
   "execution_count": 6,
   "metadata": {},
   "outputs": [
    {
     "data": {
      "text/plain": [
       "Index(['user_id', 'test_group', 'converted', 'total_ads', 'most_ads_day',\n",
       "       'most_ads_hour'],\n",
       "      dtype='object')"
      ]
     },
     "execution_count": 6,
     "metadata": {},
     "output_type": "execute_result"
    }
   ],
   "source": [
    "df.columns"
   ]
  },
  {
   "cell_type": "code",
   "execution_count": 7,
   "metadata": {},
   "outputs": [
    {
     "data": {
      "text/plain": [
       "False    573258\n",
       "True      14843\n",
       "Name: converted, dtype: int64"
      ]
     },
     "execution_count": 7,
     "metadata": {},
     "output_type": "execute_result"
    }
   ],
   "source": [
    "df[\"converted\"].value_counts() "
   ]
  },
  {
   "cell_type": "code",
   "execution_count": 8,
   "metadata": {},
   "outputs": [],
   "source": [
    "df_copia = df.copy()"
   ]
  },
  {
   "cell_type": "markdown",
   "metadata": {},
   "source": [
    "## Ejercicio 1:\n",
    "\n",
    "Supongamos que estamos realizando un experimento para determinar si un nuevo diseño de anuncio (test group \"ad\") tiene un impacto significativo en la tasa de conversión en comparación con el diseño de anuncio anterior (test group \"psa\").\n",
    "\n",
    "**Objetivo del ejercicio: \n",
    "Comparar las tasas de conversión entre los grupos de prueba \"ad\" y \"psa\" para determinar si el nuevo diseño de anuncio es más efectivo en la conversión de usuarios.\n",
    "\n",
    "Pasos que debemos seguir:\n",
    "\n",
    "1. Preparación de los datos: \n",
    "Asegúrate de que los datos estén limpios y listos para el análisis. Esto incluye la eliminación de datos faltantes y la verificación de la coherencia de los datos.\n",
    "\n",
    "2. Definición de las hipótesis: \n",
    "Plantea una hipótesis nula (H0) y una hipótesis alternativa (H1) para el experimento (en este caso os las damos definidas):\n",
    "- Hipótesis nula (H0): No hay diferencia significativa en la tasa de conversión entre los grupos de prueba \"ad\" y \"psa\".\n",
    "- Hipótesis alternativa (H1): Existe una diferencia significativa en la tasa de conversión entre los grupos de prueba \"ad\" y \"psa\".\n",
    "\n",
    "3. Cálculo de la tasa de conversión: \n",
    "Calcula la tasa de conversión para cada grupo:\n",
    "- Para el grupo \"ad\", la tasa de conversión es el número de usuarios convertidos dividido por el número total de usuarios en ese grupo.\n",
    "- Para el grupo \"psa\", realiza el mismo cálculo.\n",
    "\n",
    "4. Prueba de hipótesis: \n",
    "Utiliza una prueba estadística, como la prueba t de Student o la prueba chi-cuadrado, para comparar las tasas de conversión entre los grupos \"ad\" y \"psa\".\n",
    "\n",
    "5. Análisis de resultados:\n",
    "- Si el valor p es menor que un umbral predefinido (por ejemplo, 0.05), rechazamos la hipótesis nula y concluimos que hay una diferencia significativa en las tasas de conversión entre los grupos.\n",
    "- Si el valor p es mayor que el umbral, no podemos rechazar la hipótesis nula y concluimos que no hay evidencia suficiente para afirmar que hay una diferencia significativa.\n",
    "\n",
    "6. Conclusiones y recomendaciones: \n",
    "Basándote en los resultados de la prueba de hipótesis, llega a una conclusión sobre si el nuevo diseño de anuncio es más efectivo en la conversión de usuarios que el diseño anterior. Si es así, puedes hacer recomendaciones basadas en estos hallazgos."
   ]
  },
  {
   "cell_type": "code",
   "execution_count": 9,
   "metadata": {},
   "outputs": [],
   "source": [
    "#1. Preparación de datos"
   ]
  },
  {
   "cell_type": "code",
   "execution_count": 10,
   "metadata": {},
   "outputs": [
    {
     "data": {
      "text/html": [
       "<div>\n",
       "<style scoped>\n",
       "    .dataframe tbody tr th:only-of-type {\n",
       "        vertical-align: middle;\n",
       "    }\n",
       "\n",
       "    .dataframe tbody tr th {\n",
       "        vertical-align: top;\n",
       "    }\n",
       "\n",
       "    .dataframe thead th {\n",
       "        text-align: right;\n",
       "    }\n",
       "</style>\n",
       "<table border=\"1\" class=\"dataframe\">\n",
       "  <thead>\n",
       "    <tr style=\"text-align: right;\">\n",
       "      <th></th>\n",
       "      <th>user_id</th>\n",
       "      <th>total_ads</th>\n",
       "      <th>most_ads_hour</th>\n",
       "    </tr>\n",
       "  </thead>\n",
       "  <tbody>\n",
       "    <tr>\n",
       "      <th>count</th>\n",
       "      <td>5.881010e+05</td>\n",
       "      <td>588101.000000</td>\n",
       "      <td>588101.000000</td>\n",
       "    </tr>\n",
       "    <tr>\n",
       "      <th>mean</th>\n",
       "      <td>1.310692e+06</td>\n",
       "      <td>24.820876</td>\n",
       "      <td>14.469061</td>\n",
       "    </tr>\n",
       "    <tr>\n",
       "      <th>std</th>\n",
       "      <td>2.022260e+05</td>\n",
       "      <td>43.715181</td>\n",
       "      <td>4.834634</td>\n",
       "    </tr>\n",
       "    <tr>\n",
       "      <th>min</th>\n",
       "      <td>9.000000e+05</td>\n",
       "      <td>1.000000</td>\n",
       "      <td>0.000000</td>\n",
       "    </tr>\n",
       "    <tr>\n",
       "      <th>25%</th>\n",
       "      <td>1.143190e+06</td>\n",
       "      <td>4.000000</td>\n",
       "      <td>11.000000</td>\n",
       "    </tr>\n",
       "    <tr>\n",
       "      <th>50%</th>\n",
       "      <td>1.313725e+06</td>\n",
       "      <td>13.000000</td>\n",
       "      <td>14.000000</td>\n",
       "    </tr>\n",
       "    <tr>\n",
       "      <th>75%</th>\n",
       "      <td>1.484088e+06</td>\n",
       "      <td>27.000000</td>\n",
       "      <td>18.000000</td>\n",
       "    </tr>\n",
       "    <tr>\n",
       "      <th>max</th>\n",
       "      <td>1.654483e+06</td>\n",
       "      <td>2065.000000</td>\n",
       "      <td>23.000000</td>\n",
       "    </tr>\n",
       "  </tbody>\n",
       "</table>\n",
       "</div>"
      ],
      "text/plain": [
       "            user_id      total_ads  most_ads_hour\n",
       "count  5.881010e+05  588101.000000  588101.000000\n",
       "mean   1.310692e+06      24.820876      14.469061\n",
       "std    2.022260e+05      43.715181       4.834634\n",
       "min    9.000000e+05       1.000000       0.000000\n",
       "25%    1.143190e+06       4.000000      11.000000\n",
       "50%    1.313725e+06      13.000000      14.000000\n",
       "75%    1.484088e+06      27.000000      18.000000\n",
       "max    1.654483e+06    2065.000000      23.000000"
      ]
     },
     "execution_count": 10,
     "metadata": {},
     "output_type": "execute_result"
    }
   ],
   "source": [
    "df_copia.describe()"
   ]
  },
  {
   "cell_type": "code",
   "execution_count": 11,
   "metadata": {},
   "outputs": [
    {
     "name": "stdout",
     "output_type": "stream",
     "text": [
      "<class 'pandas.core.frame.DataFrame'>\n",
      "Int64Index: 588101 entries, 0 to 588100\n",
      "Data columns (total 6 columns):\n",
      " #   Column         Non-Null Count   Dtype \n",
      "---  ------         --------------   ----- \n",
      " 0   user_id        588101 non-null  int64 \n",
      " 1   test_group     588101 non-null  object\n",
      " 2   converted      588101 non-null  bool  \n",
      " 3   total_ads      588101 non-null  int64 \n",
      " 4   most_ads_day   588101 non-null  object\n",
      " 5   most_ads_hour  588101 non-null  int64 \n",
      "dtypes: bool(1), int64(3), object(2)\n",
      "memory usage: 27.5+ MB\n"
     ]
    }
   ],
   "source": [
    "df_copia.info()"
   ]
  },
  {
   "cell_type": "code",
   "execution_count": 12,
   "metadata": {},
   "outputs": [],
   "source": [
    "# una vez que tengamos nuestro DataFrame preparado con todas las columnas que queremos vamos a crear una función que no haga una exploración inicial del conjunto de datos\n",
    "def exploracion_dataframe(dataframe, columna_control):\n",
    "    \n",
    "    print(f\"Los duplicados que tenemos en el conjunto de datos son: {dataframe.duplicated().sum()}\")\n",
    "    print(\"\\n ..................... \\n\")\n",
    "    \n",
    "    \n",
    "    # generamos un DataFrame para los valores nulos\n",
    "    print(\"Los nulos que tenemos en el conjunto de datos son:\")\n",
    "    df_nulos = pd.DataFrame(dataframe.isnull().sum() / dataframe.shape[0] * 100, columns = [\"%_nulos\"])\n",
    "    display(df_nulos[\"%_nulos\"])\n",
    "    \n",
    "    print(\"\\n ..................... \\n\")\n",
    "    print(f\"Los tipos de las columnas son:\")\n",
    "    display(pd.DataFrame(dataframe.dtypes, columns = [\"tipo_dato\"]))\n",
    "    \n",
    "    \n",
    "    print(\"\\n ..................... \\n\")\n",
    "    print(\"Los valores que tenemos para las columnas categóricas son: \")\n",
    "    dataframe_categoricas = dataframe.select_dtypes(include = \"O\")\n",
    "    \n",
    "    for col in dataframe_categoricas.columns:\n",
    "        print(f\"La columna {col} tiene las siguientes valore únicos:\")\n",
    "        display(pd.DataFrame(dataframe[col].value_counts()).head())    \n",
    "    \n",
    "    # como estamos en un problema de A/B testing y lo que realmente nos importa es comparar entre el grupo de control y el de test, los principales estadísticos los vamos a sacar de cada una de las categorías\n",
    "    \n",
    "    for categoria in dataframe[columna_control].unique():\n",
    "        \n",
    "        dataframe_filtrado = dataframe[dataframe[columna_control] == categoria]\n",
    "    \n",
    "        print(\"\\n ..................... \\n\")\n",
    "        print(f\"Los principales estadísticos de las columnas categóricas para el {categoria} son: \")\n",
    "        display(dataframe_filtrado.describe(include = \"O\").T)\n",
    "        \n",
    "        print(\"\\n ..................... \\n\")\n",
    "        print(f\"Los principales estadísticos de las columnas numéricas para el {categoria} son: \")\n",
    "        display(dataframe_filtrado.describe().T)"
   ]
  },
  {
   "cell_type": "code",
   "execution_count": 13,
   "metadata": {},
   "outputs": [
    {
     "name": "stdout",
     "output_type": "stream",
     "text": [
      "Los duplicados que tenemos en el conjunto de datos son: 0\n",
      "\n",
      " ..................... \n",
      "\n",
      "Los nulos que tenemos en el conjunto de datos son:\n"
     ]
    },
    {
     "data": {
      "text/plain": [
       "user_id          0.0\n",
       "test_group       0.0\n",
       "converted        0.0\n",
       "total_ads        0.0\n",
       "most_ads_day     0.0\n",
       "most_ads_hour    0.0\n",
       "Name: %_nulos, dtype: float64"
      ]
     },
     "metadata": {},
     "output_type": "display_data"
    },
    {
     "name": "stdout",
     "output_type": "stream",
     "text": [
      "\n",
      " ..................... \n",
      "\n",
      "Los tipos de las columnas son:\n"
     ]
    },
    {
     "data": {
      "text/html": [
       "<div>\n",
       "<style scoped>\n",
       "    .dataframe tbody tr th:only-of-type {\n",
       "        vertical-align: middle;\n",
       "    }\n",
       "\n",
       "    .dataframe tbody tr th {\n",
       "        vertical-align: top;\n",
       "    }\n",
       "\n",
       "    .dataframe thead th {\n",
       "        text-align: right;\n",
       "    }\n",
       "</style>\n",
       "<table border=\"1\" class=\"dataframe\">\n",
       "  <thead>\n",
       "    <tr style=\"text-align: right;\">\n",
       "      <th></th>\n",
       "      <th>tipo_dato</th>\n",
       "    </tr>\n",
       "  </thead>\n",
       "  <tbody>\n",
       "    <tr>\n",
       "      <th>user_id</th>\n",
       "      <td>int64</td>\n",
       "    </tr>\n",
       "    <tr>\n",
       "      <th>test_group</th>\n",
       "      <td>object</td>\n",
       "    </tr>\n",
       "    <tr>\n",
       "      <th>converted</th>\n",
       "      <td>bool</td>\n",
       "    </tr>\n",
       "    <tr>\n",
       "      <th>total_ads</th>\n",
       "      <td>int64</td>\n",
       "    </tr>\n",
       "    <tr>\n",
       "      <th>most_ads_day</th>\n",
       "      <td>object</td>\n",
       "    </tr>\n",
       "    <tr>\n",
       "      <th>most_ads_hour</th>\n",
       "      <td>int64</td>\n",
       "    </tr>\n",
       "  </tbody>\n",
       "</table>\n",
       "</div>"
      ],
      "text/plain": [
       "              tipo_dato\n",
       "user_id           int64\n",
       "test_group       object\n",
       "converted          bool\n",
       "total_ads         int64\n",
       "most_ads_day     object\n",
       "most_ads_hour     int64"
      ]
     },
     "metadata": {},
     "output_type": "display_data"
    },
    {
     "name": "stdout",
     "output_type": "stream",
     "text": [
      "\n",
      " ..................... \n",
      "\n",
      "Los valores que tenemos para las columnas categóricas son: \n",
      "La columna test_group tiene las siguientes valore únicos:\n"
     ]
    },
    {
     "data": {
      "text/html": [
       "<div>\n",
       "<style scoped>\n",
       "    .dataframe tbody tr th:only-of-type {\n",
       "        vertical-align: middle;\n",
       "    }\n",
       "\n",
       "    .dataframe tbody tr th {\n",
       "        vertical-align: top;\n",
       "    }\n",
       "\n",
       "    .dataframe thead th {\n",
       "        text-align: right;\n",
       "    }\n",
       "</style>\n",
       "<table border=\"1\" class=\"dataframe\">\n",
       "  <thead>\n",
       "    <tr style=\"text-align: right;\">\n",
       "      <th></th>\n",
       "      <th>test_group</th>\n",
       "    </tr>\n",
       "  </thead>\n",
       "  <tbody>\n",
       "    <tr>\n",
       "      <th>ad</th>\n",
       "      <td>564577</td>\n",
       "    </tr>\n",
       "    <tr>\n",
       "      <th>psa</th>\n",
       "      <td>23524</td>\n",
       "    </tr>\n",
       "  </tbody>\n",
       "</table>\n",
       "</div>"
      ],
      "text/plain": [
       "     test_group\n",
       "ad       564577\n",
       "psa       23524"
      ]
     },
     "metadata": {},
     "output_type": "display_data"
    },
    {
     "name": "stdout",
     "output_type": "stream",
     "text": [
      "La columna most_ads_day tiene las siguientes valore únicos:\n"
     ]
    },
    {
     "data": {
      "text/html": [
       "<div>\n",
       "<style scoped>\n",
       "    .dataframe tbody tr th:only-of-type {\n",
       "        vertical-align: middle;\n",
       "    }\n",
       "\n",
       "    .dataframe tbody tr th {\n",
       "        vertical-align: top;\n",
       "    }\n",
       "\n",
       "    .dataframe thead th {\n",
       "        text-align: right;\n",
       "    }\n",
       "</style>\n",
       "<table border=\"1\" class=\"dataframe\">\n",
       "  <thead>\n",
       "    <tr style=\"text-align: right;\">\n",
       "      <th></th>\n",
       "      <th>most_ads_day</th>\n",
       "    </tr>\n",
       "  </thead>\n",
       "  <tbody>\n",
       "    <tr>\n",
       "      <th>Friday</th>\n",
       "      <td>92608</td>\n",
       "    </tr>\n",
       "    <tr>\n",
       "      <th>Monday</th>\n",
       "      <td>87073</td>\n",
       "    </tr>\n",
       "    <tr>\n",
       "      <th>Sunday</th>\n",
       "      <td>85391</td>\n",
       "    </tr>\n",
       "    <tr>\n",
       "      <th>Thursday</th>\n",
       "      <td>82982</td>\n",
       "    </tr>\n",
       "    <tr>\n",
       "      <th>Saturday</th>\n",
       "      <td>81660</td>\n",
       "    </tr>\n",
       "  </tbody>\n",
       "</table>\n",
       "</div>"
      ],
      "text/plain": [
       "          most_ads_day\n",
       "Friday           92608\n",
       "Monday           87073\n",
       "Sunday           85391\n",
       "Thursday         82982\n",
       "Saturday         81660"
      ]
     },
     "metadata": {},
     "output_type": "display_data"
    },
    {
     "name": "stdout",
     "output_type": "stream",
     "text": [
      "\n",
      " ..................... \n",
      "\n",
      "Los principales estadísticos de las columnas categóricas para el ad son: \n"
     ]
    },
    {
     "data": {
      "text/html": [
       "<div>\n",
       "<style scoped>\n",
       "    .dataframe tbody tr th:only-of-type {\n",
       "        vertical-align: middle;\n",
       "    }\n",
       "\n",
       "    .dataframe tbody tr th {\n",
       "        vertical-align: top;\n",
       "    }\n",
       "\n",
       "    .dataframe thead th {\n",
       "        text-align: right;\n",
       "    }\n",
       "</style>\n",
       "<table border=\"1\" class=\"dataframe\">\n",
       "  <thead>\n",
       "    <tr style=\"text-align: right;\">\n",
       "      <th></th>\n",
       "      <th>count</th>\n",
       "      <th>unique</th>\n",
       "      <th>top</th>\n",
       "      <th>freq</th>\n",
       "    </tr>\n",
       "  </thead>\n",
       "  <tbody>\n",
       "    <tr>\n",
       "      <th>test_group</th>\n",
       "      <td>564577</td>\n",
       "      <td>1</td>\n",
       "      <td>ad</td>\n",
       "      <td>564577</td>\n",
       "    </tr>\n",
       "    <tr>\n",
       "      <th>most_ads_day</th>\n",
       "      <td>564577</td>\n",
       "      <td>7</td>\n",
       "      <td>Friday</td>\n",
       "      <td>88805</td>\n",
       "    </tr>\n",
       "  </tbody>\n",
       "</table>\n",
       "</div>"
      ],
      "text/plain": [
       "               count unique     top    freq\n",
       "test_group    564577      1      ad  564577\n",
       "most_ads_day  564577      7  Friday   88805"
      ]
     },
     "metadata": {},
     "output_type": "display_data"
    },
    {
     "name": "stdout",
     "output_type": "stream",
     "text": [
      "\n",
      " ..................... \n",
      "\n",
      "Los principales estadísticos de las columnas numéricas para el ad son: \n"
     ]
    },
    {
     "data": {
      "text/html": [
       "<div>\n",
       "<style scoped>\n",
       "    .dataframe tbody tr th:only-of-type {\n",
       "        vertical-align: middle;\n",
       "    }\n",
       "\n",
       "    .dataframe tbody tr th {\n",
       "        vertical-align: top;\n",
       "    }\n",
       "\n",
       "    .dataframe thead th {\n",
       "        text-align: right;\n",
       "    }\n",
       "</style>\n",
       "<table border=\"1\" class=\"dataframe\">\n",
       "  <thead>\n",
       "    <tr style=\"text-align: right;\">\n",
       "      <th></th>\n",
       "      <th>count</th>\n",
       "      <th>mean</th>\n",
       "      <th>std</th>\n",
       "      <th>min</th>\n",
       "      <th>25%</th>\n",
       "      <th>50%</th>\n",
       "      <th>75%</th>\n",
       "      <th>max</th>\n",
       "    </tr>\n",
       "  </thead>\n",
       "  <tbody>\n",
       "    <tr>\n",
       "      <th>user_id</th>\n",
       "      <td>564577.0</td>\n",
       "      <td>1.327314e+06</td>\n",
       "      <td>188918.061566</td>\n",
       "      <td>1000000.0</td>\n",
       "      <td>1163686.0</td>\n",
       "      <td>1327362.0</td>\n",
       "      <td>1490914.0</td>\n",
       "      <td>1654483.0</td>\n",
       "    </tr>\n",
       "    <tr>\n",
       "      <th>total_ads</th>\n",
       "      <td>564577.0</td>\n",
       "      <td>2.482337e+01</td>\n",
       "      <td>43.750456</td>\n",
       "      <td>1.0</td>\n",
       "      <td>4.0</td>\n",
       "      <td>13.0</td>\n",
       "      <td>27.0</td>\n",
       "      <td>2065.0</td>\n",
       "    </tr>\n",
       "    <tr>\n",
       "      <th>most_ads_hour</th>\n",
       "      <td>564577.0</td>\n",
       "      <td>1.447590e+01</td>\n",
       "      <td>4.841808</td>\n",
       "      <td>0.0</td>\n",
       "      <td>11.0</td>\n",
       "      <td>14.0</td>\n",
       "      <td>18.0</td>\n",
       "      <td>23.0</td>\n",
       "    </tr>\n",
       "  </tbody>\n",
       "</table>\n",
       "</div>"
      ],
      "text/plain": [
       "                  count          mean            std        min        25%  \\\n",
       "user_id        564577.0  1.327314e+06  188918.061566  1000000.0  1163686.0   \n",
       "total_ads      564577.0  2.482337e+01      43.750456        1.0        4.0   \n",
       "most_ads_hour  564577.0  1.447590e+01       4.841808        0.0       11.0   \n",
       "\n",
       "                     50%        75%        max  \n",
       "user_id        1327362.0  1490914.0  1654483.0  \n",
       "total_ads           13.0       27.0     2065.0  \n",
       "most_ads_hour       14.0       18.0       23.0  "
      ]
     },
     "metadata": {},
     "output_type": "display_data"
    },
    {
     "name": "stdout",
     "output_type": "stream",
     "text": [
      "\n",
      " ..................... \n",
      "\n",
      "Los principales estadísticos de las columnas categóricas para el psa son: \n"
     ]
    },
    {
     "data": {
      "text/html": [
       "<div>\n",
       "<style scoped>\n",
       "    .dataframe tbody tr th:only-of-type {\n",
       "        vertical-align: middle;\n",
       "    }\n",
       "\n",
       "    .dataframe tbody tr th {\n",
       "        vertical-align: top;\n",
       "    }\n",
       "\n",
       "    .dataframe thead th {\n",
       "        text-align: right;\n",
       "    }\n",
       "</style>\n",
       "<table border=\"1\" class=\"dataframe\">\n",
       "  <thead>\n",
       "    <tr style=\"text-align: right;\">\n",
       "      <th></th>\n",
       "      <th>count</th>\n",
       "      <th>unique</th>\n",
       "      <th>top</th>\n",
       "      <th>freq</th>\n",
       "    </tr>\n",
       "  </thead>\n",
       "  <tbody>\n",
       "    <tr>\n",
       "      <th>test_group</th>\n",
       "      <td>23524</td>\n",
       "      <td>1</td>\n",
       "      <td>psa</td>\n",
       "      <td>23524</td>\n",
       "    </tr>\n",
       "    <tr>\n",
       "      <th>most_ads_day</th>\n",
       "      <td>23524</td>\n",
       "      <td>7</td>\n",
       "      <td>Thursday</td>\n",
       "      <td>3905</td>\n",
       "    </tr>\n",
       "  </tbody>\n",
       "</table>\n",
       "</div>"
      ],
      "text/plain": [
       "              count unique       top   freq\n",
       "test_group    23524      1       psa  23524\n",
       "most_ads_day  23524      7  Thursday   3905"
      ]
     },
     "metadata": {},
     "output_type": "display_data"
    },
    {
     "name": "stdout",
     "output_type": "stream",
     "text": [
      "\n",
      " ..................... \n",
      "\n",
      "Los principales estadísticos de las columnas numéricas para el psa son: \n"
     ]
    },
    {
     "data": {
      "text/html": [
       "<div>\n",
       "<style scoped>\n",
       "    .dataframe tbody tr th:only-of-type {\n",
       "        vertical-align: middle;\n",
       "    }\n",
       "\n",
       "    .dataframe tbody tr th {\n",
       "        vertical-align: top;\n",
       "    }\n",
       "\n",
       "    .dataframe thead th {\n",
       "        text-align: right;\n",
       "    }\n",
       "</style>\n",
       "<table border=\"1\" class=\"dataframe\">\n",
       "  <thead>\n",
       "    <tr style=\"text-align: right;\">\n",
       "      <th></th>\n",
       "      <th>count</th>\n",
       "      <th>mean</th>\n",
       "      <th>std</th>\n",
       "      <th>min</th>\n",
       "      <th>25%</th>\n",
       "      <th>50%</th>\n",
       "      <th>75%</th>\n",
       "      <th>max</th>\n",
       "    </tr>\n",
       "  </thead>\n",
       "  <tbody>\n",
       "    <tr>\n",
       "      <th>user_id</th>\n",
       "      <td>23524.0</td>\n",
       "      <td>911761.500000</td>\n",
       "      <td>6790.938202</td>\n",
       "      <td>900000.0</td>\n",
       "      <td>905880.75</td>\n",
       "      <td>911761.5</td>\n",
       "      <td>917642.25</td>\n",
       "      <td>923523.0</td>\n",
       "    </tr>\n",
       "    <tr>\n",
       "      <th>total_ads</th>\n",
       "      <td>23524.0</td>\n",
       "      <td>24.761138</td>\n",
       "      <td>42.860720</td>\n",
       "      <td>1.0</td>\n",
       "      <td>4.00</td>\n",
       "      <td>12.0</td>\n",
       "      <td>26.00</td>\n",
       "      <td>907.0</td>\n",
       "    </tr>\n",
       "    <tr>\n",
       "      <th>most_ads_hour</th>\n",
       "      <td>23524.0</td>\n",
       "      <td>14.304923</td>\n",
       "      <td>4.656239</td>\n",
       "      <td>0.0</td>\n",
       "      <td>11.00</td>\n",
       "      <td>14.0</td>\n",
       "      <td>18.00</td>\n",
       "      <td>23.0</td>\n",
       "    </tr>\n",
       "  </tbody>\n",
       "</table>\n",
       "</div>"
      ],
      "text/plain": [
       "                 count           mean          std       min        25%  \\\n",
       "user_id        23524.0  911761.500000  6790.938202  900000.0  905880.75   \n",
       "total_ads      23524.0      24.761138    42.860720       1.0       4.00   \n",
       "most_ads_hour  23524.0      14.304923     4.656239       0.0      11.00   \n",
       "\n",
       "                    50%        75%       max  \n",
       "user_id        911761.5  917642.25  923523.0  \n",
       "total_ads          12.0      26.00     907.0  \n",
       "most_ads_hour      14.0      18.00      23.0  "
      ]
     },
     "metadata": {},
     "output_type": "display_data"
    }
   ],
   "source": [
    "exploracion_dataframe(df_copia,\"test_group\")"
   ]
  },
  {
   "cell_type": "code",
   "execution_count": 14,
   "metadata": {},
   "outputs": [],
   "source": [
    "#Cambiamos la columna de \"converted\" de booleano a object\n",
    "# mapa = {True: \"Yes\", False: \"No\"}\n",
    "\n",
    "# df_copia[\"converted\"] = df_copia[\"converted\"].map(mapa)\n",
    "\n",
    "# #Comprovabmos que se ha cambiado el tipo\n",
    "# df_copia[\"converted\"].dtypes\n",
    "\n",
    "# #Verificamos que son los mismos valores\n",
    "# df_copia[\"converted\"].value_counts()"
   ]
  },
  {
   "cell_type": "code",
   "execution_count": 15,
   "metadata": {},
   "outputs": [],
   "source": [
    "#2. Definición de hipótesis\n",
    "#Hipótesis nula (H0): No hay diferencia significativa en la tasa de conversión entre los grupos de prueba \"ad\" y \"psa\".\n",
    "#Hipótesis alternativa (H1): Existe una diferencia significativa en la tasa de conversión entre los grupos de prueba \"ad\" y \"psa\""
   ]
  },
  {
   "cell_type": "code",
   "execution_count": 16,
   "metadata": {},
   "outputs": [
    {
     "data": {
      "text/plain": [
       "0.01785410644448223"
      ]
     },
     "execution_count": 16,
     "metadata": {},
     "output_type": "execute_result"
    }
   ],
   "source": [
    "#3. Cálculo de la tasa de conversión\n",
    "df_control = df_copia[df_copia[\"test_group\"] == \"psa\"]\n",
    "df_control_converted = df_control[df_control[\"converted\"] == True]\n",
    "conversion_control = df_control_converted.shape[0] / df_control.shape[0]\n",
    "conversion_control"
   ]
  },
  {
   "cell_type": "code",
   "execution_count": 17,
   "metadata": {},
   "outputs": [
    {
     "data": {
      "text/plain": [
       "0.025546559636683747"
      ]
     },
     "execution_count": 17,
     "metadata": {},
     "output_type": "execute_result"
    }
   ],
   "source": [
    "df_test = df[df[\"test_group\"] == \"ad\"]\n",
    "df_test_converted = df_test[df_test[\"converted\"] == True]\n",
    "conversion_test = df_test_converted.shape[0] / df_test.shape[0]\n",
    "conversion_test"
   ]
  },
  {
   "cell_type": "code",
   "execution_count": 29,
   "metadata": {},
   "outputs": [
    {
     "data": {
      "image/png": "[encoded data removed]",
      "text/plain": [
       "<Figure size 1440x360 with 2 Axes>"
      ]
     },
     "metadata": {},
     "output_type": "display_data"
    }
   ],
   "source": [
    "fig, axes = plt.subplots(nrows=2, ncols=1, figsize=(20, 5), sharex=True)\n",
    "\n",
    "# Gráfico 1: Tasa de conversión grupo control\n",
    "a = sns.countplot(y=\"test_group\", hue=\"converted\", data=df_control, ax=axes[0])\n",
    "axes[0].set_title(\"Conversión grupo control\")\n",
    "for container in a.containers: #esto es para que aparezcan los valores en el bin\n",
    "    a.bar_label(container)\n",
    "\n",
    "# Gráfico 2: Tasa de Conversión grupo test\n",
    "b = sns.countplot(y=\"test_group\", hue=\"converted\", data=df_test, ax=axes[1])\n",
    "axes[1].set_title(\"Conversión grupo test\")\n",
    "for container in b.containers:\n",
    "    a.bar_label(container);"
   ]
  },
  {
   "cell_type": "code",
   "execution_count": 30,
   "metadata": {},
   "outputs": [],
   "source": [
    "#Otra opción del gráfico con las barras en vertical\n",
    "# fig, axes = plt.subplots(nrows=1, ncols=2, figsize=(20, 50), sharey=True)\n",
    "\n",
    "\n",
    "# # Gráfico 1: Tasa de conversión grupo control\n",
    "# sns.countplot(x=\"test_group\", hue=\"converted\", data=df_control, ax=axes[0])\n",
    "# axes[0].set_title(\"Conversión grupo control\")\n",
    "\n",
    "# # Gráfico 2: Tasa de Conversión grupo test\n",
    "# sns.countplot(x=\"test_group\", hue=\"converted\", data=df_test, ax=axes[1])\n",
    "# axes[1].set_title(\"Conversión grupo test\");"
   ]
  },
  {
   "cell_type": "code",
   "execution_count": 31,
   "metadata": {},
   "outputs": [],
   "source": [
    "#4. Prueba de hipótesis para comparar las tasas de conversión\n",
    "#Utilizamos el t-student si nuestro KPI cumple las condiciones de normalidad, homogeneidad de varianzas e independencia. Sino cumple con alguno de estas 3 condiciones, tendríamos q utilizar test no paramétrico como chicuadrado"
   ]
  },
  {
   "cell_type": "code",
   "execution_count": 32,
   "metadata": {},
   "outputs": [],
   "source": [
    "# Paso 4.1 Verificar la normalidad, homogeneidad de varianzas e independencia\n",
    "\n",
    "#A. NORMALIDAD con Kolmogrov\n",
    "\n",
    "def normalidad(dataframe, columna):\n",
    "    statistic, p_value = kstest(dataframe[columna], \"norm\")\n",
    "    if p_value > 0.05:\n",
    "        print(f\"Para la columna {columna} los datos siguen una distribución normal.\")\n",
    "    else:\n",
    "        print(f\"Para la columna {columna} los datos no siguen una distribución normal.\")"
   ]
  },
  {
   "cell_type": "code",
   "execution_count": 33,
   "metadata": {},
   "outputs": [
    {
     "name": "stdout",
     "output_type": "stream",
     "text": [
      "Para la columna converted los datos no siguen una distribución normal.\n"
     ]
    }
   ],
   "source": [
    "normalidad(df_copia, \"converted\")"
   ]
  },
  {
   "cell_type": "code",
   "execution_count": 22,
   "metadata": {},
   "outputs": [
    {
     "name": "stdout",
     "output_type": "stream",
     "text": [
      "Para la columna converted los datos no siguen una distribución normal.\n"
     ]
    }
   ],
   "source": [
    "normalidad(df_control, \"converted\")"
   ]
  },
  {
   "cell_type": "code",
   "execution_count": 23,
   "metadata": {},
   "outputs": [
    {
     "name": "stdout",
     "output_type": "stream",
     "text": [
      "Para la columna converted los datos no siguen una distribución normal.\n"
     ]
    }
   ],
   "source": [
    "normalidad(df_test, \"converted\")"
   ]
  },
  {
   "cell_type": "code",
   "execution_count": 24,
   "metadata": {},
   "outputs": [],
   "source": [
    "#Puesto que no sigue una distribución normal, no tenemos que hacer los test the homogeneidad de varianza e independencia y habría que hacer directamente bien Chi Cuadrado (con proporciones)  o la prueba de ManWhitney"
   ]
  },
  {
   "cell_type": "code",
   "execution_count": 34,
   "metadata": {},
   "outputs": [
    {
     "data": {
      "text/plain": [
       "1.7053617930171878e-13"
      ]
     },
     "execution_count": 34,
     "metadata": {},
     "output_type": "execute_result"
    }
   ],
   "source": [
    "#Calculamos el pvalor con MannWhitney\n",
    "statistic, pvalue = stats.mannwhitneyu(df_control[\"converted\"], df_test[\"converted\"])\n",
    "pvalue"
   ]
  },
  {
   "cell_type": "code",
   "execution_count": 35,
   "metadata": {},
   "outputs": [],
   "source": [
    "#Aunque únicamente es necesario hacer una de las 2 pruebas, bien ManWhitney and Chicuadrado, vemos que el pvalor es similar y menor a 0.05, lo que indica que las medias son significativamente diferentes, se rechaza la hipótesis nula y por lo que se recomienda el uso de la campaña \"ad\" (testeado bajo al grupo test) ya que tiene una mayor conversión"
   ]
  },
  {
   "cell_type": "markdown",
   "metadata": {},
   "source": [
    "## Ejercicio 2:\n",
    "\n",
    "En este caso, vamos a realizar un experimento para comparar la cantidad promedio de anuncios vistos por los usuarios en los grupos \"ad\" y \"psa\" y determinar si hay una diferencia significativa entre ellos.\n",
    "\n",
    "**Objetivo del experimento: \n",
    "Comparar la cantidad promedio de anuncios vistos por usuario entre los grupos de prueba \"ad\" y \"psa\" para determinar si el tipo de anuncio afecta la cantidad de anuncios que los usuarios ven.\n",
    "\n",
    "1. Preparación de los datos: \n",
    "Asegúrate de que los datos estén limpios y listos para el análisis. Esto incluye la eliminación de datos faltantes y la verificación de la coherencia de los datos.\n",
    "\n",
    "2. Hipótesis:\n",
    "Plantea una hipótesis nula (H0) y una hipótesis alternativa (H1) para el experimento. En este caso, las deberéis plantear vosotras\n",
    "\n",
    "3. Prueba de hipótesis: \n",
    "Utiliza una prueba estadística, como la prueba t de Student, para comparar la cantidad promedio de anuncios vistos por usuario entre los grupos \"ad\" y \"psa\". Esto te permitirá determinar si hay una diferencia significativa entre los dos grupos.\n",
    "\n",
    "4. Análisis de resultados:\n",
    "- Si el valor p (p-value) es menor que un umbral predefinido (por ejemplo, 0.05), rechazamos la hipótesis nula y concluimos que hay una diferencia significativa en la cantidad promedio de anuncios vistos por usuario entre los grupos.\n",
    "- Si el valor p es mayor que el umbral, no podemos rechazar la hipótesis nula y concluimos que no hay evidencia suficiente para afirmar que hay una diferencia significativa.\n",
    "\n",
    "5. Conclusiones y recomendaciones: \n",
    "Basándote en los resultados de la prueba de hipótesis, llega a una conclusión sobre si el tipo de anuncio (ad o psa) tiene un impacto significativo en la cantidad promedio de anuncios vistos por usuario. Si es así, puedes hacer recomendaciones basadas en estos hallazgos."
   ]
  },
  {
   "cell_type": "code",
   "execution_count": 36,
   "metadata": {},
   "outputs": [],
   "source": [
    "# 2. Definición de hipótesis\n",
    "# - H0: No existe una diferencia significativa entre la cantidad promedio de anuncios vistos por los grupos de control y de test\n",
    "# - H1: Existe una diferencia significativa entre la cantidad promedio de anuncios vistos por los grupos de control y de test"
   ]
  },
  {
   "cell_type": "code",
   "execution_count": 37,
   "metadata": {},
   "outputs": [
    {
     "name": "stdout",
     "output_type": "stream",
     "text": [
      "0.0\n",
      "Para la columna total_ads los datos no siguen una distribución normal.\n"
     ]
    }
   ],
   "source": [
    "# 3. Prueba de hipótesis\n",
    "\n",
    "# -- Primero hay que verificar la normalidad, homogeneidad de varianzas e independencia\n",
    "\n",
    "#A. NORMALIDAD con Kolmogrov\n",
    "\n",
    "def normalidad(dataframe, columna):\n",
    "    statistic, p_value = kstest(dataframe[columna], \"norm\")\n",
    "    print(p_value)\n",
    "    if p_value > 0.05:\n",
    "        print(f\"Para la columna {columna} los datos siguen una distribución normal.\")\n",
    "    else:\n",
    "        print(f\"Para la columna {columna} los datos no siguen una distribución normal.\")\n",
    "\n",
    "normalidad(df_copia, \"total_ads\")"
   ]
  },
  {
   "cell_type": "code",
   "execution_count": null,
   "metadata": {},
   "outputs": [],
   "source": [
    "#Puesto que el test de normalidad ya nos indica que no siguen una distribución normal, no podemos hacer el t-student. Hacemos chicuadrado"
   ]
  },
  {
   "cell_type": "code",
   "execution_count": 38,
   "metadata": {},
   "outputs": [
    {
     "name": "stdout",
     "output_type": "stream",
     "text": [
      "8.440244837014395e-26\n",
      "Hay una diferencia significativa en las tasas de conversión entre el Grupo de Control y el Grupo de Test.\n",
      "\n",
      " ---------- \n",
      "\n",
      "\n",
      "          Los resultados sugieren que existe evidencia estadística para afirmar que las medias de las muestras son distintas. \n",
      "          Por lo tanto, deberíamos cambiar a la versión de test (ad)   \n",
      "          \n"
     ]
    }
   ],
   "source": [
    "# 1. Crear una tabla de contingencia\n",
    "contingency_table = pd.crosstab(df_copia['test_group'], df_copia['total_ads'])\n",
    "\n",
    "# 2. Realizar la prueba de proporciones\n",
    "chi2, p_value, _, _ = chi2_contingency(contingency_table)\n",
    "print (p_value)\n",
    "\n",
    "# 3. Imprimir el resultado de la prueba\n",
    "alpha = 0.05\n",
    "if p_value < alpha:\n",
    "    print(\"Hay una diferencia significativa en las tasas de conversión entre el Grupo de Control y el Grupo de Test.\")\n",
    "    print(\"\\n ---------- \\n\")\n",
    "    print(\"\"\"\n",
    "          Los resultados sugieren que existe evidencia estadística para afirmar que las medias de las muestras son distintas. \n",
    "          Por lo tanto, deberíamos cambiar a la versión de test (ad)   \n",
    "          \"\"\")\n",
    "else:\n",
    "    print(\"No hay evidencia de una diferencia significativa en las tasas de conversión entre el Grupo de Control y el de Test.\")\n",
    "    print(\"\\n ---------- \\n\")\n",
    "    print(\"\"\" \n",
    "          Los resultados sugieren que no existe evidencia estadística para afirmar que las medias de las muestras son distintas,\n",
    "          por lo que el nuevo test, ad, no está ayudando a nuestro problema. \n",
    "          \"\"\")"
   ]
  },
  {
   "cell_type": "code",
   "execution_count": 39,
   "metadata": {},
   "outputs": [],
   "source": [
    "#Puesto que el pvalor es menor que 0.05, esto nos indica que sí existe una diferencia significativa entre las media de anuncios en ambos grupos"
   ]
  }
 ],
 "metadata": {
  "kernelspec": {
   "display_name": "base",
   "language": "python",
   "name": "python3"
  },
  "language_info": {
   "codemirror_mode": {
    "name": "ipython",
    "version": 3
   },
   "file_extension": ".py",
   "mimetype": "text/x-python",
   "name": "python",
   "nbconvert_exporter": "python",
   "pygments_lexer": "ipython3",
   "version": "3.9.7"
  }
 },
 "nbformat": 4,
 "nbformat_minor": 2
}
