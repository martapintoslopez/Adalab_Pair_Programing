{
 "cells": [
  {
   "cell_type": "markdown",
   "metadata": {},
   "source": [
    "EJERCICIOS BUCLES FOR"
   ]
  },
  {
   "cell_type": "markdown",
   "metadata": {},
   "source": [
    "1. Imprimir los números del 1 al 5 utilizando un bucle for\n",
    "\n",
    "Descripción: Utiliza un bucle for para imprimir los números del 1 al 50 (incluido) en orden ascendente."
   ]
  },
  {
   "cell_type": "code",
   "execution_count": 5,
   "metadata": {},
   "outputs": [
    {
     "name": "stdout",
     "output_type": "stream",
     "text": [
      "1\n",
      "2\n",
      "3\n",
      "4\n",
      "5\n",
      "6\n",
      "7\n",
      "8\n",
      "9\n",
      "10\n",
      "11\n",
      "12\n",
      "13\n",
      "14\n",
      "15\n",
      "16\n",
      "17\n",
      "18\n",
      "19\n",
      "20\n",
      "21\n",
      "22\n",
      "23\n",
      "24\n",
      "25\n",
      "26\n",
      "27\n",
      "28\n",
      "29\n",
      "30\n",
      "31\n",
      "32\n",
      "33\n",
      "34\n",
      "35\n",
      "36\n",
      "37\n",
      "38\n",
      "39\n",
      "40\n",
      "41\n",
      "42\n",
      "43\n",
      "44\n",
      "45\n",
      "46\n",
      "47\n",
      "48\n",
      "49\n",
      "50\n"
     ]
    }
   ],
   "source": [
    "for num in range(1,51):\n",
    "    print(num)\n",
    "\n",
    "    "
   ]
  },
  {
   "cell_type": "markdown",
   "metadata": {},
   "source": [
    "2. Calcular la suma de los primeros 10 números naturales utilizando un bucle for\n",
    "\n",
    "Descripción: Utiliza un bucle for para calcular la suma de los primeros 10 números naturales (1 + 2 + 3 + ... + 10)."
   ]
  },
  {
   "cell_type": "code",
   "execution_count": 6,
   "metadata": {},
   "outputs": [
    {
     "name": "stdout",
     "output_type": "stream",
     "text": [
      "La suma de los primeros 10 números es 55\n"
     ]
    }
   ],
   "source": [
    "lista = []\n",
    "\n",
    "for num in range (1,11):\n",
    "    lista.append(num)\n",
    "    \n",
    "print ('La suma de los primeros 10 números es',sum(lista))\n"
   ]
  },
  {
   "cell_type": "markdown",
   "metadata": {},
   "source": [
    "3. Calcular el producto de los elementos de una lista\n",
    "\n",
    "Descripción: Dada una lista de números, utiliza un bucle for para calcular el producto de todos los elementos."
   ]
  },
  {
   "cell_type": "code",
   "execution_count": 7,
   "metadata": {},
   "outputs": [
    {
     "name": "stdout",
     "output_type": "stream",
     "text": [
      "[1, 2, 3, 4, 5, 6, 7, 8, 9, 10]\n",
      "El producto de los elementos de nuestra lista es: 3,628,800\n"
     ]
    }
   ],
   "source": [
    "print(lista)\n",
    "multi = 1\n",
    "\n",
    "for num in lista:\n",
    "    multi = multi*num\n",
    "\n",
    "print(f'El producto de los elementos de nuestra lista es: {multi:,}')\n"
   ]
  },
  {
   "cell_type": "markdown",
   "metadata": {},
   "source": [
    "4. Imprimir los caracteres de una cadena de texto\n",
    "\n",
    "Descripción: Dada una cadena de texto, utiliza un bucle for para imprimir cada carácter en una línea separada."
   ]
  },
  {
   "cell_type": "code",
   "execution_count": 8,
   "metadata": {},
   "outputs": [
    {
     "name": "stdout",
     "output_type": "stream",
     "text": [
      "S\n",
      "o\n",
      "m\n",
      "o\n",
      "s\n",
      " \n",
      "e\n",
      "l\n",
      " \n",
      "e\n",
      "q\n",
      "u\n",
      "i\n",
      "p\n",
      "o\n",
      " \n",
      "M\n",
      "a\n",
      "r\n",
      "t\n",
      "a\n",
      " \n",
      "y\n",
      " \n",
      "R\n",
      "o\n",
      "c\n",
      "i\n",
      "o\n"
     ]
    }
   ],
   "source": [
    "txt = 'Somos el equipo Marta y Rocio'\n",
    "\n",
    "for letra in txt:\n",
    "    print(letra)"
   ]
  },
  {
   "cell_type": "markdown",
   "metadata": {},
   "source": [
    "5. Imprimir los números pares del 1 al 100 utilizando un bucle for\n",
    "\n",
    "Descripción: Utiliza un bucle for para imprimir los números pares del 1 al 100 en orden ascendente."
   ]
  },
  {
   "cell_type": "code",
   "execution_count": 9,
   "metadata": {},
   "outputs": [
    {
     "name": "stdout",
     "output_type": "stream",
     "text": [
      "2\n",
      "4\n",
      "6\n",
      "8\n",
      "10\n",
      "12\n",
      "14\n",
      "16\n",
      "18\n",
      "20\n",
      "22\n",
      "24\n",
      "26\n",
      "28\n",
      "30\n",
      "32\n",
      "34\n",
      "36\n",
      "38\n",
      "40\n",
      "42\n",
      "44\n",
      "46\n",
      "48\n",
      "50\n",
      "52\n",
      "54\n",
      "56\n",
      "58\n",
      "60\n",
      "62\n",
      "64\n",
      "66\n",
      "68\n",
      "70\n",
      "72\n",
      "74\n",
      "76\n",
      "78\n",
      "80\n",
      "82\n",
      "84\n",
      "86\n",
      "88\n",
      "90\n",
      "92\n",
      "94\n",
      "96\n",
      "98\n",
      "100\n"
     ]
    }
   ],
   "source": [
    "for num in range(2,101,2):\n",
    "    print(num)\n"
   ]
  },
  {
   "cell_type": "markdown",
   "metadata": {},
   "source": [
    "6. Imprimir los números primos del 1 al 50 utilizando un bucle for\n",
    "\n",
    "Descripción: Utiliza un bucle for para imprimir los números primos del 1 al 50 en orden ascendente.\n",
    "\n",
    "NOTA: Según la Wikipedia, un número primo es un número natural mayor que 1 que no tiene divisores positivos más que 1 y él mismo."
   ]
  },
  {
   "cell_type": "code",
   "execution_count": 10,
   "metadata": {},
   "outputs": [
    {
     "name": "stdout",
     "output_type": "stream",
     "text": [
      "2\n",
      "3\n",
      "5\n",
      "7\n",
      "11\n",
      "13\n",
      "17\n",
      "19\n",
      "23\n",
      "29\n",
      "31\n",
      "37\n",
      "41\n",
      "43\n",
      "47\n"
     ]
    }
   ],
   "source": [
    "for numero in range (2,51):\n",
    "    cont = 0\n",
    "    num = 2\n",
    "    \n",
    "    while num < numero and cont == 0:\n",
    "        resto = numero % num\n",
    "        if resto == 0:\n",
    "            cont += 1\n",
    "        \n",
    "        num += 1\n",
    "        \n",
    "    if cont == 0:\n",
    "        print(numero)\n",
    "        "
   ]
  },
  {
   "cell_type": "markdown",
   "metadata": {},
   "source": [
    "7. Calcular el factorial de un número utilizando un bucle for\n",
    "\n",
    "Descripción: Dado un número entero positivo, calcula su factorial utilizando un bucle for."
   ]
  },
  {
   "cell_type": "code",
   "execution_count": 11,
   "metadata": {},
   "outputs": [
    {
     "name": "stdout",
     "output_type": "stream",
     "text": [
      "[1, 2, 3, 4, 5, 6, 7, 8]\n",
      "\n",
      "El factorial de 8 es: 40,320\n"
     ]
    }
   ],
   "source": [
    "num2 = 8\n",
    "\n",
    "factorial = []\n",
    "\n",
    "for x in range (1,num2+1):\n",
    "    factorial.append(x)\n",
    "print (factorial)\n",
    "\n",
    "multi = 1\n",
    "\n",
    "for num in factorial:\n",
    "    multi = multi*num\n",
    "\n",
    "print(f'\\nEl factorial de {num2} es: {multi:,}')"
   ]
  },
  {
   "cell_type": "markdown",
   "metadata": {},
   "source": [
    "8. Juego de adivinar palabras utilizando un bucle for\n",
    "\n",
    "Descripción: Crea un juego en el que el jugador debe adivinar una palabra secreta.\n",
    "\n",
    "El jugador tiene un número limitado de intentos y se le proporcionan pistas después de cada intento. \n",
    "\n",
    "Utiliza un bucle for para controlar los intentos del jugador."
   ]
  },
  {
   "cell_type": "code",
   "execution_count": 17,
   "metadata": {},
   "outputs": [
    {
     "name": "stdout",
     "output_type": "stream",
     "text": [
      "Has acertado! La letra a está en la palabra 2 vez/veces\n",
      "Has acertado! La letra c está en la palabra 1 vez/veces\n",
      "Casi! La palabra secreta tiene 4 letras\n",
      "Casi! La palabra secreta comienza por c\n",
      "NO HAS ACERTADO :( La palabra secreta es cama\n"
     ]
    }
   ],
   "source": [
    "palabrasecreta = 'cama'\n",
    "\n",
    "listapalabrasecreta = list(palabrasecreta)\n",
    "\n",
    "intentos = 7\n",
    "error = 0\n",
    "\n",
    "\n",
    "\n",
    "for l in range(len(listapalabrasecreta)):\n",
    "    palabrajugador = input (\"Adivina la palabra\")\n",
    "    \n",
    "    while palabrajugador != palabrasecreta and intentos >0:\n",
    "        letra = input ('Dinos una letra de la palabra secreta')\n",
    "        if letra in listapalabrasecreta:\n",
    "            intentos -= 1\n",
    "            print (f'Has acertado! La letra {letra} está en la palabra {listapalabrasecreta.count(letra)} vez/veces')\n",
    "        \n",
    "        else:\n",
    "            error += 1\n",
    "            intentos -= 1\n",
    "        \n",
    "            if error == 1:\n",
    "                print (f'Casi! La palabra secreta tiene {len(listapalabrasecreta)} letras')\n",
    "        \n",
    "            elif error == 2:\n",
    "                print (f'Casi! La palabra secreta comienza por {listapalabrasecreta[0]}')\n",
    "    \n",
    "        palabrajugador = input (\"Adivina la palabra\")\n",
    "            \n",
    "        \n",
    "if palabrajugador == palabrasecreta:\n",
    "    print (f'HAS GANADO!!! La palabra secreta es {palabrasecreta}')\n",
    "else:\n",
    "    print (f'NO HAS ACERTADO :( La palabra secreta es {palabrasecreta}')\n",
    "\n",
    "#¿? pendiente revisión"
   ]
  },
  {
   "cell_type": "markdown",
   "metadata": {},
   "source": [
    "EJERCICIOS LIST COMPREHENSION"
   ]
  },
  {
   "cell_type": "markdown",
   "metadata": {},
   "source": [
    "1. Generar una lista de los números pares del 1 al 20.\n",
    "\n",
    "Descripción: Utiliza list comprehension para generar una lista que contenga todos los números pares en el rango del 1 al 20."
   ]
  },
  {
   "cell_type": "code",
   "execution_count": 18,
   "metadata": {},
   "outputs": [
    {
     "name": "stdout",
     "output_type": "stream",
     "text": [
      "[0, 2, 4, 6, 8, 10, 12, 14, 16, 18, 20]\n"
     ]
    }
   ],
   "source": [
    "pares = [numero for numero in range (0,21,2)]\n",
    "print (pares)"
   ]
  },
  {
   "cell_type": "markdown",
   "metadata": {},
   "source": [
    "2. Obtener una lista de las vocales en una cadena de texto.\n",
    "\n",
    "Descripción: Utiliza list comprehension para crear una lista que contenga todas las vocales presentes en una cadena de texto (sin repetición)."
   ]
  },
  {
   "cell_type": "code",
   "execution_count": 46,
   "metadata": {},
   "outputs": [
    {
     "name": "stdout",
     "output_type": "stream",
     "text": [
      "['a', 'i', 'o']\n"
     ]
    }
   ],
   "source": [
    "cadena = 'pair programming'\n",
    "listacadena = list (cadena)\n",
    "vocales = ['a','e','i','o','u']\n",
    "\n",
    "vocalescadena = []\n",
    "for letras in listacadena:\n",
    "    if letras in vocales:\n",
    "        vocalescadena.append(letras)       \n",
    "\n",
    "vocales_unicas = []\n",
    "[vocales_unicas.append(vocales) for vocales in vocalescadena if vocales not in vocales_unicas]\n",
    "print (vocales_unicas)\n",
    "\n"
   ]
  },
  {
   "cell_type": "markdown",
   "metadata": {},
   "source": [
    "3. Filtrar los números positivos de una lista y calcular su cuadrado.\n",
    "\n",
    "Descripción: Utiliza list comprehension para filtrar los números positivos de una lista y calcular el cuadrado de cada uno."
   ]
  },
  {
   "cell_type": "code",
   "execution_count": 49,
   "metadata": {},
   "outputs": [
    {
     "name": "stdout",
     "output_type": "stream",
     "text": [
      "[1, 4, 9, 16]\n"
     ]
    }
   ],
   "source": [
    "cuadrados = [num ** 2 for num in range (-5, 5) if num > 0]\n",
    "print (cuadrados)"
   ]
  },
  {
   "cell_type": "markdown",
   "metadata": {},
   "source": [
    "EJERCICIOS TRY ... EXCEPT"
   ]
  },
  {
   "cell_type": "markdown",
   "metadata": {},
   "source": [
    "1. Realizar una búsqueda en una lista y capturar una excepción en caso de valor no encontrado.\n",
    "\n",
    "Descripción: Solicita al usuario una lista de nombres y un nombre para buscar en la lista.\n",
    "\n",
    "Intenta encontrar el nombre en la lista y utiliza las sentencias try y except para capturar la excepción en caso de que el nombre no sea encontrado."
   ]
  },
  {
   "cell_type": "code",
   "execution_count": 79,
   "metadata": {},
   "outputs": [
    {
     "name": "stdout",
     "output_type": "stream",
     "text": [
      "Tu frutero no tiene meloc\n"
     ]
    }
   ],
   "source": [
    "frutero = ['pera','manzana','kiwi']\n",
    "fruta = 'meloc'\n",
    "\n",
    "if fruta in frutero:\n",
    "    print (f'Tu frutero tiene {fruta}')\n",
    "else:\n",
    "    print (f'Tu frutero no tiene {fruta}') \n",
    "\n",
    "# ¿? utilizar las sentencias try y except PARA CALCULAR LA EXCECPCIÓN"
   ]
  }
 ],
 "metadata": {
  "kernelspec": {
   "display_name": "base",
   "language": "python",
   "name": "python3"
  },
  "language_info": {
   "codemirror_mode": {
    "name": "ipython",
    "version": 3
   },
   "file_extension": ".py",
   "mimetype": "text/x-python",
   "name": "python",
   "nbconvert_exporter": "python",
   "pygments_lexer": "ipython3",
   "version": "3.9.7"
  }
 },
 "nbformat": 4,
 "nbformat_minor": 2
}
