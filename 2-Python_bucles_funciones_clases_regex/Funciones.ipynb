{
 "cells": [
  {
   "attachments": {
    "image-2.png": {
     "image/png": "[encoded data removed]"
    }
   },
   "cell_type": "markdown",
   "metadata": {},
   "source": [
    "1. Calcular el área de un círculo.\n",
    "\n",
    "Descripción: Crea una función llamada calcular_area_circulo que tome el radio como parámetro y devuelva el área del círculo.\n",
    "\n",
    "![image-2.png](attachment:image-2.png)"
   ]
  },
  {
   "cell_type": "code",
   "execution_count": 1,
   "metadata": {},
   "outputs": [
    {
     "name": "stdout",
     "output_type": "stream",
     "text": [
      "3.141592653589793\n"
     ]
    }
   ],
   "source": [
    "import math\n",
    "p = math.pi\n",
    "print(p)  "
   ]
  },
  {
   "cell_type": "code",
   "execution_count": 3,
   "metadata": {},
   "outputs": [
    {
     "data": {
      "text/plain": [
       "38.48451000647496"
      ]
     },
     "execution_count": 3,
     "metadata": {},
     "output_type": "execute_result"
    }
   ],
   "source": [
    "# Resolución sin función\n",
    "\n",
    "radio = float(3.5)\n",
    "\n",
    "area_circulo = p * (radio ** 2)\n",
    "area_circulo"
   ]
  },
  {
   "cell_type": "code",
   "execution_count": 5,
   "metadata": {},
   "outputs": [
    {
     "data": {
      "text/plain": [
       "7.0685834705770345"
      ]
     },
     "execution_count": 5,
     "metadata": {},
     "output_type": "execute_result"
    }
   ],
   "source": [
    "# Resolución con función\n",
    "\n",
    "def calcular_area_circulo(r):\n",
    "\n",
    "    area_circulo = p * (r ** 2)\n",
    "    return area_circulo\n",
    "\n",
    "radio = float(1.5)\n",
    "\n",
    "calcular_area_circulo(radio)\n"
   ]
  },
  {
   "cell_type": "markdown",
   "metadata": {},
   "source": [
    "2. Contar la cantidad de caracteres en una cadena.\n",
    "\n",
    "Descripción: Crea una función llamada contar_caracteres que tome una cadena como parámetro y devuelva la cantidad de caracteres que contiene."
   ]
  },
  {
   "cell_type": "code",
   "execution_count": 6,
   "metadata": {},
   "outputs": [
    {
     "data": {
      "text/plain": [
       "16"
      ]
     },
     "execution_count": 6,
     "metadata": {},
     "output_type": "execute_result"
    }
   ],
   "source": [
    "# Resolución sin función\n",
    "\n",
    "cadena = \"texto cualquiera\"\n",
    "\n",
    "len(cadena)"
   ]
  },
  {
   "cell_type": "code",
   "execution_count": 14,
   "metadata": {},
   "outputs": [
    {
     "name": "stdout",
     "output_type": "stream",
     "text": [
      "El texto 'cadena cualquiera' tiene 17 carecteres\n"
     ]
    }
   ],
   "source": [
    "# Resolución con función\n",
    "\n",
    "def contar_caracteres (cadena):\n",
    "    return len(cadena)\n",
    "\n",
    "texto = \"cadena cualquiera\"\n",
    "print(f\"El texto '{texto}' tiene {contar_caracteres(texto)} carecteres\")"
   ]
  },
  {
   "cell_type": "markdown",
   "metadata": {},
   "source": [
    "3. Determinar si una cadena es un palíndromo.\n",
    "\n",
    "Descripción: Crea una función llamada es_palindromo que tome una cadena como parámetro y devuelva True si es un palíndromo, o False si no lo es.\n",
    "\n",
    "Palíndromo: Palabra o frase cuyas letras están dispuestas de tal manera que resulta la misma leída de izquierda a derecha que de derecha a izquierda; p. ej., anilina"
   ]
  },
  {
   "cell_type": "code",
   "execution_count": 23,
   "metadata": {},
   "outputs": [
    {
     "name": "stdout",
     "output_type": "stream",
     "text": [
      "true\n"
     ]
    }
   ],
   "source": [
    "# Resolución sin función\n",
    "\n",
    "cadena = \"anilina\".lower()\n",
    "#cadena1 = \"Sé verlas al revés\".lower()\n",
    "\n",
    "cadena_al_reves = cadena[::-1]\n",
    "\n",
    "if cadena == cadena_al_reves:\n",
    "    print(\"true\")\n",
    "    True\n",
    "\n",
    "else:\n",
    "    print(\"false\")\n",
    "    False\n",
    "# ¿? Probar con cadena 1"
   ]
  },
  {
   "cell_type": "code",
   "execution_count": 25,
   "metadata": {},
   "outputs": [
    {
     "data": {
      "text/plain": [
       "True"
      ]
     },
     "execution_count": 25,
     "metadata": {},
     "output_type": "execute_result"
    }
   ],
   "source": [
    "# Resolución con función\n",
    "\n",
    "def es_palindromo (cadena):\n",
    "    cadena_al_reves = cadena[::-1]\n",
    "\n",
    "    if cadena == cadena_al_reves:\n",
    "        return True\n",
    "\n",
    "    else:\n",
    "        return False\n",
    "\n",
    "texto = \"anilina\".lower()\n",
    "es_palindromo(texto)"
   ]
  },
  {
   "cell_type": "markdown",
   "metadata": {},
   "source": [
    "4. Calcular el promedio de una lista de números.\n",
    "\n",
    "Descripción: Crea una función llamada calcular_promedio que tome una lista de números como parámetro y devuelva el promedio de todos sus elementos."
   ]
  },
  {
   "cell_type": "code",
   "execution_count": 29,
   "metadata": {},
   "outputs": [
    {
     "data": {
      "text/plain": [
       "4.4"
      ]
     },
     "execution_count": 29,
     "metadata": {},
     "output_type": "execute_result"
    }
   ],
   "source": [
    "def calcular_promedio(numeros):\n",
    "    suma = 0\n",
    "    for num in numeros:\n",
    "        suma += num\n",
    "    media = suma/len(numeros)\n",
    "    return media\n",
    "\n",
    "numeros = (10,2,3,4,3)\n",
    "\n",
    "calcular_promedio(numeros)"
   ]
  },
  {
   "cell_type": "markdown",
   "metadata": {},
   "source": [
    "5. Calcular el interés compuesto.\n",
    "\n",
    "Descripción: Crea una función llamada calcular_interes_compuesto que tome el capital inicial, la tasa de interés y el número de períodos como parámetros y devuelva el beneficio final después del interés compuesto."
   ]
  },
  {
   "cell_type": "code",
   "execution_count": 34,
   "metadata": {},
   "outputs": [
    {
     "data": {
      "text/plain": [
       "63.30971737830984"
      ]
     },
     "execution_count": 34,
     "metadata": {},
     "output_type": "execute_result"
    }
   ],
   "source": [
    "# Sin funcion\n",
    "\n",
    "capital_inicial = 100\n",
    "interes = 0.04172\n",
    "periodos = 12\n",
    "interes_compuesto = capital_inicial * ((1 + interes)** periodos)\n",
    "beneficio = interes_compuesto - capital_inicial\n",
    "beneficio"
   ]
  },
  {
   "cell_type": "code",
   "execution_count": 36,
   "metadata": {},
   "outputs": [
    {
     "name": "stdout",
     "output_type": "stream",
     "text": [
      "Tu beneficio es 63.30971737830984 €\n"
     ]
    }
   ],
   "source": [
    "# Con función\n",
    "\n",
    "def calcular_interes_compuesto(capital_inicial, interes, periodos):\n",
    "    interes_compuesto = capital_inicial * ((1 + interes)** periodos)\n",
    "    beneficio = interes_compuesto - capital_inicial\n",
    "    return beneficio\n",
    "\n",
    "CI = 100\n",
    "I = 0.04172\n",
    "tiempo = 12\n",
    "\n",
    "print(f\"Tu beneficio es {calcular_interes_compuesto(CI, I, tiempo)} €\")"
   ]
  },
  {
   "cell_type": "markdown",
   "metadata": {},
   "source": [
    "6. Validar si una palabra es un anagrama de otra.\n",
    "\n",
    "\n",
    "Descripción: Crea una función llamada es_anagrama que tome dos palabras como parámetros y devuelva True si una es un anagrama de la otra, o False si no lo es.\n",
    "\n",
    "Anagrama: Palabra o frase resultante de un anagrama o cambio en el orden de las letras, como de amor, Roma, o viceversa.\n",
    "          Cambio en el orden de las letras de una palabra o frase que da lugar a otra palabra o frase distinta."
   ]
  },
  {
   "cell_type": "code",
   "execution_count": 47,
   "metadata": {},
   "outputs": [
    {
     "name": "stdout",
     "output_type": "stream",
     "text": [
      "Son anagrama\n"
     ]
    }
   ],
   "source": [
    "palabra1 = \"seto\"\n",
    "lista_palabra1 = list(palabra1)\n",
    "\n",
    "palabra2 = \"esto\"\n",
    "lista_palabra2 = list(palabra2)\n",
    "\n",
    "lista_palabra1.sort()\n",
    "lista_palabra2.sort()\n",
    "\n",
    "if lista_palabra2 == lista_palabra1:\n",
    "    print(\"Son anagrama\")\n",
    "else:\n",
    "    print(\"No son anagrama\")    \n"
   ]
  },
  {
   "cell_type": "code",
   "execution_count": 49,
   "metadata": {},
   "outputs": [
    {
     "data": {
      "text/plain": [
       "'No son anagrama'"
      ]
     },
     "execution_count": 49,
     "metadata": {},
     "output_type": "execute_result"
    }
   ],
   "source": [
    "# Con función\n",
    "\n",
    "def es_anagrama (pal1,pal2):\n",
    "    lista_palabra1 = list(palabra1)\n",
    "    lista_palabra2 = list(palabra2)\n",
    "\n",
    "    lista_palabra1.sort()\n",
    "    lista_palabra2.sort()\n",
    "\n",
    "    if lista_palabra2 == lista_palabra1:\n",
    "        return \"Son anagrama\"\n",
    "    else:\n",
    "        return \"No son anagrama\"    \n",
    "\n",
    "palabra1 = \"seto\"\n",
    "palabra2 = \"esto\"\n",
    "\n",
    "es_anagrama(palabra1,palabra2)"
   ]
  },
  {
   "cell_type": "markdown",
   "metadata": {},
   "source": [
    "7. Validar si una cadena de texto es un isograma.\n",
    "\n",
    "Descripción: Crea una función llamada es_isograma que tome una cadena de texto como parámetro y devuelva True si es un isograma. En caso contrario, devuelve False.\n",
    "\n",
    "¿Qué es un isograma? Una palabra que no contiene letras repetidas."
   ]
  },
  {
   "cell_type": "code",
   "execution_count": 58,
   "metadata": {},
   "outputs": [
    {
     "data": {
      "text/plain": [
       "'True'"
      ]
     },
     "execution_count": 58,
     "metadata": {},
     "output_type": "execute_result"
    }
   ],
   "source": [
    "def es_isograma(palabra1):\n",
    "    respuesta = \"\"\n",
    "    for letra in palabra1:\n",
    "        if palabra1.count(letra) > 1:\n",
    "            respuesta = \"False\"\n",
    "            break\n",
    "        else: \n",
    "            respuesta = \"True\"\n",
    "    return respuesta\n",
    "\n",
    "palabra = \"mi fresa\"\n",
    "es_isograma (palabra)\n"
   ]
  },
  {
   "cell_type": "markdown",
   "metadata": {},
   "source": [
    "8. Concatenar múltiples cadenas de texto\n",
    "\n",
    "Descripción: Crea una función llamada concatenar_cadenas que tome una cantidad variable de cadenas de texto como argumentos y devuelva una única cadena que contenga la concatenación de todas las cadenas ingresadas."
   ]
  },
  {
   "cell_type": "code",
   "execution_count": 63,
   "metadata": {},
   "outputs": [
    {
     "data": {
      "text/plain": [
       "'Hola caracola adios Don Simón funciones como flores'"
      ]
     },
     "execution_count": 63,
     "metadata": {},
     "output_type": "execute_result"
    }
   ],
   "source": [
    "def concatenar_cadenas (*args):\n",
    "    resultado = \"\"\n",
    "    espacio = \" \"\n",
    "    \n",
    "    for palabra in args:\n",
    "        resultado = resultado + espacio + palabra\n",
    "\n",
    "    return resultado.strip()\n",
    "\n",
    "cadena1 = \"Hola caracola\"\n",
    "cadena2 = \"adios Don Simón\"\n",
    "cadena3 = \"funciones como flores\"\n",
    "concatenar_cadenas (cadena1,cadena2,cadena3)"
   ]
  },
  {
   "cell_type": "markdown",
   "metadata": {},
   "source": [
    "9. Crear un diccionario con información de una persona.\n",
    "\n",
    "Descripción: Crea una función llamada crear_persona que tome como argumentos clave-valor los datos de una persona, como nombre, edad, ciudad, etc., y devuelva un diccionario con toda la información ingresada."
   ]
  },
  {
   "cell_type": "code",
   "execution_count": 67,
   "metadata": {},
   "outputs": [
    {
     "data": {
      "text/plain": [
       "{'nombre': 'Rocio', 'apellido': 'Gorgojo', 'edad': 45, 'ciudad': 'Madrid'}"
      ]
     },
     "execution_count": 67,
     "metadata": {},
     "output_type": "execute_result"
    }
   ],
   "source": [
    "def crear_persona(k,v):\n",
    "    dicio = dict(zip(k,v))\n",
    "\n",
    "    return dicio\n",
    "\n",
    "diccionario = {\"nombre\":\"Rocio\", \"apellido\":\"Gorgojo\", \"edad\": 45, \"ciudad\": \"Madrid\"}\n",
    "clave = [\"nombre\", \"apellido\", \"edad\", \"ciudad\"]\n",
    "valor = [\"Rocio\",\"Gorgojo\", 45, \"Madrid\"]\n",
    "crear_persona(clave, valor)"
   ]
  },
  {
   "cell_type": "markdown",
   "metadata": {},
   "source": [
    "10. Encontrar el número que falta en una lista ordenada de números consecutivos.\n",
    "\n",
    "Descripción: Crea una función llamada encontrar_numero_faltante que tome una lista de números consecutivos (del 1 al N, sin repetir) con un número faltante y devuelva ese número faltante."
   ]
  },
  {
   "cell_type": "code",
   "execution_count": 90,
   "metadata": {},
   "outputs": [
    {
     "name": "stdout",
     "output_type": "stream",
     "text": [
      "El número faltante es: 5\n"
     ]
    }
   ],
   "source": [
    "def encontrar_numero_faltante(*args):\n",
    "    for n in range(1,len(args)+1):\n",
    "        if n not in args:\n",
    "            return print(f\"El número faltante es: {n}\")\n",
    "            \n",
    "encontrar_numero_faltante(1,2,3,4,6,7)"
   ]
  },
  {
   "cell_type": "markdown",
   "metadata": {},
   "source": [
    "11. Encontrar el elemento duplicado en una lista de números.\n",
    "\n",
    "Descripción: Crea una función llamada encontrar_duplicado que tome una lista de números enteros y devuelva el elemento que está duplicado en la lista."
   ]
  },
  {
   "cell_type": "code",
   "execution_count": 112,
   "metadata": {},
   "outputs": [
    {
     "name": "stdout",
     "output_type": "stream",
     "text": [
      "El número duplicado es 1\n"
     ]
    }
   ],
   "source": [
    "def encontrar_duplicado (*args):\n",
    "    for n in args:\n",
    "        if args.count(n) > 1:\n",
    "            return n\n",
    "            \n",
    "\n",
    "print(f\"El número duplicado es {encontrar_duplicado(1,4,5,1,6,7,2)}\")\n"
   ]
  }
 ],
 "metadata": {
  "kernelspec": {
   "display_name": "base",
   "language": "python",
   "name": "python3"
  },
  "language_info": {
   "codemirror_mode": {
    "name": "ipython",
    "version": 3
   },
   "file_extension": ".py",
   "mimetype": "text/x-python",
   "name": "python",
   "nbconvert_exporter": "python",
   "pygments_lexer": "ipython3",
   "version": "3.11.4"
  }
 },
 "nbformat": 4,
 "nbformat_minor": 2
}
