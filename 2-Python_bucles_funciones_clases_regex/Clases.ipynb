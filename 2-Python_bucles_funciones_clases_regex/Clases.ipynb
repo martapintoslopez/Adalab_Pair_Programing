{
 "cells": [
  {
   "cell_type": "markdown",
   "metadata": {},
   "source": [
    "# Pair programming Clases"
   ]
  },
  {
   "cell_type": "markdown",
   "metadata": {},
   "source": [
    "# EJERCICIO 1"
   ]
  },
  {
   "cell_type": "markdown",
   "metadata": {},
   "source": [
    "En este ejercicio de pair programming, vamos a crear una clase para gestionar la información de los empleados de nuestra empresa.\n",
    "\n",
    "Siguiendo las indicaciones del jefe, necesitamos organizar los datos de cada empleado de manera más estructurada.\n",
    "\n",
    "La clase `Empleados`permite gestionar información relacionada con los empleados de una empresa, con las siguientes características:\n",
    "\n",
    "Debes crear una clase llamada `Empleados` que tenga los siguientes **atributos**: nombre, apellidos, edad, posicion, año , vacaciones(cantidad de días de vacaciones que le quedan al empleado) y herramientas.\n",
    "\n",
    "El constructor `__init__` debe recibir estos **atributos** como parámetros y asignarlos a los respectivos **atributos** de la clase.\n",
    "\n",
    "Los **atributos** representan la información personal y profesional de un empleado, como su nombre completo, edad, posición en la empresa, año de ingreso, días de vacaciones disponibles y una lista de herramientas que el empleado sabe utilizar."
   ]
  },
  {
   "cell_type": "markdown",
   "metadata": {},
   "source": [
    "    Los métodos que debe recibir esta clase son:"
   ]
  },
  {
   "cell_type": "markdown",
   "metadata": {},
   "source": [
    "    1.1 Método descripcion: \n",
    "\n",
    "Proporciona una descripción del empleado, incluyendo su nombre, posición en la empresa, y la cantidad de días de vacaciones que le quedan para el año actual. \n",
    "\n",
    "Los pasos para resolver el ejercicio del método descripcion son:\n",
    "\n",
    " 1. Utilizar F-Strings: Utiliza f-strings para construir la descripción del empleado de manera legible y eficiente.\n",
    "\n",
    " 2. Especificar los Atributos a Incluir: Determina cuáles de los atributos del empleado se deben incluir en la descripción. Los atributos necesarios son nombre, posicion, año, y vacaciones.\n",
    "\n",
    " 3. Concatenar los Atributos: Usar f-strings para concatenar los atributos seleccionados y crear una descripción coherente."
   ]
  },
  {
   "cell_type": "markdown",
   "metadata": {},
   "source": [
    "    1.2 Método cambiando_posicion:\n",
    "\n",
    "Verifica las herramientas que el empleado tiene en su lista y devuelve un mensaje específico basado en las herramientas.\n",
    "Puede elogiar al empleado si tiene \"Python\" en su lista o sugerirle que deje de usar \"Excel\" y aprenda Python. \n",
    "\n",
    "Los pasos para resolver este ejercicio son:\n",
    "\n",
    " 1. Iterar a través de las Herramientas: La función debe recorrer la lista de herramientas (self.herramientas) del empleado.\n",
    "\n",
    " 2. Evaluar Cada Herramienta: Para cada herramienta en la lista, verifica si es igual a \"Python\" o \"Excel\" (en minúsculas)."
   ]
  },
  {
   "cell_type": "markdown",
   "metadata": {},
   "source": [
    "    1.3 Método calcular_antiguedad:\n",
    "    \n",
    "Calcula la antigüedad del empleado en años y meses desde el año de ingreso hasta la fecha actual.\n",
    "\n",
    "1. Calcular la Antigüedad en Años y Meses: Utiliza el módulo datetime de Python para obtener el año actual y el mes actual.\n",
    "\n",
    "2. Generar el Mensaje de Antigüedad: Usa los valores calculados para años y meses de antigüedad para generar un mensaje descriptivo. Por ejemplo, \"Juan lleva 5 años y 3 meses en la empresa\"."
   ]
  },
  {
   "cell_type": "markdown",
   "metadata": {},
   "source": [
    "    1.4 Método solicitar_aumento_vacaciones: \n",
    "\n",
    "Permite al empleado solicitar un aumento en la cantidad de días de vacaciones.\n",
    "\n",
    "Si la solicitud es válida (es decir, se solicitan días positivos), actualiza los días de vacaciones del empleado y devuelve un mensaje de confirmación. \n",
    "\n",
    "Recibirá un parámetro dias_solicitados, que corresponderá con el número de días de vacaciones que quiere solicitar.\n",
    "\n",
    "1. Validar los Días Solicitados: Utiliza una estructura de control para verificar si la cantidad de días solicitados (dias_solicitados) es mayor que cero. Esto garantiza que solo se procesen solicitudes de aumento válidas.\n",
    "\n",
    "2. Actualizar los Días de Vacaciones: Si la solicitud es válida, aumenta la cantidad de días de vacaciones del empleado (self.vacaciones) sumando la cantidad de días solicitados.\n",
    "\n",
    "3. Generar un Mensaje de Confirmación: Crea un mensaje informativo que confirme la aprobación de la solicitud y muestre la cantidad actualizada de días de vacaciones del empleado.\n",
    "\n",
    "4. Manejar Solicitudes No Válidas: Si la solicitud no es válida (es decir, dias_solicitados es menor o igual a cero), generar un mensaje de error que indique que la solicitud debe ser un número positivo."
   ]
  },
  {
   "cell_type": "markdown",
   "metadata": {},
   "source": [
    "    1.5. Método registrar_herramienta:\n",
    "\n",
    "Permite al empleado registrar una nueva herramienta en su lista de habilidades.\n",
    "\n",
    "La herramienta se registra si no está registrada previamente en la lista de herramientas del empleado.\n",
    "\n",
    "Recibirá un parámetro que será la nueva herramienta.\n",
    "\n",
    "1. Validar la Nueva Herramienta: Utiliza una estructura de control para verificar si la nueva herramienta no está en la lista de herramientas existentes.\n",
    "\n",
    "2. Agregar la Nueva Herramienta: Si la nueva herramienta no está en la lista existente, agregarla a la lista.\n",
    "\n",
    "3. Generar un Mensaje de Confirmación: Crea un mensaje informativo que confirme el registro exitoso de la nueva herramienta y muestre el nombre de la herramienta registrada.\n",
    "\n",
    "4. Manejar Herramientas Duplicadas: Si la nueva herramienta ya existe en la lista, genera un mensaje que indique que la herramienta ya ha sido registrada previamente."
   ]
  },
  {
   "cell_type": "markdown",
   "metadata": {},
   "source": [
    "    1.6. Método cambiar_posicion:\n",
    "\n",
    "Permite al empleado cambiar su posición y salario en la empresa.\n",
    "\n",
    "Actualiza la posición y el salario y devuelve un mensaje de felicitación.\n",
    "\n",
    "Recibirá dos parámetros, la nueva posición y el nuevo salario.\n",
    "\n",
    "1. Actualizar la Posición y el Salario: Utiliza los parámetros nueva_posicion y nuevo_salario para actualizar la posición y el salario del empleado.\n",
    "\n",
    "2. Generar un Mensaje de Confirmación: Crea un mensaje informativo que confirme el cambio de posición y salario del empleado y muestre el nombre del empleado, la nueva posición y el nuevo salario."
   ]
  },
  {
   "cell_type": "markdown",
   "metadata": {},
   "source": [
    "    1.7 Método tomar_vacaciones:\n",
    "\n",
    "Permite al empleado tomar días de vacaciones, solicitando la cantidad deseada y actualizando los días de vacaciones restantes. \n",
    "\n",
    "Verifica que se solicite al menos un día de vacaciones y que el empleado tenga suficientes días disponibles.\n",
    "\n",
    "No recibe ningún parámetro adicional.\n",
    "\n",
    "1. Solicitar la Cantidad de Días de Vacaciones: \n",
    "\n",
    "Usar la función input para solicitar al usuario la cantidad de días de vacaciones que desea tomar.\n",
    "\n",
    "2. Validar la Cantidad de Días:\n",
    "\n",
    "Comprueba que la cantidad de días solicitados sea mayor que cero. \n",
    "\n",
    "Si el usuario ingresa un valor no válido (cero o negativo), muestra un mensaje de error y solicita nuevamente la cantidad de días hasta que sea válida.\n",
    "\n",
    "3. Verificar Disponibilidad de Días de Vacaciones:\n",
    "\n",
    "Comprueba si la cantidad de días solicitados es menor o igual a la cantidad de días de vacaciones disponibles para el empleado.\n",
    "\n",
    "4. Actualizar Días de Vacaciones:\n",
    "\n",
    "Si hay suficientes días de vacaciones disponibles, modifica el código para que se modifiquen los días de vacaciones que le quedan. Si no hay suficientes días disponibles, mostrar un mensaje de error.\n",
    "\n",
    "5. Generar un Mensaje de Confirmación o Error:\n",
    "\n",
    "Dependiendo de si la solicitud se procesó con éxito o no, genera un mensaje que informe al empleado sobre el resultado de su solicitud."
   ]
  },
  {
   "cell_type": "markdown",
   "metadata": {},
   "source": [
    "    1.8. Método solicitar_aumento_salario:\n",
    "\n",
    "Permite al empleado solicitar un aumento de salario en porcentaje y calcula el nuevo salario.\n",
    "\n",
    "Verifica que el aumento sea un valor positivo o igual a cero. Este método no recibe ningún parámetro.\n",
    "\n",
    "1. Solicitar el Porcentaje de Aumento de Salario: \n",
    "\n",
    "Utiliza la función input para solicitar al usuario el porcentaje de aumento de salario que desea. \n",
    "\n",
    "Asegurate de que el valor ingresado sea un número decimal.\n",
    "\n",
    "2. Validar el Porcentaje de Aumento:\n",
    "\n",
    "Utiliza un bucle while para garantizar que el porcentaje de aumento sea mayor o igual a cero.\n",
    "\n",
    "Si el usuario ingresa un valor no válido (negativo), muestra un mensaje de error y solicita nuevamente el porcentaje hasta que sea válido.\n",
    "\n",
    "3. Calcular el Nuevo Salario:\n",
    "\n",
    "Calcula el nuevo salario.\n",
    "\n",
    "Generar un Mensaje de Confirmación: Crea un mensaje que informe al empleado sobre el resultado de su solicitud. Incluye el nuevo salario calculado en el mensaje.\n",
    "\n",
    "Manejar Errores de Entrada: Utiliza un bloque try...except para manejar posibles errores de entrada, como cuando el usuario ingresa un valor que no se puede convertir a un número decimal."
   ]
  },
  {
   "cell_type": "markdown",
   "metadata": {},
   "source": [
    "    1.9. Método realizar_evaluacion:\n",
    "\n",
    "Permite al empleado recibir una calificación de desempeño, con opciones como \"Excelente\", \"Bueno\", \"Regular\" o \"Malo\". \n",
    "\n",
    "Verifica que la calificación ingresada sea válida. Este método no recibe ningún parámetro.\n",
    "\n",
    "1. Solicitar la Calificación del Desempeño:\n",
    "\n",
    "Utiliza la función input para solicitar al usuario que califique su propio desempeño.\n",
    "\n",
    "Asegurate de que el valor ingresado sea una de las opciones válidas: \"excelente\", \"bueno\", \"regular\" o \"malo\".\n",
    "\n",
    "2. Validar la Calificación: Utiliza un bucle while para garantizar que la calificación ingresada sea una de las opciones válidas. Si el usuario ingresa una calificación no válida, muestra un mensaje de error y solicita nuevamente la calificación hasta que sea válida.\n",
    "\n",
    "Generar un Mensaje de Retroalimentación: Crear un mensaje que proporcione retroalimentación al empleado basada en la calificación ingresada.\n",
    "\n",
    "Retornar el Mensaje Generado: La función debe incluir una instrucción return que devuelva el mensaje generado."
   ]
  },
  {
   "cell_type": "markdown",
   "metadata": {},
   "source": [
    "# EJERCICIO 2"
   ]
  },
  {
   "cell_type": "markdown",
   "metadata": {},
   "source": [
    "En este ejercicio, se te pide crear una herencia de la clase creada en el ejercicio anterior.\n",
    "\n",
    "Esta clase hija se llama \"Gerente\" que hereda de la clase creada en el ejercicio anterior.\n",
    "\n",
    "Las instrucciones para crear esta clase son:\n",
    "\n",
    "1. Crea la clase derivada \"Gerente\" que hereda de la clase \"Empleados\".\n",
    "\n",
    "Esta clase debe tener los siguientes atributos en su constructor además de los heredados de \"Empleados\":\n",
    "           \n",
    "   - departamento (str): El departamento al que está asignado el gerente.\n",
    "   - empleados_a_cargo (list): Una lista que contiene los nombres de los empleados que están a cargo del gerente.\n",
    "\n",
    "Implementa los siguientes métodos en la clase \"Gerente\":\n",
    "\n",
    "    1. Asignar_tareas(tarea, empleado):\n",
    "    \n",
    "Este método debe recibir el nombre de una tarea y el nombre de un empleado y debe devolver una cadena que indique que el gerente ha asignado la tarea a ese empleado.\n",
    "\n",
    "    2. Revisar_desempeno_empleado(empleado): \n",
    "\n",
    "Este método debe recibir el nombre de un empleado y debe devolver una cadena que indique que el gerente está revisando el desempeño de ese empleado.\n",
    "\n",
    "    3. Gestionar_empleados(accion, empleado):\n",
    "\n",
    "Este método permite al gerente realizar acciones de contratación o despido de empleados a cargo. \n",
    "\n",
    "    4. Debe recibir una acción (\"contratar\" o \"despedir\") y el nombre de un empleado. \n",
    "\n",
    "a) Si la acción es \"contratar\", agrega al empleado a la lista de empleados a cargo y devuelve un mensaje indicando que el empleado ha sido contratado por el gerente. \n",
    "\n",
    "b) Si la acción es \"despedir\" y el empleado está en la lista de empleados a cargo, lo elimina y devuelve un mensaje de despido. Si la acción no es válida, devuelve un mensaje indicando que la acción no es válida."
   ]
  },
  {
   "cell_type": "code",
   "execution_count": 83,
   "metadata": {},
   "outputs": [],
   "source": [
    "from datetime import datetime\n",
    "now = datetime.now()\n",
    "\n",
    "\n",
    "\n",
    "class Empleados:\n",
    "    \n",
    "    def __init__ (self, nombre, apellidos, edad, posicion, año, vacaciones, herramientas):\n",
    "        self.nombre = nombre\n",
    "        self.apellidos = apellidos\n",
    "        self.edad = edad\n",
    "        self.posicion = posicion\n",
    "        self.año = año\n",
    "        self.vacaciones = vacaciones\n",
    "        self.herramientas = herramientas\n",
    "        self.salario = salario\n",
    "#1.1------------------------------------------------------------------------    \n",
    "    def descripcion (self):\n",
    "        return f'La empleada {self.nombre} trabaja como {self.posicion}. Comenzó a trabajar aquí en el año {self.año} y le quedan por disfrutar {self.vacaciones} días de vacaciones este año.'\n",
    "\n",
    "#1.2------------------------------------------------------------------------    \n",
    "    def listaherramientas (self):\n",
    "        for h in self.herramientas:\n",
    "            if h == 'python':\n",
    "                print (f'Enhorabuena: utilizas un gran programa')\n",
    "            elif h == 'excel':\n",
    "                print (f'Excel es una buena herramienta, pero Python es mejor')\n",
    "            else:\n",
    "                print (f'Esta herramienta no es Python ni Excel')\n",
    "    \n",
    "#1.3------------------------------------------------------------------------        \n",
    "    def calcular_antiguedad (self):\n",
    "        now.year\n",
    "        now.month\n",
    "        # damos por hecho que empezó en enero\n",
    "        print (f'{now.year - self.año} años y {now.month} meses')\n",
    " \n",
    "#1.4------------------------------------------------------------------------           \n",
    "    def solicitar_aumento_vacaciones (self):\n",
    "        \n",
    "        dias_solicitados = int(input(\"Ingrese los días que desea añadir a sus vacaciones\"))\n",
    "        \n",
    "        if dias_solicitados > 0:\n",
    "            self.vacaciones = self.vacaciones + dias_solicitados\n",
    "            return f'Solicitud aprobada: tu saldo actual es de {self.vacaciones} días de vacaciones.'\n",
    "                \n",
    "        else:\n",
    "            return f'Solicitud no válida. Ingrese un número mayor que 0 (cero).'\n",
    "    \n",
    "#1.5------------------------------------------------------------------------           \n",
    "    def registrar_herramientas (self):\n",
    "         \n",
    "        hnueva = 'python'\n",
    "               \n",
    "        if hnueva in self.herramientas:\n",
    "            print (f'La herramienta {hnueva} ya ha sido registrada anteriormente')\n",
    "       \n",
    "        else:\n",
    "            self.herramientas.append(hnueva)\n",
    "            print (f'Nueva herramienta {hnueva} registrada')\n",
    "\n",
    "#1.6------------------------------------------------------------------------\n",
    "    def cambiar_posicion (self, salario):\n",
    "        self.salario = salario\n",
    "        \n",
    "        for posicion in self.posicion:\n",
    "            self.posicion.replace(posicion)\n",
    "        \n",
    "        for salario in self.salario:\n",
    "            self.salario.replace(salario)\n",
    "\n",
    "    \n",
    "    \n",
    "#1.7------------------------------------------------------------------------\n",
    "    def tomar_vacaciones(self):\n",
    "        print(f\"Te quedan {self.vacaciones} días\")\n",
    "        while True: #Introducimos las vacaciones que queremos tomar y hasta que no sea un número positivo no paramos de preguntar\n",
    "            try:# Si tengo 0 días de vacaciones no quiero pedir números mayores que 0. Por eso lo hemos dejado como que puede pedir 0.\n",
    "                while True:\n",
    "                    \n",
    "                    vacas = int(input(\"¿Cuántos días quieres coger?\")) \n",
    "                    if vacas > self.vacaciones:\n",
    "                        print(f\"No puedes coger más días de los que te quedan. Deben ser menos o igua a {self.vacaciones}\")\n",
    "                    else:\n",
    "                        print(f\"Sí puedes coger {vacas}\")\n",
    "                        break\n",
    "        \n",
    "            except ValueError:\n",
    "                print(\"Estás introduciendo datos erroneos. Introduce un número menor o igua a {self.vacaciones}\")\n",
    "                continue\n",
    "        \n",
    "            else:\n",
    "                break\n",
    "        self.vacaciones -= vacas\n",
    "        print(f\"Te quedan {self.vacaciones} días\")\n",
    "        pass\n",
    "\n",
    "\n",
    "#1.8.------------------------------------------------------------------------\n",
    "    def solicitar_aumento_salario(self):\n",
    "        porcentaje = -1\n",
    "        salario = 0\n",
    "        while True: #Introducimos el salario y hasta que no sea un número positivo no paramos de preguntar\n",
    "            try:\n",
    "        \n",
    "                while True:\n",
    "                    salario = int(input(\"¿Cuál es su salario?\")) \n",
    "                    if salario < 0:\n",
    "                        print(\"Introduce tu salario.\")\n",
    "                    else:\n",
    "                        break\n",
    "        \n",
    "            except ValueError:\n",
    "                print(\"Estás introduciendo datos erroneos. Introduce un número positivo\")\n",
    "                continue\n",
    "        \n",
    "            else:\n",
    "                break\n",
    "        print(f\"Su salario es {salario} €\")\n",
    "\n",
    "\n",
    "        while True: #Introducimos el porcentaje y hasta que no sea un número positivo no paramos de preguntar\n",
    "            try:\n",
    "        \n",
    "                while porcentaje < 0:\n",
    "                    porcentaje = float(input(\"¿Qué porcentaje de aumento de salario deseas?\"))\n",
    "                    if porcentaje < 0:\n",
    "                        print(\"Si quieres un aumento el número que introduces debe ser mayor a cero.\")\n",
    "        \n",
    "            except ValueError:\n",
    "                print(\"Estás introduciendo datos erroneos. Introduce un número positivo\")\n",
    "                continue\n",
    "        \n",
    "            else:\n",
    "                break\n",
    "        print(f\"Con un aumento del {porcentaje} %\")\n",
    "        salario += (porcentaje* salario)/100\n",
    "        return f'Tu nuevo salario se quedaría en {salario}€'\n",
    "            \n",
    "#1.9.------------------------------------------------------------------------\n",
    "    def realizar_evaluacion(self):\n",
    "        calificacion = 0\n",
    "        notas = [\"Malo\", \"Regular\", \"Bueno\", \"Excelente\"]\n",
    "        retroalimentacion = [\"Con ese tipo de autocalificación debes ser muy consciente de los porqués. ¿Puede ser que te hayas equivocado de profesión?\",\n",
    "                             \"Deberías plantearte tus puntos débiles y cómo los puedes mejorar. En el departamento de Recursos Humanos estaremos encantados de ayudarte y guiarte en el proceso\",\n",
    "                             \"Enhorabuena por ser consciente del trabajo que haces día a día. Recuerda que si quieres que te guiemos en algún sentido, el departamento de Recursos Humanos está a tu disposición.\",\n",
    "                             \"Nuestra más sincera enhorabuena por ser consciente del trabajo que haces a diario. Te deseamos que sigas realizando un desempeño tan bueno.\"]\n",
    "        while True: #Introducimos la calificación hasta que sea un número del 0 al 3\n",
    "        \n",
    "            try:\n",
    "                while True:\n",
    "                    calificacion = int(input(\"¿Qué nota del 0 al 3 crees que mereces como empleado (siendo 0 la nota más baja y 3 la más alta)?\"))\n",
    "            \n",
    "                    if calificacion < 0 or calificacion > 3:\n",
    "                        print(\"Solo puedes introducir del 0 al 3 (incluidos)\")\n",
    "                        continue\n",
    "                    \n",
    "                    else:\n",
    "                        break\n",
    "\n",
    "            except ValueError:\n",
    "                print(\"Estás introduciendo datos erroneos. Introduce un número entre 0 y 3.\")\n",
    "                continue\n",
    "\n",
    "            else:\n",
    "                print(\"Tu\", calificacion)\n",
    "                break\n",
    "\n",
    "        return f\"Con una calificación de {calificacion} tu desempeño es de {notas[calificacion]} \\n {retroalimentacion[calificacion]}\"\n",
    "        "
   ]
  },
  {
   "cell_type": "code",
   "execution_count": 67,
   "metadata": {},
   "outputs": [
    {
     "name": "stdout",
     "output_type": "stream",
     "text": [
      "<class 'str'>\n"
     ]
    }
   ],
   "source": [
    "print(type(posicion))"
   ]
  },
  {
   "cell_type": "code",
   "execution_count": 49,
   "metadata": {},
   "outputs": [],
   "source": [
    "#1.1\n",
    "sara = Empleados('Sara', 'Pérez Garcia', '25', 'directora', 2003, 8, ['excel', 'access'])"
   ]
  },
  {
   "cell_type": "code",
   "execution_count": 50,
   "metadata": {},
   "outputs": [
    {
     "data": {
      "text/plain": [
       "'La empleada Sara trabaja como directora. Comenzó a trabajar aquí en el año 2003 y le quedan por disfrutar 8 días de vacaciones este año.'"
      ]
     },
     "execution_count": 50,
     "metadata": {},
     "output_type": "execute_result"
    }
   ],
   "source": [
    "sara.descripcion()"
   ]
  },
  {
   "cell_type": "code",
   "execution_count": 51,
   "metadata": {},
   "outputs": [
    {
     "name": "stdout",
     "output_type": "stream",
     "text": [
      "Excel es una buena herramienta, pero Python es mejor\n",
      "Esta herramienta no es Python ni Excel\n"
     ]
    }
   ],
   "source": [
    "#1.2\n",
    "sara.listaherramientas()"
   ]
  },
  {
   "cell_type": "code",
   "execution_count": 52,
   "metadata": {},
   "outputs": [
    {
     "data": {
      "text/plain": [
       "['excel', 'access']"
      ]
     },
     "execution_count": 52,
     "metadata": {},
     "output_type": "execute_result"
    }
   ],
   "source": [
    "sara.herramientas"
   ]
  },
  {
   "cell_type": "code",
   "execution_count": 53,
   "metadata": {},
   "outputs": [
    {
     "name": "stdout",
     "output_type": "stream",
     "text": [
      "20 años y 10 meses\n"
     ]
    }
   ],
   "source": [
    "#1.3\n",
    "sara.calcular_antiguedad()"
   ]
  },
  {
   "cell_type": "code",
   "execution_count": 54,
   "metadata": {},
   "outputs": [
    {
     "data": {
      "text/plain": [
       "'Solicitud aprobada: tu saldo actual es de 13 días de vacaciones.'"
      ]
     },
     "execution_count": 54,
     "metadata": {},
     "output_type": "execute_result"
    }
   ],
   "source": [
    "#1.4 vacaciones definidas en 1.1 como 8\n",
    "sara.solicitar_aumento_vacaciones()"
   ]
  },
  {
   "cell_type": "code",
   "execution_count": 55,
   "metadata": {},
   "outputs": [
    {
     "name": "stdout",
     "output_type": "stream",
     "text": [
      "['excel', 'access']\n",
      "Nueva herramienta python registrada\n",
      "['excel', 'access', 'python']\n"
     ]
    }
   ],
   "source": [
    "#1.5\n",
    "print (sara.herramientas)\n",
    "sara.registrar_herramientas()\n",
    "print (sara.herramientas)"
   ]
  },
  {
   "cell_type": "code",
   "execution_count": 94,
   "metadata": {},
   "outputs": [
    {
     "name": "stdout",
     "output_type": "stream",
     "text": [
      "Posición actualizada a CEO\n",
      "Salario actualizado a 200000 € bruto anual\n"
     ]
    }
   ],
   "source": [
    "#1.6\n",
    "posicion = 'CEO'\n",
    "salario = 200000\n",
    "\n",
    "print ('Posición actualizada a', (posicion))\n",
    "print ('Salario actualizado a', (salario), '€ bruto anual')"
   ]
  },
  {
   "cell_type": "code",
   "execution_count": 57,
   "metadata": {},
   "outputs": [
    {
     "name": "stdout",
     "output_type": "stream",
     "text": [
      "Te quedan 13 días\n",
      "Sí puedes coger 2\n",
      "Te quedan 11 días\n"
     ]
    }
   ],
   "source": [
    "#1.7.\n",
    "sara.tomar_vacaciones()"
   ]
  },
  {
   "cell_type": "code",
   "execution_count": 58,
   "metadata": {},
   "outputs": [
    {
     "name": "stdout",
     "output_type": "stream",
     "text": [
      "Su salario es 30000 €\n",
      "Con un aumento del 10.0 %\n"
     ]
    },
    {
     "data": {
      "text/plain": [
       "'Tu nuevo salario se quedaría en 33000.0€'"
      ]
     },
     "execution_count": 58,
     "metadata": {},
     "output_type": "execute_result"
    }
   ],
   "source": [
    "#1.8.\n",
    "sara.solicitar_aumento_salario()"
   ]
  },
  {
   "cell_type": "code",
   "execution_count": 59,
   "metadata": {},
   "outputs": [
    {
     "name": "stdout",
     "output_type": "stream",
     "text": [
      "Tu 3\n"
     ]
    },
    {
     "data": {
      "text/plain": [
       "'Con una calificación de 3 tu desempeño es de Excelente \\n Nuestra más sincera enhorabuena por ser consciente del trabajo que haces a diario. Te deseamos que sigas realizando un desempeño tan bueno.'"
      ]
     },
     "execution_count": 59,
     "metadata": {},
     "output_type": "execute_result"
    }
   ],
   "source": [
    "#1.9.\n",
    "sara.realizar_evaluacion()"
   ]
  },
  {
   "cell_type": "code",
   "execution_count": 60,
   "metadata": {},
   "outputs": [],
   "source": [
    "lista_empleados_gerente = [\"Marta\", \"Rocio\"]\n",
    "\n",
    "class Gerente(Empleados):\n",
    "    def __init__ (self, nombre, apellidos, edad, posicion, año, vacaciones, herramientas, departamento, empleados_a_cargo):\n",
    "        super().__init__ (nombre, apellidos, edad, posicion, año, vacaciones, herramientas)\n",
    "        self.departamento = departamento\n",
    "        self.empleados_a_cargo = empleados_a_cargo\n",
    "    \n",
    "    def asignar_tareas(self, tarea, empleado):\n",
    "        return f\"Tarea {tarea} asignada a {empleado}\"\n",
    "\n",
    "    def revisar_desempeno_empleado(self, empleado):\n",
    "        return f\"Revisando el desempeño de {empleado}\"\n",
    "    \n",
    "    def gestionar_empleados(self, accion, empleado):\n",
    "        #print(lista_empleados_gerente)\n",
    "        if accion == \"contratar\":\n",
    "            lista_empleados_gerente.append(empleado)\n",
    "            salida = f\"Candidato {empleado} contratado\"\n",
    "        else:\n",
    "            lista_empleados_gerente.remove(empleado)\n",
    "            salida = f\"Empleado {empleado} despedido\"\n",
    "        return salida"
   ]
  },
  {
   "cell_type": "code",
   "execution_count": 61,
   "metadata": {},
   "outputs": [
    {
     "data": {
      "text/plain": [
       "'Tarea cafes asignada a Marta'"
      ]
     },
     "execution_count": 61,
     "metadata": {},
     "output_type": "execute_result"
    }
   ],
   "source": [
    "pamela = Gerente(\"Pamela\", \"Perez\", \"43\", \"gerente\", \"2010\", \"4\", [\"Python\",\"Excel\"], \"DA\", 2)\n",
    "pamela.asignar_tareas(\"cafes\", \"Marta\")"
   ]
  },
  {
   "cell_type": "code",
   "execution_count": 62,
   "metadata": {},
   "outputs": [
    {
     "data": {
      "text/plain": [
       "'Revisando el desempeño de Rocio'"
      ]
     },
     "execution_count": 62,
     "metadata": {},
     "output_type": "execute_result"
    }
   ],
   "source": [
    "pamela.revisar_desempeno_empleado(\"Rocio\")"
   ]
  },
  {
   "cell_type": "code",
   "execution_count": 63,
   "metadata": {},
   "outputs": [
    {
     "data": {
      "text/plain": [
       "'Empleado Marta despedido'"
      ]
     },
     "execution_count": 63,
     "metadata": {},
     "output_type": "execute_result"
    }
   ],
   "source": [
    "pamela.gestionar_empleados(\"despedir\", \"Marta\")"
   ]
  },
  {
   "cell_type": "code",
   "execution_count": 64,
   "metadata": {},
   "outputs": [
    {
     "data": {
      "text/plain": [
       "'Candidato Silvia contratado'"
      ]
     },
     "execution_count": 64,
     "metadata": {},
     "output_type": "execute_result"
    }
   ],
   "source": [
    "pamela.gestionar_empleados(\"contratar\",\"Silvia\")"
   ]
  }
 ],
 "metadata": {
  "kernelspec": {
   "display_name": "base",
   "language": "python",
   "name": "python3"
  },
  "language_info": {
   "codemirror_mode": {
    "name": "ipython",
    "version": 3
   },
   "file_extension": ".py",
   "mimetype": "text/x-python",
   "name": "python",
   "nbconvert_exporter": "python",
   "pygments_lexer": "ipython3",
   "version": "3.9.7"
  }
 },
 "nbformat": 4,
 "nbformat_minor": 2
}
