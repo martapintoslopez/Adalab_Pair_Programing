{
 "cells": [
  {
   "cell_type": "markdown",
   "metadata": {},
   "source": [
    "## Pair programming Selenium\n",
    "# Ejercicios Selenium Extracción de Datos de Libros de Ficción en La Casa del Libro\n",
    "\n",
    "Objetivo del Ejercicio: El objetivo de este ejercicio es que las alumnas utilicen Selenium en Python para automatizar la extracción de datos de los libros de ficción en el sitio web de La Casa del Libro. \n",
    "\n",
    "    Deberán obtener información clave de los libros, incluyendo título, autor, precio, editorial, idioma y número de páginas.\n",
    "\n",
    "Descripción:\n",
    "- Acceso a la Página de La Casa del Libro: Utilizando Selenium, deberás automatizar el proceso de navegación hacia la página de libros de ficción en el sitio web de La Casa del Libro.\n",
    "- Extracción de Datos de las 5 Primeras Páginas: Una vez en la página de libros de ficción, debes programar su script para que recorra las 5 primeras páginas de libros, extrayendo los siguientes datos de cada libro:\n",
    "    - Título del libro.\n",
    "    - Autor(es) del libro.\n",
    "    - Precio del libro.\n",
    "    - Editorial del libro.\n",
    "    - Idioma del libro.\n",
    "    - Número de páginas del libro.\n",
    "- Almacenamiento de Datos: Los datos extraídos deben almacenarse en un DataFrame.\n"
   ]
  },
  {
   "cell_type": "code",
   "execution_count": 8,
   "metadata": {},
   "outputs": [],
   "source": [
    "import pandas as pd \n",
    "from selenium import webdriver # Selenium es una herramienta para automatizar la interacción con navegadores web.\n",
    "from webdriver_manager.chrome import ChromeDriverManager # ChromeDriverManager gestiona la instalación del controlador de Chrome.\n",
    "from selenium.webdriver.common.keys import Keys # Keys es útil para simular eventos de teclado en Selenium.\n",
    "from selenium.webdriver.support.ui import Select # Select se utiliza para interactuar con elementos <select> en páginas web.\n",
    "from time import sleep # Sleep se utiliza para pausar la ejecución del programa por un número de segundos.\n",
    "pd.set_option('display.max_columns', None) # Establece una opción de Pandas para mostrar todas las columnas de un DataFrame.\n",
    "from bs4 import BeautifulSoup\n",
    "import requests"
   ]
  },
  {
   "cell_type": "code",
   "execution_count": 24,
   "metadata": {},
   "outputs": [
    {
     "name": "stdout",
     "output_type": "stream",
     "text": [
      "{'título': ['LA CHICA DEL VERANO (NOVELA)', 'LA ARMADURA DE LA LUZ (SAGA LOS PILARES DE LA TIERRA 5)', 'EL INFIERNO', 'EL PROBLEMA FINAL', 'TODO VUELVE (SERIE TODO ARDE 2)'], 'autor': ['LA VECINA RUBIA', 'KEN FOLLETT', 'CARMEN MOLA', 'ARTURO PEREZ REVERTE', 'JUAN GOMEZ JURADO'], 'precio': ['18,90 €\\nEnvío gratis', '23,65 €\\nEnvío gratis', '21,75 €\\nEnvío gratis', '20,80 €\\nEnvío gratis', '21,75 €\\nEnvío gratis'], 'editorial': ['TIMUN MAS', 'PLAZA & JANES EDITORES', 'PLANETA', 'ALFAGUARA', 'EDICIONES B'], 'idioma': ['CASTELLANO', 'CASTELLANO', 'CASTELLANO', 'CASTELLANO', 'CASTELLANO'], 'páginas': ['424', '832', '480', '328', '608']}\n"
     ]
    }
   ],
   "source": [
    "#Inicializo el Chrome\n",
    "driver = webdriver.Chrome() \n",
    "\n",
    "# Navega a la página web \n",
    "driver.get(\"https://www.casadellibro.com/\")\n",
    "\n",
    "#sleep(2)\n",
    "#Bloqueamos la opcione de permitir notificaciones\n",
    "#driver.find_element(\"css selector\", \"#onetrust-consent-sdk > div.onetrust-pc-dark-filter.ot-fade-in\").click()\n",
    "\n",
    "sleep(2)\n",
    "#Aceptamos las cookies (podríamos poner la que no acepta)\n",
    "driver.find_element(\"css selector\", \"#onetrust-accept-btn-handler\").click()\n",
    "\n",
    "sleep(3)\n",
    "#Maximizamos ventana\n",
    "#driver.maximize_window()\n",
    "\n",
    "#Vamos a la página de libros de ficción\n",
    "driver.find_element(\"css selector\", \"#app > div.v-application--wrap > div.when-mobile > div.cabecera.desktop > div.bottom-row > div > div > div:nth-child(2) > a\").click()\n",
    "sleep(4)\n",
    "diccionario_libros = {\"título\": [], \n",
    "                        \"autor\": [], \n",
    "                        \"precio\": [], \n",
    "                        \"editorial\": [], \n",
    "                        \"idioma\": [], \n",
    "                        \"páginas\": []}\n",
    "\n",
    "\n",
    "#Iteramos por los libros\n",
    "for i in range(1,6):\n",
    "\n",
    "    #Pinchamos en el libro:\n",
    "    driver.find_element(\"css selector\", f\"#buscadorNF > div.col-md-9.col-12 > div > div.grid-view.mt-4 > div:nth-child({i}) > a > div > img\").click()\n",
    "    sleep(4)\n",
    "\n",
    "    #Sacar info de los libros y la metemos al diccionario:\n",
    "    # TÍTULO\n",
    "    try: #En general: \n",
    "        titulo = driver.find_element(\"css selector\", \"#app > div.v-application--wrap > main > div > div > div > div:nth-child(3) > div > div.col-md-5.order-lg-2.col-12.order-1 > div > h1\").text\n",
    "    except: #Hay casos con distinto lugar para el título:\n",
    "        titulo = driver.find_element(\"css selector\", \"#app > div.v-application--wrap > main > div > div > div > div:nth-child(4) > div > div.col-md-5.order-lg-2.col-12.order-1 > div > h1\").text\n",
    "    diccionario_libros[\"título\"].append(titulo)\n",
    "    sleep(1)\n",
    "\n",
    "    # AUTOR\n",
    "    try: #En general: \n",
    "        autor = driver.find_element(\"css selector\", \"#app > div.v-application--wrap > main > div > div > div > div:nth-child(3) > div > div.col-md-5.order-lg-2.col-12.order-1 > div > div.text-h5.d-flex.flex-wrap.author.mb-2.justify-center.justify-sm-start > div\").text\n",
    "    except: #Hay casos con distinto lugar para el autor: \n",
    "        autor = driver.find_element(\"css selector\", \"#app > div.v-application--wrap > main > div > div > div > div:nth-child(4) > div > div.col-md-5.order-lg-2.col-12.order-1 > div > div.text-h5.d-flex.flex-wrap.author.mb-2.justify-center.justify-sm-start > div\").text\n",
    "    diccionario_libros[\"autor\"].append(autor)\n",
    "    sleep(1)\n",
    "    \n",
    "    # PRECIO\n",
    "    try: #En general:                               \n",
    "        precio = driver.find_element(\"css selector\", \"#app > div.v-application--wrap > main > div > div > div > div:nth-child(3) > div > div.border-left.col-md-4.col-12.order-3 > div > div:nth-child(3)\").text\n",
    "    except: #Hay casos con distinto lugar para el precio (puede ser porque no hay existencias):\n",
    "        precio = driver.find_element(\"css selector\", \"#app > div.v-application--wrap > main > div > div > div > div:nth-child(4) > div > div.border-left.col-md-4.col-12.order-3 > div > div:nth-child(3)\").text\n",
    "    #app > div.v-application--wrap > main > div > div > div > div:nth-child(3) > div > div.border-left.col-md-4.col-12.order-3 > div > div:nth-child(4) > div > div.text-h4.font-weight-bold > span\n",
    "    #    precio = driver.find_element(\"css selector\", \"#app > div.v-application--wrap > main > div > div > div > div:nth-child(4) > div > div.border-left.col-md-4.col-12.order-3 > div > div:nth-child(2) > div > div > div\").text\n",
    "    diccionario_libros[\"precio\"].append(precio)\n",
    "    sleep(1)\n",
    "\n",
    "    # EDITORIAL\n",
    "    try: #En general:                                   \n",
    "        editorial = driver.find_element(\"css selector\", \"#app > div.v-application--wrap > main > div > div > div > div:nth-child(3) > div > div.col-md-5.order-lg-2.col-12.order-1 > div > div.d-none.d-md-inline > div:nth-child(1) > span:nth-child(1)\").text\n",
    "    except: #Hay casos con distinto lugar para la editorial\n",
    "        editorial = driver.find_element(\"css selector\", \"#app > div.v-application--wrap > main > div > div > div > div:nth-child(4) > div > div.col-md-5.order-lg-2.col-12.order-1 > div > div.d-none.d-md-inline > div:nth-child(1) > span:nth-child(1)\").text            \n",
    "    diccionario_libros[\"editorial\"].append(editorial)\n",
    "    sleep(1)\n",
    "    #Hacemos scroll para abajo porque algunos de los datos estaban dando error. Posiblemente no se cargaban.\n",
    "    driver.execute_script(\"window.scrollTo(0,200)\")\n",
    "    sleep(3)\n",
    "    \n",
    "    # IDIOMA\n",
    "    try: #En general:\n",
    "        idioma = driver.find_element(\"css selector\", \"#app > div.v-application--wrap > main > div > div > div > div:nth-child(7) > div > div:nth-child(2) > div > div:nth-child(3) > div:nth-child(2)\").text\n",
    "    except: #Hay casos con distinto lugar para el idioma #app > div.v-application--wrap > main > div > div > div > div:nth-child(6) > div > div:nth-child(2) > div > div:nth-child(3) > div:nth-child(2) > span\n",
    "        idioma = driver.find_element(\"css selector\", \"#app > div.v-application--wrap > main > div > div > div > div:nth-child(8) > div > div:nth-child(2) > div > div:nth-child(3) > div:nth-child(2)\").text\n",
    "    diccionario_libros[\"idioma\"].append(idioma)  \n",
    "    sleep(1)\n",
    "\n",
    "    # PÁGINAS\n",
    "    try: #En general\n",
    "        paginas = driver.find_element(\"css selector\", \"#app > div.v-application--wrap > main > div > div > div > div:nth-child(7) > div > div:nth-child(2) > div > div:nth-child(1) > div:nth-child(2) > span\").text\n",
    "    except: #Hay casos con distinto lugar para el número de páginas \n",
    "        paginas = driver.find_element(\"css selector\", \"#app > div.v-application--wrap > main > div > div > div > div:nth-child(8) > div > div:nth-child(2) > div > div:nth-child(1) > div:nth-child(2) > span\").text\n",
    "        sleep(1)\n",
    "    diccionario_libros[\"páginas\"].append(paginas)\n",
    "    sleep(1)\n",
    "\n",
    "    #Volvemos a la página previa\n",
    "    sleep(12)\n",
    "    driver.back()\n",
    "    sleep(4)\n",
    "\n",
    "print(diccionario_libros)\n",
    "\n",
    "#Pasamos de página:\n",
    "sleep(3)\n",
    "\n",
    "#Cerramos el navegador\n",
    "driver.close()"
   ]
  },
  {
   "cell_type": "code",
   "execution_count": 25,
   "metadata": {},
   "outputs": [
    {
     "name": "stdout",
     "output_type": "stream",
     "text": [
      "5\n"
     ]
    }
   ],
   "source": [
    "print(len(diccionario_libros['título']))"
   ]
  },
  {
   "cell_type": "code",
   "execution_count": 26,
   "metadata": {},
   "outputs": [
    {
     "name": "stdout",
     "output_type": "stream",
     "text": [
      "5\n"
     ]
    }
   ],
   "source": [
    "print(len(diccionario_libros['páginas']))"
   ]
  },
  {
   "cell_type": "code",
   "execution_count": 27,
   "metadata": {},
   "outputs": [
    {
     "data": {
      "text/plain": [
       "{'título': ['LA CHICA DEL VERANO (NOVELA)',\n",
       "  'LA ARMADURA DE LA LUZ (SAGA LOS PILARES DE LA TIERRA 5)',\n",
       "  'EL INFIERNO',\n",
       "  'EL PROBLEMA FINAL',\n",
       "  'TODO VUELVE (SERIE TODO ARDE 2)'],\n",
       " 'autor': ['LA VECINA RUBIA',\n",
       "  'KEN FOLLETT',\n",
       "  'CARMEN MOLA',\n",
       "  'ARTURO PEREZ REVERTE',\n",
       "  'JUAN GOMEZ JURADO'],\n",
       " 'precio': ['18,90 €\\nEnvío gratis',\n",
       "  '23,65 €\\nEnvío gratis',\n",
       "  '21,75 €\\nEnvío gratis',\n",
       "  '20,80 €\\nEnvío gratis',\n",
       "  '21,75 €\\nEnvío gratis'],\n",
       " 'editorial': ['TIMUN MAS',\n",
       "  'PLAZA & JANES EDITORES',\n",
       "  'PLANETA',\n",
       "  'ALFAGUARA',\n",
       "  'EDICIONES B'],\n",
       " 'idioma': ['CASTELLANO',\n",
       "  'CASTELLANO',\n",
       "  'CASTELLANO',\n",
       "  'CASTELLANO',\n",
       "  'CASTELLANO'],\n",
       " 'páginas': ['424', '832', '480', '328', '608']}"
      ]
     },
     "execution_count": 27,
     "metadata": {},
     "output_type": "execute_result"
    }
   ],
   "source": [
    "diccionario_libros"
   ]
  },
  {
   "cell_type": "code",
   "execution_count": 28,
   "metadata": {},
   "outputs": [
    {
     "data": {
      "text/html": [
       "<div>\n",
       "<style scoped>\n",
       "    .dataframe tbody tr th:only-of-type {\n",
       "        vertical-align: middle;\n",
       "    }\n",
       "\n",
       "    .dataframe tbody tr th {\n",
       "        vertical-align: top;\n",
       "    }\n",
       "\n",
       "    .dataframe thead th {\n",
       "        text-align: right;\n",
       "    }\n",
       "</style>\n",
       "<table border=\"1\" class=\"dataframe\">\n",
       "  <thead>\n",
       "    <tr style=\"text-align: right;\">\n",
       "      <th></th>\n",
       "      <th>título</th>\n",
       "      <th>autor</th>\n",
       "      <th>precio</th>\n",
       "      <th>editorial</th>\n",
       "      <th>idioma</th>\n",
       "      <th>páginas</th>\n",
       "    </tr>\n",
       "  </thead>\n",
       "  <tbody>\n",
       "    <tr>\n",
       "      <th>0</th>\n",
       "      <td>LA CHICA DEL VERANO (NOVELA)</td>\n",
       "      <td>LA VECINA RUBIA</td>\n",
       "      <td>18,90 €\\nEnvío gratis</td>\n",
       "      <td>TIMUN MAS</td>\n",
       "      <td>CASTELLANO</td>\n",
       "      <td>424</td>\n",
       "    </tr>\n",
       "    <tr>\n",
       "      <th>1</th>\n",
       "      <td>LA ARMADURA DE LA LUZ (SAGA LOS PILARES DE LA ...</td>\n",
       "      <td>KEN FOLLETT</td>\n",
       "      <td>23,65 €\\nEnvío gratis</td>\n",
       "      <td>PLAZA &amp; JANES EDITORES</td>\n",
       "      <td>CASTELLANO</td>\n",
       "      <td>832</td>\n",
       "    </tr>\n",
       "    <tr>\n",
       "      <th>2</th>\n",
       "      <td>EL INFIERNO</td>\n",
       "      <td>CARMEN MOLA</td>\n",
       "      <td>21,75 €\\nEnvío gratis</td>\n",
       "      <td>PLANETA</td>\n",
       "      <td>CASTELLANO</td>\n",
       "      <td>480</td>\n",
       "    </tr>\n",
       "    <tr>\n",
       "      <th>3</th>\n",
       "      <td>EL PROBLEMA FINAL</td>\n",
       "      <td>ARTURO PEREZ REVERTE</td>\n",
       "      <td>20,80 €\\nEnvío gratis</td>\n",
       "      <td>ALFAGUARA</td>\n",
       "      <td>CASTELLANO</td>\n",
       "      <td>328</td>\n",
       "    </tr>\n",
       "    <tr>\n",
       "      <th>4</th>\n",
       "      <td>TODO VUELVE (SERIE TODO ARDE 2)</td>\n",
       "      <td>JUAN GOMEZ JURADO</td>\n",
       "      <td>21,75 €\\nEnvío gratis</td>\n",
       "      <td>EDICIONES B</td>\n",
       "      <td>CASTELLANO</td>\n",
       "      <td>608</td>\n",
       "    </tr>\n",
       "  </tbody>\n",
       "</table>\n",
       "</div>"
      ],
      "text/plain": [
       "                                              título                 autor  \\\n",
       "0                       LA CHICA DEL VERANO (NOVELA)       LA VECINA RUBIA   \n",
       "1  LA ARMADURA DE LA LUZ (SAGA LOS PILARES DE LA ...           KEN FOLLETT   \n",
       "2                                        EL INFIERNO           CARMEN MOLA   \n",
       "3                                  EL PROBLEMA FINAL  ARTURO PEREZ REVERTE   \n",
       "4                    TODO VUELVE (SERIE TODO ARDE 2)     JUAN GOMEZ JURADO   \n",
       "\n",
       "                  precio               editorial      idioma páginas  \n",
       "0  18,90 €\\nEnvío gratis               TIMUN MAS  CASTELLANO     424  \n",
       "1  23,65 €\\nEnvío gratis  PLAZA & JANES EDITORES  CASTELLANO     832  \n",
       "2  21,75 €\\nEnvío gratis                 PLANETA  CASTELLANO     480  \n",
       "3  20,80 €\\nEnvío gratis               ALFAGUARA  CASTELLANO     328  \n",
       "4  21,75 €\\nEnvío gratis             EDICIONES B  CASTELLANO     608  "
      ]
     },
     "execution_count": 28,
     "metadata": {},
     "output_type": "execute_result"
    }
   ],
   "source": [
    "df_result = pd.DataFrame(diccionario_libros)\n",
    "df_result"
   ]
  }
 ],
 "metadata": {
  "kernelspec": {
   "display_name": "base",
   "language": "python",
   "name": "python3"
  },
  "language_info": {
   "codemirror_mode": {
    "name": "ipython",
    "version": 3
   },
   "file_extension": ".py",
   "mimetype": "text/x-python",
   "name": "python",
   "nbconvert_exporter": "python",
   "pygments_lexer": "ipython3",
   "version": "3.11.4"
  }
 },
 "nbformat": 4,
 "nbformat_minor": 2
}
