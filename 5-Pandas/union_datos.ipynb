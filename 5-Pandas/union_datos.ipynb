{
 "cells": [
  {
   "cell_type": "markdown",
   "metadata": {},
   "source": [
    "## Ejercicios Unión de Datos\n",
    "Para realizar este pair programming deberéis usar el conjunto de datos de world-data-2023-part1.csv y el de world-data-2023-part2.csv.\n",
    "Hoy tenemos un dataset nuevo, en este encontraremos las siguientes columnas:\n",
    "- GDP: Producto Interno Bruto, el valor total de bienes y servicios producidos en el país.\n",
    "- Gross primary education enrollment (%): Tasa bruta de matriculación en educación primaria.\n",
    "- Gross tertiary education enrollment (%): Tasa bruta de matriculación en educación terciaria.\n",
    "- Infant mortality: Número de muertes por cada 1,000 nacidos vivos antes de cumplir un año de edad.\n",
    "- Largest city: Nombre de la ciudad más grande del país.\n",
    "- Life expectancy: Número promedio de años que se espera que viva un recién nacido.\n",
    "- Maternal mortality ratio: Número de muertes maternas por cada 100,000 nacidos vivos.\n",
    "- Minimum wage: Nivel de salario mínimo en moneda local.\n",
    "- Official language: Idioma(s) oficial(es) hablado(s) en el país.\n",
    "- Out of pocket health expenditure: Porcentaje del gasto total en salud pagado directamente por individuos.\n",
    "- Physicians per thousand: Número de médicos por cada mil personas.\n",
    "- Population: Población total del país.\n",
    "- Population: Labor force participation (%): Porcentaje de la población que forma parte de la fuerza laboral.\n",
    "- Tax revenue (%): Ingresos fiscales como porcentaje del PIB.\n",
    "- Total tax rate: Carga fiscal total como porcentaje de las ganancias comerciales.\n",
    "- Unemployment rate: Porcentaje de la fuerza laboral que está desempleada.\n",
    "- Urban_population: Porcentaje de la población que vive en áreas urbanas.\n",
    "- coordinates: Coordenadas de latitud y longitud de la ubicación del país.\n",
    "- country: Nombre del país.\n",
    "\n",
    "Tienes a tu disposición dos conjuntos de datos, \"world-data-2023-part1.csv\" y \"world-data-2023-part2.csv\", que contienen información de una serie de indicadores y datos de distintos países. Tu tarea es explorar estos conjuntos de datos y determinar qué tienen en común en términos de columnas y datos.\n",
    "\n",
    "Luego, debes crear un nuevo DataFrame que combine la información de ambos conjuntos de datos en un solo conjunto de datos. Para hacerlo, debes seleccionar el método de unión de Pandas que consideres más apropiado para esta situación y justificar por qué crees que ese método es el mejor en tu informe.\n",
    "\n",
    "Asegúrate de realizar los siguientes pasos:\n",
    "1. Explora y carga ambos conjuntos de datos en pandas DataFrames."
   ]
  },
  {
   "cell_type": "code",
   "execution_count": 43,
   "metadata": {},
   "outputs": [],
   "source": [
    "import pandas as pd"
   ]
  },
  {
   "cell_type": "code",
   "execution_count": 44,
   "metadata": {},
   "outputs": [],
   "source": [
    "df_world_data_1 = pd.read_csv(\"data/world-data-2023_part1.csv\", index_col = 0)\n",
    "df_world_data_2 = pd.read_csv(\"data/world-data-2023_part2.csv\", index_col = 0)"
   ]
  },
  {
   "cell_type": "markdown",
   "metadata": {},
   "source": [
    "2. Identifica las columnas comunes entre los dos conjuntos de datos."
   ]
  },
  {
   "cell_type": "code",
   "execution_count": 45,
   "metadata": {},
   "outputs": [
    {
     "data": {
      "text/plain": [
       "Index(['Country', 'Density\\n(P/Km2)', 'Abbreviation', 'Agricultural Land( %)',\n",
       "       'Land Area(Km2)', 'Armed Forces size', 'Birth Rate', 'Calling Code',\n",
       "       'Capital/Major City', 'Co2-Emissions', 'CPI', 'CPI Change (%)',\n",
       "       'Currency-Code', 'Fertility Rate', 'Forested Area (%)',\n",
       "       'Gasoline Price'],\n",
       "      dtype='object')"
      ]
     },
     "execution_count": 45,
     "metadata": {},
     "output_type": "execute_result"
    }
   ],
   "source": [
    "df_world_data_1.columns"
   ]
  },
  {
   "cell_type": "code",
   "execution_count": 46,
   "metadata": {},
   "outputs": [
    {
     "data": {
      "text/plain": [
       "Index(['GDP', 'Gross primary education enrollment (%)',\n",
       "       'Gross tertiary education enrollment (%)', 'Infant mortality',\n",
       "       'Largest city', 'Life expectancy', 'Maternal mortality ratio',\n",
       "       'Minimum wage', 'Official language', 'Out of pocket health expenditure',\n",
       "       'Physicians per thousand', 'Population',\n",
       "       'Population: Labor force participation (%)', 'Tax revenue (%)',\n",
       "       'Total tax rate', 'Unemployment rate', 'Urban_population', 'country',\n",
       "       'coordinates'],\n",
       "      dtype='object')"
      ]
     },
     "execution_count": 46,
     "metadata": {},
     "output_type": "execute_result"
    }
   ],
   "source": [
    "df_world_data_2.columns"
   ]
  },
  {
   "cell_type": "markdown",
   "metadata": {},
   "source": [
    "3. Utiliza el método de unión de Pandas que consideres más adecuado para combinar los datos de ambos años en un solo DataFrame."
   ]
  },
  {
   "cell_type": "code",
   "execution_count": 47,
   "metadata": {},
   "outputs": [],
   "source": [
    "df_world_data_2.rename(columns={'country': 'Country'}, inplace=True)"
   ]
  },
  {
   "cell_type": "code",
   "execution_count": 48,
   "metadata": {},
   "outputs": [
    {
     "data": {
      "text/html": [
       "<div>\n",
       "<style scoped>\n",
       "    .dataframe tbody tr th:only-of-type {\n",
       "        vertical-align: middle;\n",
       "    }\n",
       "\n",
       "    .dataframe tbody tr th {\n",
       "        vertical-align: top;\n",
       "    }\n",
       "\n",
       "    .dataframe thead th {\n",
       "        text-align: right;\n",
       "    }\n",
       "</style>\n",
       "<table border=\"1\" class=\"dataframe\">\n",
       "  <thead>\n",
       "    <tr style=\"text-align: right;\">\n",
       "      <th></th>\n",
       "      <th>Country</th>\n",
       "      <th>Density\\n(P/Km2)</th>\n",
       "      <th>Abbreviation</th>\n",
       "      <th>Agricultural Land( %)</th>\n",
       "      <th>Land Area(Km2)</th>\n",
       "      <th>Armed Forces size</th>\n",
       "      <th>Birth Rate</th>\n",
       "      <th>Calling Code</th>\n",
       "      <th>Capital/Major City</th>\n",
       "      <th>Co2-Emissions</th>\n",
       "      <th>...</th>\n",
       "      <th>Official language</th>\n",
       "      <th>Out of pocket health expenditure</th>\n",
       "      <th>Physicians per thousand</th>\n",
       "      <th>Population</th>\n",
       "      <th>Population: Labor force participation (%)</th>\n",
       "      <th>Tax revenue (%)</th>\n",
       "      <th>Total tax rate</th>\n",
       "      <th>Unemployment rate</th>\n",
       "      <th>Urban_population</th>\n",
       "      <th>coordinates</th>\n",
       "    </tr>\n",
       "  </thead>\n",
       "  <tbody>\n",
       "    <tr>\n",
       "      <th>0</th>\n",
       "      <td>Afghanistan</td>\n",
       "      <td>60</td>\n",
       "      <td>AF</td>\n",
       "      <td>58.10%</td>\n",
       "      <td>652,230</td>\n",
       "      <td>323,000</td>\n",
       "      <td>32.49</td>\n",
       "      <td>93.0</td>\n",
       "      <td>Kabul</td>\n",
       "      <td>8,672</td>\n",
       "      <td>...</td>\n",
       "      <td>Pashto</td>\n",
       "      <td>78.40%</td>\n",
       "      <td>0.28</td>\n",
       "      <td>38,041,754</td>\n",
       "      <td>48.90%</td>\n",
       "      <td>9.30%</td>\n",
       "      <td>71.40%</td>\n",
       "      <td>11.12%</td>\n",
       "      <td>9,797,273</td>\n",
       "      <td>('33.93911 ', '67.709953')</td>\n",
       "    </tr>\n",
       "    <tr>\n",
       "      <th>1</th>\n",
       "      <td>Albania</td>\n",
       "      <td>105</td>\n",
       "      <td>AL</td>\n",
       "      <td>43.10%</td>\n",
       "      <td>28,748</td>\n",
       "      <td>9,000</td>\n",
       "      <td>11.78</td>\n",
       "      <td>355.0</td>\n",
       "      <td>Tirana</td>\n",
       "      <td>4,536</td>\n",
       "      <td>...</td>\n",
       "      <td>Albanian</td>\n",
       "      <td>56.90%</td>\n",
       "      <td>1.20</td>\n",
       "      <td>2,854,191</td>\n",
       "      <td>55.70%</td>\n",
       "      <td>18.60%</td>\n",
       "      <td>36.60%</td>\n",
       "      <td>12.33%</td>\n",
       "      <td>1,747,593</td>\n",
       "      <td>('41.153332 ', '20.168331')</td>\n",
       "    </tr>\n",
       "  </tbody>\n",
       "</table>\n",
       "<p>2 rows × 34 columns</p>\n",
       "</div>"
      ],
      "text/plain": [
       "       Country Density\\n(P/Km2) Abbreviation Agricultural Land( %)  \\\n",
       "0  Afghanistan               60           AF                58.10%   \n",
       "1      Albania              105           AL                43.10%   \n",
       "\n",
       "  Land Area(Km2) Armed Forces size  Birth Rate  Calling Code  \\\n",
       "0        652,230           323,000       32.49          93.0   \n",
       "1         28,748             9,000       11.78         355.0   \n",
       "\n",
       "  Capital/Major City Co2-Emissions  ... Official language  \\\n",
       "0              Kabul         8,672  ...            Pashto   \n",
       "1             Tirana         4,536  ...          Albanian   \n",
       "\n",
       "  Out of pocket health expenditure Physicians per thousand  Population  \\\n",
       "0                           78.40%                    0.28  38,041,754   \n",
       "1                           56.90%                    1.20   2,854,191   \n",
       "\n",
       "  Population: Labor force participation (%) Tax revenue (%) Total tax rate  \\\n",
       "0                                    48.90%           9.30%         71.40%   \n",
       "1                                    55.70%          18.60%         36.60%   \n",
       "\n",
       "  Unemployment rate Urban_population                  coordinates  \n",
       "0            11.12%        9,797,273   ('33.93911 ', '67.709953')  \n",
       "1            12.33%        1,747,593  ('41.153332 ', '20.168331')  \n",
       "\n",
       "[2 rows x 34 columns]"
      ]
     },
     "execution_count": 48,
     "metadata": {},
     "output_type": "execute_result"
    }
   ],
   "source": [
    "df_world_data_total = pd.merge(df_world_data_1, df_world_data_2, on='Country')\n",
    "df_world_data_total.head(2)"
   ]
  },
  {
   "cell_type": "code",
   "execution_count": 49,
   "metadata": {},
   "outputs": [
    {
     "name": "stdout",
     "output_type": "stream",
     "text": [
      "(195, 16)\n",
      "------\n",
      "(195, 19)\n",
      "------\n",
      "(195, 34)\n"
     ]
    }
   ],
   "source": [
    "print(df_world_data_1.shape)\n",
    "print(\"------\")\n",
    "print(df_world_data_2.shape)\n",
    "print(\"------\")\n",
    "print(df_world_data_total.shape)"
   ]
  },
  {
   "cell_type": "markdown",
   "metadata": {},
   "source": [
    "4. Explica por qué elegiste ese método de unión y cómo se llevaron a cabo los pasos anteriores."
   ]
  },
  {
   "cell_type": "markdown",
   "metadata": {},
   "source": [
    "Hemos decidido usar merge para unirlas por la columna country (que tenia los mismos datos). \n",
    "Primero le hemos homogeneizado los nombres para que no nos salga repetidas las 2 columnas."
   ]
  },
  {
   "cell_type": "markdown",
   "metadata": {},
   "source": [
    "# Ejercicios de Limpieza\n",
    "1. Después de la unión de datos, tenemos dos columnas de \"country\". Elimina una de ellas."
   ]
  },
  {
   "cell_type": "markdown",
   "metadata": {},
   "source": [
    "Como nos pasaba eso en el ejercicio anterior hemos unificado las columnas poniendoles el mismo nombre. Si no, tendríamos que usar drop()"
   ]
  },
  {
   "cell_type": "markdown",
   "metadata": {},
   "source": [
    "2. Los nombres de las columnas no son homogeneos. Cambia los nombres de las columnas de tal forma que:\n",
    "    - No tengan espacios.\n",
    "    - Estén en minúscula.\n",
    "    - No tengan paréntesis, es decir, quitar \"(%)\", \"(Km2)\".\n",
    "    - Algunas columnas tiene \"\\n\". Eliminalos de los nombres de las columnas.\n",
    "    - Algunas columnas tienen \":\". Eliminalos de los nombres de las columnas."
   ]
  },
  {
   "cell_type": "code",
   "execution_count": 77,
   "metadata": {},
   "outputs": [
    {
     "name": "stdout",
     "output_type": "stream",
     "text": [
      "country\n",
      "density\n",
      "abbreviation\n",
      "agriculturalland\n",
      "landarea\n",
      "armedforcessize\n",
      "birthrate\n",
      "callingcode\n",
      "capital/majorcity\n",
      "co2-emissions\n",
      "cpi\n",
      "cpichange\n",
      "currency-code\n",
      "fertilityrate\n",
      "forestedarea\n",
      "gasolineprice\n",
      "gdp\n",
      "grossprimaryeducationenrollment\n",
      "grosstertiaryeducationenrollment\n",
      "infantmortality\n",
      "largestcity\n",
      "lifeexpectancy\n",
      "maternalmortalityratio\n",
      "minimumwage\n",
      "officiallanguage\n",
      "outofpockethealthexpenditure\n",
      "physiciansperthousand\n",
      "population\n",
      "populationlaborforceparticipation\n",
      "taxrevenue\n",
      "totaltaxrate\n",
      "unemploymentrate\n",
      "urban_population\n",
      "coordinates\n"
     ]
    }
   ],
   "source": [
    "for columna in df_world_data_total.columns:\n",
    "    columna= columna.split(\"(\")[0].lower().replace(\" \",\"\").replace(\"\\n\",\"\").replace(\":\",\"\")\n",
    "    print(columna)"
   ]
  },
  {
   "cell_type": "code",
   "execution_count": 79,
   "metadata": {},
   "outputs": [
    {
     "data": {
      "text/plain": [
       "{'Country': 'country',\n",
       " 'Density\\n(P/Km2)': 'density',\n",
       " 'Abbreviation': 'abbreviation',\n",
       " 'Agricultural Land( %)': 'agriculturalland',\n",
       " 'Land Area(Km2)': 'landarea',\n",
       " 'Armed Forces size': 'armedforcessize',\n",
       " 'Birth Rate': 'birthrate',\n",
       " 'Calling Code': 'callingcode',\n",
       " 'Capital/Major City': 'capital/majorcity',\n",
       " 'Co2-Emissions': 'co2-emissions',\n",
       " 'CPI': 'cpi',\n",
       " 'CPI Change (%)': 'cpichange',\n",
       " 'Currency-Code': 'currency-code',\n",
       " 'Fertility Rate': 'fertilityrate',\n",
       " 'Forested Area (%)': 'forestedarea',\n",
       " 'Gasoline Price': 'gasolineprice',\n",
       " 'GDP': 'gdp',\n",
       " 'Gross primary education enrollment (%)': 'grossprimaryeducationenrollment',\n",
       " 'Gross tertiary education enrollment (%)': 'grosstertiaryeducationenrollment',\n",
       " 'Infant mortality': 'infantmortality',\n",
       " 'Largest city': 'largestcity',\n",
       " 'Life expectancy': 'lifeexpectancy',\n",
       " 'Maternal mortality ratio': 'maternalmortalityratio',\n",
       " 'Minimum wage': 'minimumwage',\n",
       " 'Official language': 'officiallanguage',\n",
       " 'Out of pocket health expenditure': 'outofpockethealthexpenditure',\n",
       " 'Physicians per thousand': 'physiciansperthousand',\n",
       " 'Population': 'population',\n",
       " 'Population: Labor force participation (%)': 'populationlaborforceparticipation',\n",
       " 'Tax revenue (%)': 'taxrevenue',\n",
       " 'Total tax rate': 'totaltaxrate',\n",
       " 'Unemployment rate': 'unemploymentrate',\n",
       " 'Urban_population': 'urban_population',\n",
       " 'coordinates': 'coordinates'}"
      ]
     },
     "execution_count": 79,
     "metadata": {},
     "output_type": "execute_result"
    }
   ],
   "source": [
    "new_columnas={columna: columna.split(\"(\")[0].lower().replace(\" \",\"\").replace(\"\\n\",\"\").replace(\":\",\"\") for columna in df_world_data_total.columns} \n",
    "new_columnas"
   ]
  },
  {
   "cell_type": "code",
   "execution_count": 81,
   "metadata": {},
   "outputs": [
    {
     "data": {
      "text/html": [
       "<div>\n",
       "<style scoped>\n",
       "    .dataframe tbody tr th:only-of-type {\n",
       "        vertical-align: middle;\n",
       "    }\n",
       "\n",
       "    .dataframe tbody tr th {\n",
       "        vertical-align: top;\n",
       "    }\n",
       "\n",
       "    .dataframe thead th {\n",
       "        text-align: right;\n",
       "    }\n",
       "</style>\n",
       "<table border=\"1\" class=\"dataframe\">\n",
       "  <thead>\n",
       "    <tr style=\"text-align: right;\">\n",
       "      <th></th>\n",
       "      <th>country</th>\n",
       "      <th>density</th>\n",
       "      <th>abbreviation</th>\n",
       "      <th>agriculturalland</th>\n",
       "      <th>landarea</th>\n",
       "      <th>armedforcessize</th>\n",
       "      <th>birthrate</th>\n",
       "      <th>callingcode</th>\n",
       "      <th>capital/majorcity</th>\n",
       "      <th>co2-emissions</th>\n",
       "      <th>...</th>\n",
       "      <th>officiallanguage</th>\n",
       "      <th>outofpockethealthexpenditure</th>\n",
       "      <th>physiciansperthousand</th>\n",
       "      <th>population</th>\n",
       "      <th>populationlaborforceparticipation</th>\n",
       "      <th>taxrevenue</th>\n",
       "      <th>totaltaxrate</th>\n",
       "      <th>unemploymentrate</th>\n",
       "      <th>urban_population</th>\n",
       "      <th>coordinates</th>\n",
       "    </tr>\n",
       "  </thead>\n",
       "  <tbody>\n",
       "    <tr>\n",
       "      <th>0</th>\n",
       "      <td>Afghanistan</td>\n",
       "      <td>60</td>\n",
       "      <td>AF</td>\n",
       "      <td>58.10%</td>\n",
       "      <td>652,230</td>\n",
       "      <td>323,000</td>\n",
       "      <td>32.49</td>\n",
       "      <td>93.0</td>\n",
       "      <td>Kabul</td>\n",
       "      <td>8,672</td>\n",
       "      <td>...</td>\n",
       "      <td>Pashto</td>\n",
       "      <td>78.40%</td>\n",
       "      <td>0.28</td>\n",
       "      <td>38,041,754</td>\n",
       "      <td>48.90%</td>\n",
       "      <td>9.30%</td>\n",
       "      <td>71.40%</td>\n",
       "      <td>11.12%</td>\n",
       "      <td>9,797,273</td>\n",
       "      <td>('33.93911 ', '67.709953')</td>\n",
       "    </tr>\n",
       "    <tr>\n",
       "      <th>1</th>\n",
       "      <td>Albania</td>\n",
       "      <td>105</td>\n",
       "      <td>AL</td>\n",
       "      <td>43.10%</td>\n",
       "      <td>28,748</td>\n",
       "      <td>9,000</td>\n",
       "      <td>11.78</td>\n",
       "      <td>355.0</td>\n",
       "      <td>Tirana</td>\n",
       "      <td>4,536</td>\n",
       "      <td>...</td>\n",
       "      <td>Albanian</td>\n",
       "      <td>56.90%</td>\n",
       "      <td>1.20</td>\n",
       "      <td>2,854,191</td>\n",
       "      <td>55.70%</td>\n",
       "      <td>18.60%</td>\n",
       "      <td>36.60%</td>\n",
       "      <td>12.33%</td>\n",
       "      <td>1,747,593</td>\n",
       "      <td>('41.153332 ', '20.168331')</td>\n",
       "    </tr>\n",
       "    <tr>\n",
       "      <th>2</th>\n",
       "      <td>Algeria</td>\n",
       "      <td>18</td>\n",
       "      <td>DZ</td>\n",
       "      <td>17.40%</td>\n",
       "      <td>2,381,741</td>\n",
       "      <td>317,000</td>\n",
       "      <td>24.28</td>\n",
       "      <td>213.0</td>\n",
       "      <td>Algiers</td>\n",
       "      <td>150,006</td>\n",
       "      <td>...</td>\n",
       "      <td>Arabic</td>\n",
       "      <td>28.10%</td>\n",
       "      <td>1.72</td>\n",
       "      <td>43,053,054</td>\n",
       "      <td>41.20%</td>\n",
       "      <td>37.20%</td>\n",
       "      <td>66.10%</td>\n",
       "      <td>11.70%</td>\n",
       "      <td>31,510,100</td>\n",
       "      <td>('28.033886 ', '1.659626')</td>\n",
       "    </tr>\n",
       "    <tr>\n",
       "      <th>3</th>\n",
       "      <td>Andorra</td>\n",
       "      <td>164</td>\n",
       "      <td>AD</td>\n",
       "      <td>40.00%</td>\n",
       "      <td>468</td>\n",
       "      <td>NaN</td>\n",
       "      <td>7.20</td>\n",
       "      <td>376.0</td>\n",
       "      <td>Andorra la Vella</td>\n",
       "      <td>469</td>\n",
       "      <td>...</td>\n",
       "      <td>Catalan</td>\n",
       "      <td>36.40%</td>\n",
       "      <td>3.33</td>\n",
       "      <td>77,142</td>\n",
       "      <td>NaN</td>\n",
       "      <td>NaN</td>\n",
       "      <td>NaN</td>\n",
       "      <td>NaN</td>\n",
       "      <td>67,873</td>\n",
       "      <td>('42.506285 ', '1.521801')</td>\n",
       "    </tr>\n",
       "    <tr>\n",
       "      <th>4</th>\n",
       "      <td>Angola</td>\n",
       "      <td>26</td>\n",
       "      <td>AO</td>\n",
       "      <td>47.50%</td>\n",
       "      <td>1,246,700</td>\n",
       "      <td>117,000</td>\n",
       "      <td>40.73</td>\n",
       "      <td>244.0</td>\n",
       "      <td>Luanda</td>\n",
       "      <td>34,693</td>\n",
       "      <td>...</td>\n",
       "      <td>Portuguese</td>\n",
       "      <td>33.40%</td>\n",
       "      <td>0.21</td>\n",
       "      <td>31,825,295</td>\n",
       "      <td>77.50%</td>\n",
       "      <td>9.20%</td>\n",
       "      <td>49.10%</td>\n",
       "      <td>6.89%</td>\n",
       "      <td>21,061,025</td>\n",
       "      <td>('-11.202692 ', '17.873887')</td>\n",
       "    </tr>\n",
       "  </tbody>\n",
       "</table>\n",
       "<p>5 rows × 34 columns</p>\n",
       "</div>"
      ],
      "text/plain": [
       "       country density abbreviation agriculturalland   landarea  \\\n",
       "0  Afghanistan      60           AF           58.10%    652,230   \n",
       "1      Albania     105           AL           43.10%     28,748   \n",
       "2      Algeria      18           DZ           17.40%  2,381,741   \n",
       "3      Andorra     164           AD           40.00%        468   \n",
       "4       Angola      26           AO           47.50%  1,246,700   \n",
       "\n",
       "  armedforcessize  birthrate  callingcode capital/majorcity co2-emissions  \\\n",
       "0         323,000      32.49         93.0             Kabul         8,672   \n",
       "1           9,000      11.78        355.0            Tirana         4,536   \n",
       "2         317,000      24.28        213.0           Algiers       150,006   \n",
       "3             NaN       7.20        376.0  Andorra la Vella           469   \n",
       "4         117,000      40.73        244.0            Luanda        34,693   \n",
       "\n",
       "   ... officiallanguage outofpockethealthexpenditure physiciansperthousand  \\\n",
       "0  ...           Pashto                       78.40%                  0.28   \n",
       "1  ...         Albanian                       56.90%                  1.20   \n",
       "2  ...           Arabic                       28.10%                  1.72   \n",
       "3  ...          Catalan                       36.40%                  3.33   \n",
       "4  ...       Portuguese                       33.40%                  0.21   \n",
       "\n",
       "   population populationlaborforceparticipation taxrevenue totaltaxrate  \\\n",
       "0  38,041,754                            48.90%      9.30%       71.40%   \n",
       "1   2,854,191                            55.70%     18.60%       36.60%   \n",
       "2  43,053,054                            41.20%     37.20%       66.10%   \n",
       "3      77,142                               NaN        NaN          NaN   \n",
       "4  31,825,295                            77.50%      9.20%       49.10%   \n",
       "\n",
       "  unemploymentrate urban_population                   coordinates  \n",
       "0           11.12%        9,797,273    ('33.93911 ', '67.709953')  \n",
       "1           12.33%        1,747,593   ('41.153332 ', '20.168331')  \n",
       "2           11.70%       31,510,100    ('28.033886 ', '1.659626')  \n",
       "3              NaN           67,873    ('42.506285 ', '1.521801')  \n",
       "4            6.89%       21,061,025  ('-11.202692 ', '17.873887')  \n",
       "\n",
       "[5 rows x 34 columns]"
      ]
     },
     "execution_count": 81,
     "metadata": {},
     "output_type": "execute_result"
    }
   ],
   "source": [
    "df_world_data_total.rename(columns = new_columnas, inplace = True)\n",
    "df_world_data_total.head()"
   ]
  },
  {
   "cell_type": "markdown",
   "metadata": {},
   "source": [
    "3. La columnas coordinates tiene la latitud y la longitud en una sola columna. Crea dos columnas nuevas, una con la longitud y otra con la latitud. Una vez hecho, elimina la columna de coordinates."
   ]
  },
  {
   "cell_type": "code",
   "execution_count": 82,
   "metadata": {},
   "outputs": [
    {
     "data": {
      "text/plain": [
       "0     ('33.93911 ', '67.709953')\n",
       "1    ('41.153332 ', '20.168331')\n",
       "2     ('28.033886 ', '1.659626')\n",
       "Name: coordinates, dtype: object"
      ]
     },
     "execution_count": 82,
     "metadata": {},
     "output_type": "execute_result"
    }
   ],
   "source": [
    "df_world_data_total[\"coordinates\"].head(3)"
   ]
  },
  {
   "cell_type": "code",
   "execution_count": 83,
   "metadata": {},
   "outputs": [
    {
     "data": {
      "text/html": [
       "<div>\n",
       "<style scoped>\n",
       "    .dataframe tbody tr th:only-of-type {\n",
       "        vertical-align: middle;\n",
       "    }\n",
       "\n",
       "    .dataframe tbody tr th {\n",
       "        vertical-align: top;\n",
       "    }\n",
       "\n",
       "    .dataframe thead th {\n",
       "        text-align: right;\n",
       "    }\n",
       "</style>\n",
       "<table border=\"1\" class=\"dataframe\">\n",
       "  <thead>\n",
       "    <tr style=\"text-align: right;\">\n",
       "      <th></th>\n",
       "      <th>0</th>\n",
       "      <th>1</th>\n",
       "    </tr>\n",
       "  </thead>\n",
       "  <tbody>\n",
       "    <tr>\n",
       "      <th>0</th>\n",
       "      <td>('33.93911 '</td>\n",
       "      <td>'67.709953')</td>\n",
       "    </tr>\n",
       "    <tr>\n",
       "      <th>1</th>\n",
       "      <td>('41.153332 '</td>\n",
       "      <td>'20.168331')</td>\n",
       "    </tr>\n",
       "    <tr>\n",
       "      <th>2</th>\n",
       "      <td>('28.033886 '</td>\n",
       "      <td>'1.659626')</td>\n",
       "    </tr>\n",
       "    <tr>\n",
       "      <th>3</th>\n",
       "      <td>('42.506285 '</td>\n",
       "      <td>'1.521801')</td>\n",
       "    </tr>\n",
       "    <tr>\n",
       "      <th>4</th>\n",
       "      <td>('-11.202692 '</td>\n",
       "      <td>'17.873887')</td>\n",
       "    </tr>\n",
       "    <tr>\n",
       "      <th>...</th>\n",
       "      <td>...</td>\n",
       "      <td>...</td>\n",
       "    </tr>\n",
       "    <tr>\n",
       "      <th>190</th>\n",
       "      <td>('6.42375 '</td>\n",
       "      <td>'-66.58973')</td>\n",
       "    </tr>\n",
       "    <tr>\n",
       "      <th>191</th>\n",
       "      <td>('14.058324 '</td>\n",
       "      <td>'108.277199')</td>\n",
       "    </tr>\n",
       "    <tr>\n",
       "      <th>192</th>\n",
       "      <td>('15.552727 '</td>\n",
       "      <td>'48.516388')</td>\n",
       "    </tr>\n",
       "    <tr>\n",
       "      <th>193</th>\n",
       "      <td>('-13.133897 '</td>\n",
       "      <td>'27.849332')</td>\n",
       "    </tr>\n",
       "    <tr>\n",
       "      <th>194</th>\n",
       "      <td>('-19.015438 '</td>\n",
       "      <td>'29.154857')</td>\n",
       "    </tr>\n",
       "  </tbody>\n",
       "</table>\n",
       "<p>195 rows × 2 columns</p>\n",
       "</div>"
      ],
      "text/plain": [
       "                  0               1\n",
       "0      ('33.93911 '    '67.709953')\n",
       "1     ('41.153332 '    '20.168331')\n",
       "2     ('28.033886 '     '1.659626')\n",
       "3     ('42.506285 '     '1.521801')\n",
       "4    ('-11.202692 '    '17.873887')\n",
       "..              ...             ...\n",
       "190     ('6.42375 '    '-66.58973')\n",
       "191   ('14.058324 '   '108.277199')\n",
       "192   ('15.552727 '    '48.516388')\n",
       "193  ('-13.133897 '    '27.849332')\n",
       "194  ('-19.015438 '    '29.154857')\n",
       "\n",
       "[195 rows x 2 columns]"
      ]
     },
     "execution_count": 83,
     "metadata": {},
     "output_type": "execute_result"
    }
   ],
   "source": [
    "df_world_data_total[\"coordinates\"].str.split(\",\", expand= True)"
   ]
  },
  {
   "cell_type": "code",
   "execution_count": 85,
   "metadata": {},
   "outputs": [
    {
     "data": {
      "text/html": [
       "<div>\n",
       "<style scoped>\n",
       "    .dataframe tbody tr th:only-of-type {\n",
       "        vertical-align: middle;\n",
       "    }\n",
       "\n",
       "    .dataframe tbody tr th {\n",
       "        vertical-align: top;\n",
       "    }\n",
       "\n",
       "    .dataframe thead th {\n",
       "        text-align: right;\n",
       "    }\n",
       "</style>\n",
       "<table border=\"1\" class=\"dataframe\">\n",
       "  <thead>\n",
       "    <tr style=\"text-align: right;\">\n",
       "      <th></th>\n",
       "      <th>country</th>\n",
       "      <th>density</th>\n",
       "      <th>abbreviation</th>\n",
       "      <th>agriculturalland</th>\n",
       "      <th>landarea</th>\n",
       "      <th>armedforcessize</th>\n",
       "      <th>birthrate</th>\n",
       "      <th>callingcode</th>\n",
       "      <th>capital/majorcity</th>\n",
       "      <th>co2-emissions</th>\n",
       "      <th>...</th>\n",
       "      <th>physiciansperthousand</th>\n",
       "      <th>population</th>\n",
       "      <th>populationlaborforceparticipation</th>\n",
       "      <th>taxrevenue</th>\n",
       "      <th>totaltaxrate</th>\n",
       "      <th>unemploymentrate</th>\n",
       "      <th>urban_population</th>\n",
       "      <th>coordinates</th>\n",
       "      <th>latitud</th>\n",
       "      <th>longitud</th>\n",
       "    </tr>\n",
       "  </thead>\n",
       "  <tbody>\n",
       "    <tr>\n",
       "      <th>0</th>\n",
       "      <td>Afghanistan</td>\n",
       "      <td>60</td>\n",
       "      <td>AF</td>\n",
       "      <td>58.10%</td>\n",
       "      <td>652,230</td>\n",
       "      <td>323,000</td>\n",
       "      <td>32.49</td>\n",
       "      <td>93.0</td>\n",
       "      <td>Kabul</td>\n",
       "      <td>8,672</td>\n",
       "      <td>...</td>\n",
       "      <td>0.28</td>\n",
       "      <td>38,041,754</td>\n",
       "      <td>48.90%</td>\n",
       "      <td>9.30%</td>\n",
       "      <td>71.40%</td>\n",
       "      <td>11.12%</td>\n",
       "      <td>9,797,273</td>\n",
       "      <td>('33.93911 ', '67.709953')</td>\n",
       "      <td>('33.93911 '</td>\n",
       "      <td>'67.709953')</td>\n",
       "    </tr>\n",
       "    <tr>\n",
       "      <th>1</th>\n",
       "      <td>Albania</td>\n",
       "      <td>105</td>\n",
       "      <td>AL</td>\n",
       "      <td>43.10%</td>\n",
       "      <td>28,748</td>\n",
       "      <td>9,000</td>\n",
       "      <td>11.78</td>\n",
       "      <td>355.0</td>\n",
       "      <td>Tirana</td>\n",
       "      <td>4,536</td>\n",
       "      <td>...</td>\n",
       "      <td>1.20</td>\n",
       "      <td>2,854,191</td>\n",
       "      <td>55.70%</td>\n",
       "      <td>18.60%</td>\n",
       "      <td>36.60%</td>\n",
       "      <td>12.33%</td>\n",
       "      <td>1,747,593</td>\n",
       "      <td>('41.153332 ', '20.168331')</td>\n",
       "      <td>('41.153332 '</td>\n",
       "      <td>'20.168331')</td>\n",
       "    </tr>\n",
       "  </tbody>\n",
       "</table>\n",
       "<p>2 rows × 36 columns</p>\n",
       "</div>"
      ],
      "text/plain": [
       "       country density abbreviation agriculturalland landarea armedforcessize  \\\n",
       "0  Afghanistan      60           AF           58.10%  652,230         323,000   \n",
       "1      Albania     105           AL           43.10%   28,748           9,000   \n",
       "\n",
       "   birthrate  callingcode capital/majorcity co2-emissions  ...  \\\n",
       "0      32.49         93.0             Kabul         8,672  ...   \n",
       "1      11.78        355.0            Tirana         4,536  ...   \n",
       "\n",
       "  physiciansperthousand  population populationlaborforceparticipation  \\\n",
       "0                  0.28  38,041,754                            48.90%   \n",
       "1                  1.20   2,854,191                            55.70%   \n",
       "\n",
       "   taxrevenue totaltaxrate unemploymentrate urban_population  \\\n",
       "0       9.30%       71.40%           11.12%        9,797,273   \n",
       "1      18.60%       36.60%           12.33%        1,747,593   \n",
       "\n",
       "                   coordinates        latitud       longitud  \n",
       "0   ('33.93911 ', '67.709953')   ('33.93911 '   '67.709953')  \n",
       "1  ('41.153332 ', '20.168331')  ('41.153332 '   '20.168331')  \n",
       "\n",
       "[2 rows x 36 columns]"
      ]
     },
     "execution_count": 85,
     "metadata": {},
     "output_type": "execute_result"
    }
   ],
   "source": [
    "df_world_data_total[[\"latitud\", \"longitud\"]] = df_world_data_total[\"coordinates\"].str.split(\",\", expand= True)\n",
    "df_world_data_total.head(2)"
   ]
  },
  {
   "cell_type": "code",
   "execution_count": 88,
   "metadata": {},
   "outputs": [],
   "source": [
    "df_world_data_total.drop([\"coordinates\"], axis = 1, inplace = True)"
   ]
  },
  {
   "cell_type": "code",
   "execution_count": 89,
   "metadata": {},
   "outputs": [
    {
     "data": {
      "text/html": [
       "<div>\n",
       "<style scoped>\n",
       "    .dataframe tbody tr th:only-of-type {\n",
       "        vertical-align: middle;\n",
       "    }\n",
       "\n",
       "    .dataframe tbody tr th {\n",
       "        vertical-align: top;\n",
       "    }\n",
       "\n",
       "    .dataframe thead th {\n",
       "        text-align: right;\n",
       "    }\n",
       "</style>\n",
       "<table border=\"1\" class=\"dataframe\">\n",
       "  <thead>\n",
       "    <tr style=\"text-align: right;\">\n",
       "      <th></th>\n",
       "      <th>country</th>\n",
       "      <th>density</th>\n",
       "      <th>abbreviation</th>\n",
       "      <th>agriculturalland</th>\n",
       "      <th>landarea</th>\n",
       "      <th>armedforcessize</th>\n",
       "      <th>birthrate</th>\n",
       "      <th>callingcode</th>\n",
       "      <th>capital/majorcity</th>\n",
       "      <th>co2-emissions</th>\n",
       "      <th>...</th>\n",
       "      <th>outofpockethealthexpenditure</th>\n",
       "      <th>physiciansperthousand</th>\n",
       "      <th>population</th>\n",
       "      <th>populationlaborforceparticipation</th>\n",
       "      <th>taxrevenue</th>\n",
       "      <th>totaltaxrate</th>\n",
       "      <th>unemploymentrate</th>\n",
       "      <th>urban_population</th>\n",
       "      <th>latitud</th>\n",
       "      <th>longitud</th>\n",
       "    </tr>\n",
       "  </thead>\n",
       "  <tbody>\n",
       "    <tr>\n",
       "      <th>0</th>\n",
       "      <td>Afghanistan</td>\n",
       "      <td>60</td>\n",
       "      <td>AF</td>\n",
       "      <td>58.10%</td>\n",
       "      <td>652,230</td>\n",
       "      <td>323,000</td>\n",
       "      <td>32.49</td>\n",
       "      <td>93.0</td>\n",
       "      <td>Kabul</td>\n",
       "      <td>8,672</td>\n",
       "      <td>...</td>\n",
       "      <td>78.40%</td>\n",
       "      <td>0.28</td>\n",
       "      <td>38,041,754</td>\n",
       "      <td>48.90%</td>\n",
       "      <td>9.30%</td>\n",
       "      <td>71.40%</td>\n",
       "      <td>11.12%</td>\n",
       "      <td>9,797,273</td>\n",
       "      <td>('33.93911 '</td>\n",
       "      <td>'67.709953')</td>\n",
       "    </tr>\n",
       "    <tr>\n",
       "      <th>1</th>\n",
       "      <td>Albania</td>\n",
       "      <td>105</td>\n",
       "      <td>AL</td>\n",
       "      <td>43.10%</td>\n",
       "      <td>28,748</td>\n",
       "      <td>9,000</td>\n",
       "      <td>11.78</td>\n",
       "      <td>355.0</td>\n",
       "      <td>Tirana</td>\n",
       "      <td>4,536</td>\n",
       "      <td>...</td>\n",
       "      <td>56.90%</td>\n",
       "      <td>1.20</td>\n",
       "      <td>2,854,191</td>\n",
       "      <td>55.70%</td>\n",
       "      <td>18.60%</td>\n",
       "      <td>36.60%</td>\n",
       "      <td>12.33%</td>\n",
       "      <td>1,747,593</td>\n",
       "      <td>('41.153332 '</td>\n",
       "      <td>'20.168331')</td>\n",
       "    </tr>\n",
       "  </tbody>\n",
       "</table>\n",
       "<p>2 rows × 35 columns</p>\n",
       "</div>"
      ],
      "text/plain": [
       "       country density abbreviation agriculturalland landarea armedforcessize  \\\n",
       "0  Afghanistan      60           AF           58.10%  652,230         323,000   \n",
       "1      Albania     105           AL           43.10%   28,748           9,000   \n",
       "\n",
       "   birthrate  callingcode capital/majorcity co2-emissions  ...  \\\n",
       "0      32.49         93.0             Kabul         8,672  ...   \n",
       "1      11.78        355.0            Tirana         4,536  ...   \n",
       "\n",
       "  outofpockethealthexpenditure physiciansperthousand  population  \\\n",
       "0                       78.40%                  0.28  38,041,754   \n",
       "1                       56.90%                  1.20   2,854,191   \n",
       "\n",
       "   populationlaborforceparticipation taxrevenue totaltaxrate unemploymentrate  \\\n",
       "0                             48.90%      9.30%       71.40%           11.12%   \n",
       "1                             55.70%     18.60%       36.60%           12.33%   \n",
       "\n",
       "  urban_population        latitud       longitud  \n",
       "0        9,797,273   ('33.93911 '   '67.709953')  \n",
       "1        1,747,593  ('41.153332 '   '20.168331')  \n",
       "\n",
       "[2 rows x 35 columns]"
      ]
     },
     "execution_count": 89,
     "metadata": {},
     "output_type": "execute_result"
    }
   ],
   "source": [
    "df_world_data_total.head(2)"
   ]
  },
  {
   "cell_type": "markdown",
   "metadata": {},
   "source": [
    "4. Las columnas unemployment_rate, total_tax_rate, tax_revenue, population_labor_force_participation, out_of_pocket_health_expenditure, gross_tertiary_education_enrollment, gross_primary_education_enrollment, forested_area, cpi_change, agricultural_land tienen \"%\". Elimina los \"%\" de los valores de las columnas."
   ]
  },
  {
   "cell_type": "code",
   "execution_count": 97,
   "metadata": {},
   "outputs": [],
   "source": [
    "pd.set_option('display.max_columns', None)"
   ]
  },
  {
   "cell_type": "code",
   "execution_count": 98,
   "metadata": {},
   "outputs": [
    {
     "data": {
      "text/html": [
       "<div>\n",
       "<style scoped>\n",
       "    .dataframe tbody tr th:only-of-type {\n",
       "        vertical-align: middle;\n",
       "    }\n",
       "\n",
       "    .dataframe tbody tr th {\n",
       "        vertical-align: top;\n",
       "    }\n",
       "\n",
       "    .dataframe thead th {\n",
       "        text-align: right;\n",
       "    }\n",
       "</style>\n",
       "<table border=\"1\" class=\"dataframe\">\n",
       "  <thead>\n",
       "    <tr style=\"text-align: right;\">\n",
       "      <th></th>\n",
       "      <th>country</th>\n",
       "      <th>density</th>\n",
       "      <th>abbreviation</th>\n",
       "      <th>agriculturalland</th>\n",
       "      <th>landarea</th>\n",
       "      <th>armedforcessize</th>\n",
       "      <th>birthrate</th>\n",
       "      <th>callingcode</th>\n",
       "      <th>capital/majorcity</th>\n",
       "      <th>co2-emissions</th>\n",
       "      <th>cpi</th>\n",
       "      <th>cpichange</th>\n",
       "      <th>currency-code</th>\n",
       "      <th>fertilityrate</th>\n",
       "      <th>forestedarea</th>\n",
       "      <th>gasolineprice</th>\n",
       "      <th>gdp</th>\n",
       "      <th>grossprimaryeducationenrollment</th>\n",
       "      <th>grosstertiaryeducationenrollment</th>\n",
       "      <th>infantmortality</th>\n",
       "      <th>largestcity</th>\n",
       "      <th>lifeexpectancy</th>\n",
       "      <th>maternalmortalityratio</th>\n",
       "      <th>minimumwage</th>\n",
       "      <th>officiallanguage</th>\n",
       "      <th>outofpockethealthexpenditure</th>\n",
       "      <th>physiciansperthousand</th>\n",
       "      <th>population</th>\n",
       "      <th>populationlaborforceparticipation</th>\n",
       "      <th>taxrevenue</th>\n",
       "      <th>totaltaxrate</th>\n",
       "      <th>unemploymentrate</th>\n",
       "      <th>urban_population</th>\n",
       "      <th>latitud</th>\n",
       "      <th>longitud</th>\n",
       "    </tr>\n",
       "  </thead>\n",
       "  <tbody>\n",
       "    <tr>\n",
       "      <th>0</th>\n",
       "      <td>Afghanistan</td>\n",
       "      <td>60</td>\n",
       "      <td>AF</td>\n",
       "      <td>58.10</td>\n",
       "      <td>652,230</td>\n",
       "      <td>323,000</td>\n",
       "      <td>32.49</td>\n",
       "      <td>93.0</td>\n",
       "      <td>Kabul</td>\n",
       "      <td>8,672</td>\n",
       "      <td>149.9</td>\n",
       "      <td>2.30</td>\n",
       "      <td>AFN</td>\n",
       "      <td>4.47</td>\n",
       "      <td>2.10</td>\n",
       "      <td>$0.70</td>\n",
       "      <td>$19,101,353,833</td>\n",
       "      <td>104.00</td>\n",
       "      <td>9.70</td>\n",
       "      <td>47.9</td>\n",
       "      <td>Kabul</td>\n",
       "      <td>64.5</td>\n",
       "      <td>638.0</td>\n",
       "      <td>$0.43</td>\n",
       "      <td>Pashto</td>\n",
       "      <td>78.40</td>\n",
       "      <td>0.28</td>\n",
       "      <td>38,041,754</td>\n",
       "      <td>48.90</td>\n",
       "      <td>9.30</td>\n",
       "      <td>71.40</td>\n",
       "      <td>11.12</td>\n",
       "      <td>9,797,273</td>\n",
       "      <td>('33.93911 '</td>\n",
       "      <td>'67.709953')</td>\n",
       "    </tr>\n",
       "    <tr>\n",
       "      <th>1</th>\n",
       "      <td>Albania</td>\n",
       "      <td>105</td>\n",
       "      <td>AL</td>\n",
       "      <td>43.10</td>\n",
       "      <td>28,748</td>\n",
       "      <td>9,000</td>\n",
       "      <td>11.78</td>\n",
       "      <td>355.0</td>\n",
       "      <td>Tirana</td>\n",
       "      <td>4,536</td>\n",
       "      <td>119.05</td>\n",
       "      <td>1.40</td>\n",
       "      <td>ALL</td>\n",
       "      <td>1.62</td>\n",
       "      <td>28.10</td>\n",
       "      <td>$1.36</td>\n",
       "      <td>$15,278,077,447</td>\n",
       "      <td>107.00</td>\n",
       "      <td>55.00</td>\n",
       "      <td>7.8</td>\n",
       "      <td>Tirana</td>\n",
       "      <td>78.5</td>\n",
       "      <td>15.0</td>\n",
       "      <td>$1.12</td>\n",
       "      <td>Albanian</td>\n",
       "      <td>56.90</td>\n",
       "      <td>1.20</td>\n",
       "      <td>2,854,191</td>\n",
       "      <td>55.70</td>\n",
       "      <td>18.60</td>\n",
       "      <td>36.60</td>\n",
       "      <td>12.33</td>\n",
       "      <td>1,747,593</td>\n",
       "      <td>('41.153332 '</td>\n",
       "      <td>'20.168331')</td>\n",
       "    </tr>\n",
       "  </tbody>\n",
       "</table>\n",
       "</div>"
      ],
      "text/plain": [
       "       country density abbreviation agriculturalland landarea armedforcessize  \\\n",
       "0  Afghanistan      60           AF            58.10  652,230         323,000   \n",
       "1      Albania     105           AL            43.10   28,748           9,000   \n",
       "\n",
       "   birthrate  callingcode capital/majorcity co2-emissions     cpi cpichange  \\\n",
       "0      32.49         93.0             Kabul         8,672   149.9      2.30   \n",
       "1      11.78        355.0            Tirana         4,536  119.05      1.40   \n",
       "\n",
       "  currency-code  fertilityrate forestedarea gasolineprice               gdp  \\\n",
       "0           AFN           4.47         2.10        $0.70   $19,101,353,833    \n",
       "1           ALL           1.62        28.10        $1.36   $15,278,077,447    \n",
       "\n",
       "  grossprimaryeducationenrollment grosstertiaryeducationenrollment  \\\n",
       "0                          104.00                             9.70   \n",
       "1                          107.00                            55.00   \n",
       "\n",
       "   infantmortality largestcity  lifeexpectancy  maternalmortalityratio  \\\n",
       "0             47.9       Kabul            64.5                   638.0   \n",
       "1              7.8      Tirana            78.5                    15.0   \n",
       "\n",
       "  minimumwage officiallanguage outofpockethealthexpenditure  \\\n",
       "0      $0.43            Pashto                        78.40   \n",
       "1      $1.12          Albanian                        56.90   \n",
       "\n",
       "   physiciansperthousand  population populationlaborforceparticipation  \\\n",
       "0                   0.28  38,041,754                             48.90   \n",
       "1                   1.20   2,854,191                             55.70   \n",
       "\n",
       "  taxrevenue totaltaxrate unemploymentrate urban_population        latitud  \\\n",
       "0       9.30        71.40            11.12        9,797,273   ('33.93911 '   \n",
       "1      18.60        36.60            12.33        1,747,593  ('41.153332 '   \n",
       "\n",
       "        longitud  \n",
       "0   '67.709953')  \n",
       "1   '20.168331')  "
      ]
     },
     "execution_count": 98,
     "metadata": {},
     "output_type": "execute_result"
    }
   ],
   "source": [
    "#Hemos visto diferencias en los nombres por guiones bajos, hemos modificado a mano, pero podríamos haber hecho lo de el ejercicio de arriba iterando por los nombres\n",
    "lista_columnas = [\"unemploymentrate\", \"totaltaxrate\", \"taxrevenue\", \"populationlaborforceparticipation\", \"outofpockethealthexpenditure\", \"grosstertiaryeducationenrollment\", \"grossprimaryeducationenrollment\", \"forestedarea\", \"cpichange\", \"agriculturalland\"]\n",
    "for columna in lista_columnas:\n",
    "    df_world_data_total[columna] = df_world_data_total[columna].str.replace(\"%\", \"\") \n",
    "\n",
    "df_world_data_total.head(2)\n"
   ]
  },
  {
   "cell_type": "markdown",
   "metadata": {},
   "source": [
    "5. Haz lo mismo para las columnas de gasoline_price, gdp, minimum_wage, pero eliminando \"$\"."
   ]
  },
  {
   "cell_type": "code",
   "execution_count": 102,
   "metadata": {},
   "outputs": [
    {
     "data": {
      "text/html": [
       "<div>\n",
       "<style scoped>\n",
       "    .dataframe tbody tr th:only-of-type {\n",
       "        vertical-align: middle;\n",
       "    }\n",
       "\n",
       "    .dataframe tbody tr th {\n",
       "        vertical-align: top;\n",
       "    }\n",
       "\n",
       "    .dataframe thead th {\n",
       "        text-align: right;\n",
       "    }\n",
       "</style>\n",
       "<table border=\"1\" class=\"dataframe\">\n",
       "  <thead>\n",
       "    <tr style=\"text-align: right;\">\n",
       "      <th></th>\n",
       "      <th>country</th>\n",
       "      <th>density</th>\n",
       "      <th>abbreviation</th>\n",
       "      <th>agriculturalland</th>\n",
       "      <th>landarea</th>\n",
       "      <th>armedforcessize</th>\n",
       "      <th>birthrate</th>\n",
       "      <th>callingcode</th>\n",
       "      <th>capital/majorcity</th>\n",
       "      <th>co2-emissions</th>\n",
       "      <th>cpi</th>\n",
       "      <th>cpichange</th>\n",
       "      <th>currency-code</th>\n",
       "      <th>fertilityrate</th>\n",
       "      <th>forestedarea</th>\n",
       "      <th>gasolineprice</th>\n",
       "      <th>gdp</th>\n",
       "      <th>grossprimaryeducationenrollment</th>\n",
       "      <th>grosstertiaryeducationenrollment</th>\n",
       "      <th>infantmortality</th>\n",
       "      <th>largestcity</th>\n",
       "      <th>lifeexpectancy</th>\n",
       "      <th>maternalmortalityratio</th>\n",
       "      <th>minimumwage</th>\n",
       "      <th>officiallanguage</th>\n",
       "      <th>outofpockethealthexpenditure</th>\n",
       "      <th>physiciansperthousand</th>\n",
       "      <th>population</th>\n",
       "      <th>populationlaborforceparticipation</th>\n",
       "      <th>taxrevenue</th>\n",
       "      <th>totaltaxrate</th>\n",
       "      <th>unemploymentrate</th>\n",
       "      <th>urban_population</th>\n",
       "      <th>latitud</th>\n",
       "      <th>longitud</th>\n",
       "    </tr>\n",
       "  </thead>\n",
       "  <tbody>\n",
       "    <tr>\n",
       "      <th>0</th>\n",
       "      <td>Afghanistan</td>\n",
       "      <td>60</td>\n",
       "      <td>AF</td>\n",
       "      <td>58.10</td>\n",
       "      <td>652,230</td>\n",
       "      <td>323,000</td>\n",
       "      <td>32.49</td>\n",
       "      <td>93.0</td>\n",
       "      <td>Kabul</td>\n",
       "      <td>8,672</td>\n",
       "      <td>149.9</td>\n",
       "      <td>2.30</td>\n",
       "      <td>AFN</td>\n",
       "      <td>4.47</td>\n",
       "      <td>2.10</td>\n",
       "      <td>0.70</td>\n",
       "      <td>19,101,353,833</td>\n",
       "      <td>104.00</td>\n",
       "      <td>9.70</td>\n",
       "      <td>47.9</td>\n",
       "      <td>Kabul</td>\n",
       "      <td>64.5</td>\n",
       "      <td>638.0</td>\n",
       "      <td>0.43</td>\n",
       "      <td>Pashto</td>\n",
       "      <td>78.40</td>\n",
       "      <td>0.28</td>\n",
       "      <td>38,041,754</td>\n",
       "      <td>48.90</td>\n",
       "      <td>9.30</td>\n",
       "      <td>71.40</td>\n",
       "      <td>11.12</td>\n",
       "      <td>9,797,273</td>\n",
       "      <td>('33.93911 '</td>\n",
       "      <td>'67.709953')</td>\n",
       "    </tr>\n",
       "    <tr>\n",
       "      <th>1</th>\n",
       "      <td>Albania</td>\n",
       "      <td>105</td>\n",
       "      <td>AL</td>\n",
       "      <td>43.10</td>\n",
       "      <td>28,748</td>\n",
       "      <td>9,000</td>\n",
       "      <td>11.78</td>\n",
       "      <td>355.0</td>\n",
       "      <td>Tirana</td>\n",
       "      <td>4,536</td>\n",
       "      <td>119.05</td>\n",
       "      <td>1.40</td>\n",
       "      <td>ALL</td>\n",
       "      <td>1.62</td>\n",
       "      <td>28.10</td>\n",
       "      <td>1.36</td>\n",
       "      <td>15,278,077,447</td>\n",
       "      <td>107.00</td>\n",
       "      <td>55.00</td>\n",
       "      <td>7.8</td>\n",
       "      <td>Tirana</td>\n",
       "      <td>78.5</td>\n",
       "      <td>15.0</td>\n",
       "      <td>1.12</td>\n",
       "      <td>Albanian</td>\n",
       "      <td>56.90</td>\n",
       "      <td>1.20</td>\n",
       "      <td>2,854,191</td>\n",
       "      <td>55.70</td>\n",
       "      <td>18.60</td>\n",
       "      <td>36.60</td>\n",
       "      <td>12.33</td>\n",
       "      <td>1,747,593</td>\n",
       "      <td>('41.153332 '</td>\n",
       "      <td>'20.168331')</td>\n",
       "    </tr>\n",
       "  </tbody>\n",
       "</table>\n",
       "</div>"
      ],
      "text/plain": [
       "       country density abbreviation agriculturalland landarea armedforcessize  \\\n",
       "0  Afghanistan      60           AF            58.10  652,230         323,000   \n",
       "1      Albania     105           AL            43.10   28,748           9,000   \n",
       "\n",
       "   birthrate  callingcode capital/majorcity co2-emissions     cpi cpichange  \\\n",
       "0      32.49         93.0             Kabul         8,672   149.9      2.30   \n",
       "1      11.78        355.0            Tirana         4,536  119.05      1.40   \n",
       "\n",
       "  currency-code  fertilityrate forestedarea gasolineprice              gdp  \\\n",
       "0           AFN           4.47         2.10         0.70   19,101,353,833    \n",
       "1           ALL           1.62        28.10         1.36   15,278,077,447    \n",
       "\n",
       "  grossprimaryeducationenrollment grosstertiaryeducationenrollment  \\\n",
       "0                          104.00                             9.70   \n",
       "1                          107.00                            55.00   \n",
       "\n",
       "   infantmortality largestcity  lifeexpectancy  maternalmortalityratio  \\\n",
       "0             47.9       Kabul            64.5                   638.0   \n",
       "1              7.8      Tirana            78.5                    15.0   \n",
       "\n",
       "  minimumwage officiallanguage outofpockethealthexpenditure  \\\n",
       "0       0.43            Pashto                        78.40   \n",
       "1       1.12          Albanian                        56.90   \n",
       "\n",
       "   physiciansperthousand  population populationlaborforceparticipation  \\\n",
       "0                   0.28  38,041,754                             48.90   \n",
       "1                   1.20   2,854,191                             55.70   \n",
       "\n",
       "  taxrevenue totaltaxrate unemploymentrate urban_population        latitud  \\\n",
       "0       9.30        71.40            11.12        9,797,273   ('33.93911 '   \n",
       "1      18.60        36.60            12.33        1,747,593  ('41.153332 '   \n",
       "\n",
       "        longitud  \n",
       "0   '67.709953')  \n",
       "1   '20.168331')  "
      ]
     },
     "execution_count": 102,
     "metadata": {},
     "output_type": "execute_result"
    }
   ],
   "source": [
    "lista_columnas_precios = [\"gasolineprice\", \"gdp\", \"minimumwage\"]\n",
    "for columna in lista_columnas_precios:\n",
    "    df_world_data_total[columna] = df_world_data_total[columna].str.replace(\"$\", \"\")\n",
    "\n",
    "df_world_data_total.head(2)"
   ]
  },
  {
   "cell_type": "markdown",
   "metadata": {},
   "source": [
    "6. Guarda el DataFrame para usarlo en el pairprogramming de mañana."
   ]
  },
  {
   "cell_type": "code",
   "execution_count": 103,
   "metadata": {},
   "outputs": [],
   "source": [
    "df_world_data_total.to_csv(\"data/df_world_data_total.csv\", index= False)"
   ]
  },
  {
   "cell_type": "markdown",
   "metadata": {},
   "source": [
    "# Ejercicios de Filtrado\n",
    "1. Encuentra todos los países cuya mortalidad infantil esté entre 40 y 50 personas por kilómetro cuadrado."
   ]
  },
  {
   "cell_type": "code",
   "execution_count": 112,
   "metadata": {},
   "outputs": [
    {
     "data": {
      "text/html": [
       "<div>\n",
       "<style scoped>\n",
       "    .dataframe tbody tr th:only-of-type {\n",
       "        vertical-align: middle;\n",
       "    }\n",
       "\n",
       "    .dataframe tbody tr th {\n",
       "        vertical-align: top;\n",
       "    }\n",
       "\n",
       "    .dataframe thead th {\n",
       "        text-align: right;\n",
       "    }\n",
       "</style>\n",
       "<table border=\"1\" class=\"dataframe\">\n",
       "  <thead>\n",
       "    <tr style=\"text-align: right;\">\n",
       "      <th></th>\n",
       "      <th>country</th>\n",
       "      <th>infantmortality</th>\n",
       "    </tr>\n",
       "  </thead>\n",
       "  <tbody>\n",
       "    <tr>\n",
       "      <th>0</th>\n",
       "      <td>Afghanistan</td>\n",
       "      <td>47.9</td>\n",
       "    </tr>\n",
       "    <tr>\n",
       "      <th>26</th>\n",
       "      <td>Burkina Faso</td>\n",
       "      <td>49.0</td>\n",
       "    </tr>\n",
       "    <tr>\n",
       "      <th>27</th>\n",
       "      <td>Burundi</td>\n",
       "      <td>41.0</td>\n",
       "    </tr>\n",
       "    <tr>\n",
       "      <th>47</th>\n",
       "      <td>Djibouti</td>\n",
       "      <td>49.8</td>\n",
       "    </tr>\n",
       "    <tr>\n",
       "      <th>72</th>\n",
       "      <td>Haiti</td>\n",
       "      <td>49.5</td>\n",
       "    </tr>\n",
       "  </tbody>\n",
       "</table>\n",
       "</div>"
      ],
      "text/plain": [
       "         country  infantmortality\n",
       "0    Afghanistan             47.9\n",
       "26  Burkina Faso             49.0\n",
       "27       Burundi             41.0\n",
       "47      Djibouti             49.8\n",
       "72         Haiti             49.5"
      ]
     },
     "execution_count": 112,
     "metadata": {},
     "output_type": "execute_result"
    }
   ],
   "source": [
    "df_mortality = df_world_data_total[df_world_data_total[\"infantmortality\"].between(40, 50, inclusive=\"both\")]\n",
    "df_mortality[[\"country\",\"infantmortality\"]].head()"
   ]
  },
  {
   "cell_type": "code",
   "execution_count": 118,
   "metadata": {},
   "outputs": [
    {
     "data": {
      "text/plain": [
       "0       Afghanistan\n",
       "26     Burkina Faso\n",
       "27          Burundi\n",
       "47         Djibouti\n",
       "72            Haiti\n",
       "89         Kiribati\n",
       "125           Niger\n",
       "166           Sudan\n",
       "175            Togo\n",
       "192           Yemen\n",
       "193          Zambia\n",
       "Name: country, dtype: object"
      ]
     },
     "execution_count": 118,
     "metadata": {},
     "output_type": "execute_result"
    }
   ],
   "source": [
    "df_world_data_total[\"country\"][df_world_data_total[\"infantmortality\"].between(40, 50, inclusive=\"both\")]"
   ]
  },
  {
   "cell_type": "markdown",
   "metadata": {},
   "source": [
    "2. Encuentra los países cuyas tasas de natalidad son mayores o iguales a 20 y su esperanza de vida es mayor de 75 años."
   ]
  },
  {
   "cell_type": "code",
   "execution_count": 119,
   "metadata": {},
   "outputs": [
    {
     "data": {
      "text/html": [
       "<div>\n",
       "<style scoped>\n",
       "    .dataframe tbody tr th:only-of-type {\n",
       "        vertical-align: middle;\n",
       "    }\n",
       "\n",
       "    .dataframe tbody tr th {\n",
       "        vertical-align: top;\n",
       "    }\n",
       "\n",
       "    .dataframe thead th {\n",
       "        text-align: right;\n",
       "    }\n",
       "</style>\n",
       "<table border=\"1\" class=\"dataframe\">\n",
       "  <thead>\n",
       "    <tr style=\"text-align: right;\">\n",
       "      <th></th>\n",
       "      <th>country</th>\n",
       "    </tr>\n",
       "  </thead>\n",
       "  <tbody>\n",
       "    <tr>\n",
       "      <th>2</th>\n",
       "      <td>Algeria</td>\n",
       "    </tr>\n",
       "    <tr>\n",
       "      <th>74</th>\n",
       "      <td>Honduras</td>\n",
       "    </tr>\n",
       "    <tr>\n",
       "      <th>82</th>\n",
       "      <td>Israel</td>\n",
       "    </tr>\n",
       "  </tbody>\n",
       "</table>\n",
       "</div>"
      ],
      "text/plain": [
       "     country\n",
       "2    Algeria\n",
       "74  Honduras\n",
       "82    Israel"
      ]
     },
     "execution_count": 119,
     "metadata": {},
     "output_type": "execute_result"
    }
   ],
   "source": [
    "df_world_data_total[\"country\"][(df_world_data_total[\"birthrate\"] >= 20) & (df_world_data_total[\"lifeexpectancy\"] > 75)]"
   ]
  },
  {
   "cell_type": "markdown",
   "metadata": {},
   "source": [
    "3. Encuentra las ciudades cuyos paises contienen la palabra \"la\" en su nombre."
   ]
  },
  {
   "cell_type": "code",
   "execution_count": 120,
   "metadata": {},
   "outputs": [],
   "source": [
    "import re"
   ]
  },
  {
   "cell_type": "code",
   "execution_count": 125,
   "metadata": {},
   "outputs": [
    {
     "data": {
      "text/plain": [
       "Series([], Name: capital/majorcity, dtype: object)"
      ]
     },
     "execution_count": 125,
     "metadata": {},
     "output_type": "execute_result"
    }
   ],
   "source": [
    "#No hay ninguno con \"la\" como palabra \n",
    "df_world_data_total[\"capital/majorcity\"][df_world_data_total[\"country\"].str.contains(r'\\bla\\b')]"
   ]
  },
  {
   "cell_type": "code",
   "execution_count": 132,
   "metadata": {},
   "outputs": [
    {
     "data": {
      "text/plain": [
       "4              Luanda\n",
       "13              Dhaka\n",
       "15              Minsk\n",
       "59           Helsinki\n",
       "68     Guatemala City\n",
       "76          Reykjav��\n",
       "81             Dublin\n",
       "102          Lilongwe\n",
       "103      Kuala Lumpur\n",
       "107            Majuro\n",
       "122         Amsterdam\n",
       "123        Wellington\n",
       "132         Ngerulmud\n",
       "139            Warsaw\n",
       "159           Honiara\n",
       "169              Bern\n",
       "173           Bangkok\n",
       "190           Caracas\n",
       "Name: capital/majorcity, dtype: object"
      ]
     },
     "execution_count": 132,
     "metadata": {},
     "output_type": "execute_result"
    }
   ],
   "source": [
    "#No hay ninguno con \"la\" como palabra así que vamos a suponer que es parte de una palabra\n",
    "df_world_data_total[\"capital/majorcity\"][df_world_data_total[\"country\"].str.contains(r'.*la.*')]"
   ]
  },
  {
   "cell_type": "markdown",
   "metadata": {},
   "source": [
    "4. Encuentra los países cuyos medicos por cada 1000 habitantes (physicians_per_thousand) sea mayores de 5."
   ]
  },
  {
   "cell_type": "code",
   "execution_count": 134,
   "metadata": {},
   "outputs": [
    {
     "data": {
      "text/plain": [
       "9         Austria\n",
       "15        Belarus\n",
       "42           Cuba\n",
       "63        Georgia\n",
       "66         Greece\n",
       "99      Lithuania\n",
       "113        Monaco\n",
       "140      Portugal\n",
       "149    San Marino\n",
       "187       Uruguay\n",
       "Name: country, dtype: object"
      ]
     },
     "execution_count": 134,
     "metadata": {},
     "output_type": "execute_result"
    }
   ],
   "source": [
    "df_world_data_total[\"country\"][(df_world_data_total[\"physiciansperthousand\"] > 5)]"
   ]
  },
  {
   "cell_type": "markdown",
   "metadata": {},
   "source": [
    "5. Encuentra los países cuyatasa de fertilidad sea mayor a 6."
   ]
  },
  {
   "cell_type": "code",
   "execution_count": 135,
   "metadata": {},
   "outputs": [
    {
     "data": {
      "text/html": [
       "<div>\n",
       "<style scoped>\n",
       "    .dataframe tbody tr th:only-of-type {\n",
       "        vertical-align: middle;\n",
       "    }\n",
       "\n",
       "    .dataframe tbody tr th {\n",
       "        vertical-align: top;\n",
       "    }\n",
       "\n",
       "    .dataframe thead th {\n",
       "        text-align: right;\n",
       "    }\n",
       "</style>\n",
       "<table border=\"1\" class=\"dataframe\">\n",
       "  <thead>\n",
       "    <tr style=\"text-align: right;\">\n",
       "      <th></th>\n",
       "      <th>country</th>\n",
       "      <th>fertilityrate</th>\n",
       "    </tr>\n",
       "  </thead>\n",
       "  <tbody>\n",
       "    <tr>\n",
       "      <th>125</th>\n",
       "      <td>Niger</td>\n",
       "      <td>6.91</td>\n",
       "    </tr>\n",
       "    <tr>\n",
       "      <th>160</th>\n",
       "      <td>Somalia</td>\n",
       "      <td>6.07</td>\n",
       "    </tr>\n",
       "  </tbody>\n",
       "</table>\n",
       "</div>"
      ],
      "text/plain": [
       "     country  fertilityrate\n",
       "125    Niger           6.91\n",
       "160  Somalia           6.07"
      ]
     },
     "execution_count": 135,
     "metadata": {},
     "output_type": "execute_result"
    }
   ],
   "source": [
    "df_world_data_total[[\"country\",\"fertilityrate\"]][(df_world_data_total[\"fertilityrate\"] > 6)]"
   ]
  },
  {
   "cell_type": "markdown",
   "metadata": {},
   "source": [
    "6. Encuentra los países cuya moneda es el euro (EUR) y tienen una tasa de natalidad superior al promedio."
   ]
  },
  {
   "cell_type": "code",
   "execution_count": 142,
   "metadata": {},
   "outputs": [],
   "source": [
    "import numpy as np"
   ]
  },
  {
   "cell_type": "code",
   "execution_count": 146,
   "metadata": {},
   "outputs": [
    {
     "data": {
      "text/plain": [
       "Series([], Name: country, dtype: object)"
      ]
     },
     "execution_count": 146,
     "metadata": {},
     "output_type": "execute_result"
    }
   ],
   "source": [
    "media = df_world_data_total[\"birthrate\"].mean()\n",
    "\n",
    "df_world_data_total[\"country\"][(df_world_data_total[\"birthrate\"] > media) & df_world_data_total[\"currency-code\"]==\"EUR\"]"
   ]
  },
  {
   "cell_type": "code",
   "execution_count": 149,
   "metadata": {},
   "outputs": [
    {
     "data": {
      "text/plain": [
       "20.214973544973546"
      ]
     },
     "execution_count": 149,
     "metadata": {},
     "output_type": "execute_result"
    }
   ],
   "source": [
    "media"
   ]
  },
  {
   "cell_type": "code",
   "execution_count": 148,
   "metadata": {},
   "outputs": [
    {
     "data": {
      "text/plain": [
       "5.9"
      ]
     },
     "execution_count": 148,
     "metadata": {},
     "output_type": "execute_result"
    }
   ],
   "source": [
    "df_world_data_total[\"birthrate\"].min()\n"
   ]
  },
  {
   "cell_type": "markdown",
   "metadata": {},
   "source": [
    "7. Encuentra los países cuyas tasas de mortalidad infantil son superiores a 70."
   ]
  },
  {
   "cell_type": "code",
   "execution_count": 151,
   "metadata": {},
   "outputs": [
    {
     "data": {
      "text/html": [
       "<div>\n",
       "<style scoped>\n",
       "    .dataframe tbody tr th:only-of-type {\n",
       "        vertical-align: middle;\n",
       "    }\n",
       "\n",
       "    .dataframe tbody tr th {\n",
       "        vertical-align: top;\n",
       "    }\n",
       "\n",
       "    .dataframe thead th {\n",
       "        text-align: right;\n",
       "    }\n",
       "</style>\n",
       "<table border=\"1\" class=\"dataframe\">\n",
       "  <thead>\n",
       "    <tr style=\"text-align: right;\">\n",
       "      <th></th>\n",
       "      <th>country</th>\n",
       "      <th>infantmortality</th>\n",
       "    </tr>\n",
       "  </thead>\n",
       "  <tbody>\n",
       "    <tr>\n",
       "      <th>33</th>\n",
       "      <td>Central African Republic</td>\n",
       "      <td>84.5</td>\n",
       "    </tr>\n",
       "    <tr>\n",
       "      <th>34</th>\n",
       "      <td>Chad</td>\n",
       "      <td>71.4</td>\n",
       "    </tr>\n",
       "    <tr>\n",
       "      <th>126</th>\n",
       "      <td>Nigeria</td>\n",
       "      <td>75.7</td>\n",
       "    </tr>\n",
       "    <tr>\n",
       "      <th>155</th>\n",
       "      <td>Sierra Leone</td>\n",
       "      <td>78.5</td>\n",
       "    </tr>\n",
       "    <tr>\n",
       "      <th>160</th>\n",
       "      <td>Somalia</td>\n",
       "      <td>76.6</td>\n",
       "    </tr>\n",
       "  </tbody>\n",
       "</table>\n",
       "</div>"
      ],
      "text/plain": [
       "                      country  infantmortality\n",
       "33   Central African Republic             84.5\n",
       "34                       Chad             71.4\n",
       "126                   Nigeria             75.7\n",
       "155              Sierra Leone             78.5\n",
       "160                   Somalia             76.6"
      ]
     },
     "execution_count": 151,
     "metadata": {},
     "output_type": "execute_result"
    }
   ],
   "source": [
    "df_world_data_total[[\"country\",\"infantmortality\"]][df_world_data_total[\"infantmortality\"] > 70]"
   ]
  }
 ],
 "metadata": {
  "kernelspec": {
   "display_name": "pruebalberto",
   "language": "python",
   "name": "python3"
  },
  "language_info": {
   "codemirror_mode": {
    "name": "ipython",
    "version": 3
   },
   "file_extension": ".py",
   "mimetype": "text/x-python",
   "name": "python",
   "nbconvert_exporter": "python",
   "pygments_lexer": "ipython3",
   "version": "3.11.4"
  }
 },
 "nbformat": 4,
 "nbformat_minor": 2
}
