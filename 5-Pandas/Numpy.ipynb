{
 "cells": [
  {
   "cell_type": "markdown",
   "metadata": {},
   "source": [
    "# NumPy\n",
    "\n",
    "## Creación y Indexación:\n",
    "\n",
    "1. Crea un array 1D con 50 valores aleatorio del 10 al 99. Accede a los elementos en las posiciones múltiplos de 5.\n",
    "\n",
    "2. Crea un array 1D con 30 valores del 1 al 20 (ambos incluidos). Utiliza indexación para obtener los elementos en las posiciones impares.\n",
    "\n",
    "3. Crea un array 2D de forma (4, 6) con números aleatorios decimales (no deben estar comprendidos solo entre 0 y 1). Accede a la última fila de la matriz. Los decimales deben estar redondeados a 2 decimales.\n",
    "\n",
    "4. Crea un array NumPy 2D de forma (6, 4) con valores decimales entre 0 y 1. Accede a la segunda columna de la matriz. Los números deben estar redondeados a 2 decimales.\n",
    "\n",
    "5. Crea un array 1D con 30 valores enteros aleatorios entre -50 y 50. Extrae los valores negativos.\n",
    "\n",
    "6. Crea un array 1D con 10 valores entre 0 y 1. Redondea los decimales a 2. Obtén los elementos cuyo valor es mayor que 0.5. ¿En que posición/es están esos elementos?\n",
    "\n",
    "7. Crea un array 1D con 40 valores del 1 al 100 (ambos incluidos). Obtén los elementos que son divisibles por 3 y por 4.\n",
    "\n",
    "**BONUS:** Crea un array 3D de forma (2, 3, 5) y 50 elementos con números enteros entre 0 y 100 (ambos incluidos). Reemplaza los elementos en posiciones múltiplos de 3 por 0."
   ]
  },
  {
   "cell_type": "code",
   "execution_count": 1,
   "metadata": {},
   "outputs": [],
   "source": [
    "import numpy as np"
   ]
  },
  {
   "cell_type": "code",
   "execution_count": 10,
   "metadata": {},
   "outputs": [
    {
     "name": "stdout",
     "output_type": "stream",
     "text": [
      "[29 47 62 24 13 25 55 45 36 82 96 14 23 17 24 43 58 62 26 71 31 76 31 39\n",
      " 21 18 95 28 92 78 49 11 90 93 39 92 85 54 61 37 24 68 42 13 57 45 52 34\n",
      " 21 62]\n",
      "[25 96 43 31 18 49 92 24 45]\n"
     ]
    }
   ],
   "source": [
    "#1.\n",
    "#array_unidimensional = np.random.randint(10,100,(50)) la comentamos para que no vaya cambiando con la ejecución de la celda.\n",
    "print(array_unidimensional)\n",
    "\n",
    "print(array_unidimensional[5::5])\n"
   ]
  },
  {
   "cell_type": "code",
   "execution_count": 13,
   "metadata": {},
   "outputs": [
    {
     "name": "stdout",
     "output_type": "stream",
     "text": [
      "[ 3 11  8  8 17  2 20 19  4  8 20  4  9 12 15  4  5 10 20  2  8 14  2  6\n",
      " 18 13  4 16 13 16]\n",
      "[11  8  2 19  8  4 12  4 10  2 14  6 13 16 16]\n"
     ]
    }
   ],
   "source": [
    "#2.\n",
    "#array_unidimensional1 = np.random.randint(1,21,(30))\n",
    "print(array_unidimensional1)\n",
    "print(array_unidimensional1[1::2])\n"
   ]
  },
  {
   "cell_type": "code",
   "execution_count": 45,
   "metadata": {},
   "outputs": [
    {
     "name": "stdout",
     "output_type": "stream",
     "text": [
      "[[4.43 4.4  4.99 4.82 4.57 4.4 ]\n",
      " [4.22 4.26 4.29 4.16 4.43 4.27]\n",
      " [4.32 4.57 4.87 4.71 4.78 4.18]\n",
      " [4.37 4.43 4.61 4.99 4.87 4.86]]\n"
     ]
    }
   ],
   "source": [
    "#3.\n",
    "array_bidimensional1 = np.round(np.random.random_sample((4,6)),2)\n",
    "array_bidimensional1_suma= np.add(array_bidimensional1,4)\n",
    "#podríamos haber creado otro array igual al primero y sumarlo np.add(array1,array2)\n",
    "print(array_bidimensional1_suma)\n"
   ]
  },
  {
   "cell_type": "code",
   "execution_count": 44,
   "metadata": {},
   "outputs": [
    {
     "name": "stdout",
     "output_type": "stream",
     "text": [
      "[[0.95 0.83 0.08 0.92]\n",
      " [0.59 0.39 0.32 0.34]\n",
      " [0.08 0.68 0.74 0.34]\n",
      " [0.5  0.84 0.26 0.63]\n",
      " [0.94 0.34 0.15 0.91]\n",
      " [0.43 0.83 0.   0.33]]\n",
      "------------------\n",
      "[[0.08]\n",
      " [0.32]\n",
      " [0.74]\n",
      " [0.26]\n",
      " [0.15]\n",
      " [0.  ]]\n"
     ]
    }
   ],
   "source": [
    "#4.\n",
    "array_bidimensional2=np.round(np.random.random_sample((6,4)),2)\n",
    "print(array_bidimensional2)\n",
    "\n",
    "print(\"------------------\")\n",
    "print(array_bidimensional2[:,2:3])"
   ]
  },
  {
   "cell_type": "code",
   "execution_count": 52,
   "metadata": {},
   "outputs": [
    {
     "name": "stdout",
     "output_type": "stream",
     "text": [
      "[-23  -9 -42   1  10  17  42 -27  -4 -18  34  -4 -19 -38 -35 -33 -26  42\n",
      " -49  13  27 -34  31  48 -15 -22  11   8 -38  -1]\n",
      "-------------------------\n"
     ]
    },
    {
     "data": {
      "text/plain": [
       "array([-23,  -9, -42, -27,  -4, -18,  -4, -19, -38, -35, -33, -26, -49,\n",
       "       -34, -15, -22, -38,  -1])"
      ]
     },
     "execution_count": 52,
     "metadata": {},
     "output_type": "execute_result"
    }
   ],
   "source": [
    "#5.\n",
    "array_unidimensional2 = np.random.randint(-50,51,(30))\n",
    "print(array_unidimensional2)\n",
    "\n",
    "print(\"-------------------------\")\n",
    "\n",
    "array_unidimensional2[array_unidimensional2<0]"
   ]
  },
  {
   "cell_type": "code",
   "execution_count": 56,
   "metadata": {},
   "outputs": [
    {
     "name": "stdout",
     "output_type": "stream",
     "text": [
      "[0.67 0.93 0.74 0.93 0.79 0.37 0.07 0.91 0.9  0.63]\n"
     ]
    },
    {
     "data": {
      "text/plain": [
       "(array([0, 1, 2, 3, 4, 7, 8, 9]),)"
      ]
     },
     "execution_count": 56,
     "metadata": {},
     "output_type": "execute_result"
    }
   ],
   "source": [
    "#6.\n",
    "array_unidimensional3 = np.round(np.random.rand((10)),2)\n",
    "print(array_unidimensional3)\n",
    "\n",
    "condicion= array_unidimensional3>0.5\n",
    "np.where(condicion)\n"
   ]
  },
  {
   "cell_type": "code",
   "execution_count": 69,
   "metadata": {},
   "outputs": [
    {
     "name": "stdout",
     "output_type": "stream",
     "text": [
      "[ 17 100  87  38   8  29  51  10   6  49  61  39  40   1  39  36  24   2\n",
      "  56  14   8  42  58   7   6  89  35  89  82  45  29  21  14  91  99  34\n",
      "  55  92  99  20]\n"
     ]
    },
    {
     "data": {
      "text/plain": [
       "(array([15, 16]),)"
      ]
     },
     "execution_count": 69,
     "metadata": {},
     "output_type": "execute_result"
    }
   ],
   "source": [
    "#7.\n",
    "#array_unidimensional4 = np.random.randint(1,101,(40))\n",
    "print(array_unidimensional4)\n",
    "\n",
    "condicion1=array_unidimensional4%4==0\n",
    "condicion2=array_unidimensional4%3==0\n",
    "\n",
    "np.where(condicion1 & condicion2)"
   ]
  },
  {
   "cell_type": "code",
   "execution_count": 63,
   "metadata": {},
   "outputs": [
    {
     "name": "stdout",
     "output_type": "stream",
     "text": [
      "[[[ 80  33  63  26  80]\n",
      "  [ 57  91  33  47  48]\n",
      "  [ 91  80 100  48  75]]\n",
      "\n",
      " [[ 53  67   5  34  49]\n",
      "  [ 83   3  57  28  84]\n",
      "  [ 14  70  61  29  58]]]\n",
      "---------------\n",
      "[[[ 80   0   0  26  80]\n",
      "  [  0  91   0  47   0]\n",
      "  [ 91  80 100   0   0]]\n",
      "\n",
      " [[ 53  67   5  34  49]\n",
      "  [ 83   0   0  28   0]\n",
      "  [ 14  70  61  29  58]]]\n"
     ]
    }
   ],
   "source": [
    "#8. BONUS\n",
    "\n",
    "array_bonus= np.random.randint(0,101,(2,3,5))\n",
    "print(array_bonus)\n",
    "\n",
    "\n",
    "print(\"---------------\")\n",
    "\n",
    "condicion_bonus= array_bonus%3==0\n",
    "\n",
    "array_bonus_1=np.where(condicion_bonus, 0 ,array_bonus)\n",
    "print(array_bonus_1)\n"
   ]
  },
  {
   "cell_type": "markdown",
   "metadata": {},
   "source": [
    "## Ejercicios con reshape:\n",
    "\n",
    "1. Crea un array 3D de forma (2, 3, 4) con valores aleatorios entre 1 y 100 (ambos inclusive). Utiliza reshape para convertirlo en un array 2D. Deberás pensar en la forma que es correcta para hacer este cambio.\n",
    "\n",
    "2. Crea un array 3D de forma (3, 4, 5) con valores enteros del 1 al 60 (sin incluir). Utiliza reshape para convertirlo en un array 2D.\n",
    "\n",
    "3. Crea un array 3D de forma (4, 3, 2) con valores aleatorios entre 0 y 1. Utiliza reshape para convertirlo en un array 2D."
   ]
  },
  {
   "cell_type": "code",
   "execution_count": null,
   "metadata": {},
   "outputs": [],
   "source": [
    "#1.\n",
    "a= np.random.randint(1,101,(2,3,4))\n",
    "print(a)\n",
    "print(\"-----------\")\n",
    "reshaped_a = np.reshape(a,(6,4))\n",
    "print(reshaped_a)\n"
   ]
  },
  {
   "cell_type": "code",
   "execution_count": null,
   "metadata": {},
   "outputs": [],
   "source": [
    "#2.\n",
    "b= np.random.randint(1,60,(3,4,5))\n",
    "print(a)\n",
    "\n",
    "print(\"-------------------------\")\n",
    "\n",
    "reshaped_b= np.reshape(b,(15,4))\n",
    "print(reshaped_b)"
   ]
  },
  {
   "cell_type": "code",
   "execution_count": null,
   "metadata": {},
   "outputs": [],
   "source": [
    "#3.\n",
    "c= np.random.random_sample((4,3,2))\n",
    "print(c)\n",
    "\n",
    "print(\"-------------------------\")\n",
    "\n",
    "reshaped_c= np.reshape(c,(8,3))\n",
    "print(reshaped_c)"
   ]
  },
  {
   "cell_type": "markdown",
   "metadata": {},
   "source": [
    "## Ejercicios con transpose:\n",
    "\n",
    "1. Utiliza el array 3D del ejercicio 2 de reshape. Utiliza transpose para permutar los ejes y obtener un nuevo array con forma (5, 4, 3).\n",
    "\n",
    "2. Utiliza el array 3D del ejercicio 3 de reshape. Utiliza transpose para cambiar el orden de los ejes y obtener un nuevo array con forma (3, 2, 4)."
   ]
  },
  {
   "cell_type": "code",
   "execution_count": null,
   "metadata": {},
   "outputs": [],
   "source": [
    "#1.\n",
    "b= np.random.randint(1,60,(3,4,5))\n",
    "print(b)\n",
    "\n",
    "print(\"-------------------------\")\n",
    "\n",
    "transpose_b=np.transpose(b,(2,1,0))\n",
    "\n",
    "print(transpose_b)"
   ]
  },
  {
   "cell_type": "code",
   "execution_count": 6,
   "metadata": {},
   "outputs": [
    {
     "name": "stdout",
     "output_type": "stream",
     "text": [
      "[[[0.45273276 0.71218129]\n",
      "  [0.60353403 0.00521657]\n",
      "  [0.51956367 0.21377812]]\n",
      "\n",
      " [[0.34687566 0.96721685]\n",
      "  [0.83540996 0.99109446]\n",
      "  [0.10613748 0.52634433]]\n",
      "\n",
      " [[0.68549356 0.78841529]\n",
      "  [0.59241815 0.9314785 ]\n",
      "  [0.59170612 0.33034917]]\n",
      "\n",
      " [[0.28844323 0.96829695]\n",
      "  [0.11750379 0.27204092]\n",
      "  [0.97086995 0.21995544]]]\n",
      "[[[0.45273276 0.34687566 0.68549356 0.28844323]\n",
      "  [0.71218129 0.96721685 0.78841529 0.96829695]]\n",
      "\n",
      " [[0.60353403 0.83540996 0.59241815 0.11750379]\n",
      "  [0.00521657 0.99109446 0.9314785  0.27204092]]\n",
      "\n",
      " [[0.51956367 0.10613748 0.59170612 0.97086995]\n",
      "  [0.21377812 0.52634433 0.33034917 0.21995544]]]\n"
     ]
    }
   ],
   "source": [
    "#2.\n",
    "c= np.random.random_sample((4,3,2))\n",
    "print(c)\n",
    "\n",
    "transpose_c=np.transpose(c,(1,2,0))\n",
    "\n",
    "print(transpose_c)\n"
   ]
  },
  {
   "cell_type": "markdown",
   "metadata": {},
   "source": [
    "## Preguntas teóricas:\n",
    "\n",
    "1. ¿Qué diferencia existe entre el reshape y el transpose?\n",
    "\n",
    "2. ¿Y entre el transpose y el swapaxes?"
   ]
  },
  {
   "cell_type": "markdown",
   "metadata": {},
   "source": [
    "1. la diferencia e/ transpose y reshape; \n",
    "para el primero hacemos el cambio a partir de la indexación y para el segundo no\n",
    "para el primero no podemos cambiar dimensión pero para el reshape sí.\n",
    "*pnte añadir más info."
   ]
  },
  {
   "cell_type": "markdown",
   "metadata": {},
   "source": [
    "2. la diferencia e/ trasnpose y swapaxes;\n",
    "sólo s epueden intercambiar dos ejes para el swapaexes y el el transpose todos los que queramos."
   ]
  },
  {
   "cell_type": "markdown",
   "metadata": {},
   "source": [
    "## Funciones Aritméticas y Estadísticas:\n",
    "\n",
    "1. Crea un array de tres 3D con elementos entre el 0 y 1 de forma (2, 3, 5) cuyos valores solo tengan 1 decimal.\n",
    "\n",
    "2. Crea un array vacío con la misma forma y dimensiones que el array creado anteriormente. Vamos a reemplazar los valores de la matriz vacía que nos acabamos de crear pero basándonos en los valores del primer array bajo las siguientes condiciones:\n",
    "\n",
    "3. Si el valor del array es igual que la media, se reemplaza por \"A\".\n",
    "\n",
    "4. Si el valor del array es mayor que la media, se reemplaza por \"B\".\n",
    "\n",
    "5. Si el valor del array es menor que la media, se reemplaza por \"C\".\n",
    "\n",
    "6. Si el valor es igual que el máximo, se reemplaza por \"D\".\n",
    "\n",
    "7. Si el valor es igual que el mínimo, se reemplaza por \"E\"."
   ]
  },
  {
   "cell_type": "code",
   "execution_count": 49,
   "metadata": {},
   "outputs": [
    {
     "name": "stdout",
     "output_type": "stream",
     "text": [
      "[[[0.1 1.  0.3 0.2 0.6]\n",
      "  [0.1 0.6 0.5 0.  1. ]\n",
      "  [0.2 0.7 0.5 0.6 0.9]]\n",
      "\n",
      " [[0.6 0.1 0.7 0.9 0.8]\n",
      "  [0.7 0.8 0.8 0.3 0.6]\n",
      "  [0.3 0.7 0.2 0.8 0.9]]]\n"
     ]
    }
   ],
   "source": [
    "# 1.\n",
    "array_3=np.round(np.random.random_sample((2,3,5)),1)\n",
    "print(array_3)\n"
   ]
  },
  {
   "cell_type": "code",
   "execution_count": 52,
   "metadata": {},
   "outputs": [
    {
     "name": "stdout",
     "output_type": "stream",
     "text": [
      "[[[0.1 1.  0.3 0.2 0.6]\n",
      "  [0.1 0.6 0.5 0.  1. ]\n",
      "  [0.2 0.7 0.5 0.6 0.9]]\n",
      "\n",
      " [[0.6 0.1 0.7 0.9 0.8]\n",
      "  [0.7 0.8 0.8 0.3 0.6]\n",
      "  [0.3 0.7 0.2 0.8 0.9]]]\n",
      "[[[0.1 1.  0.3 0.2 0.6]\n",
      "  [0.1 0.6 0.5 0.  1. ]\n",
      "  [0.2 0.7 0.5 0.6 0.9]]\n",
      "\n",
      " [[0.6 0.1 0.7 0.9 0.8]\n",
      "  [0.7 0.8 0.8 0.3 0.6]\n",
      "  [0.3 0.7 0.2 0.8 0.9]]]\n",
      "------------\n",
      "0.6\n",
      "------------\n",
      "[[['0.1' '1.0' '0.3' '0.2' 'A']\n",
      "  ['0.1' 'A' '0.5' '0.0' '1.0']\n",
      "  ['0.2' '0.7' '0.5' 'A' '0.9']]\n",
      "\n",
      " [['A' '0.1' '0.7' '0.9' '0.8']\n",
      "  ['0.7' '0.8' '0.8' '0.3' 'A']\n",
      "  ['0.3' '0.7' '0.2' '0.8' '0.9']]]\n"
     ]
    }
   ],
   "source": [
    "#2.\n",
    "array_vacio=np.round(np.empty((2,3,5)),1)\n",
    "print(array_vacio)\n",
    "\n",
    "print(array_3)\n",
    "\n",
    "print(\"------------\")\n",
    "\n",
    "media_array=np.round(np.mean(array_3),1)\n",
    "\n",
    "print(media_array)\n",
    "\n",
    "print(\"------------\")\n",
    "\n",
    "\n",
    "condicion_array = media_array == array_3\n",
    "\n",
    "array_3_1=np.where(condicion_array, \"A\", array_3)\n",
    "\n",
    "print(array_3_1)\n",
    "\n"
   ]
  },
  {
   "cell_type": "code",
   "execution_count": 53,
   "metadata": {},
   "outputs": [
    {
     "name": "stdout",
     "output_type": "stream",
     "text": [
      "[[['0.1' 'B' '0.3' '0.2' 'A']\n",
      "  ['0.1' 'A' '0.5' '0.0' 'B']\n",
      "  ['0.2' 'B' '0.5' 'A' 'B']]\n",
      "\n",
      " [['A' '0.1' 'B' 'B' 'B']\n",
      "  ['B' 'B' 'B' '0.3' 'A']\n",
      "  ['0.3' 'B' '0.2' 'B' 'B']]]\n"
     ]
    }
   ],
   "source": [
    "condicion_array2 = media_array < array_3\n",
    "\n",
    "array_3_1=np.where(condicion_array2, \"B\", array_3_1)\n",
    "\n",
    "print(array_3_1)"
   ]
  },
  {
   "cell_type": "code",
   "execution_count": 54,
   "metadata": {},
   "outputs": [
    {
     "name": "stdout",
     "output_type": "stream",
     "text": [
      "[[['c' 'B' 'c' 'c' 'A']\n",
      "  ['c' 'A' 'c' 'c' 'B']\n",
      "  ['c' 'B' 'c' 'A' 'B']]\n",
      "\n",
      " [['A' 'c' 'B' 'B' 'B']\n",
      "  ['B' 'B' 'B' 'c' 'A']\n",
      "  ['c' 'B' 'c' 'B' 'B']]]\n"
     ]
    }
   ],
   "source": [
    "condicion_array3 = media_array > array_3\n",
    "\n",
    "array_3_1=np.where(condicion_array3, \"c\", array_3_1)\n",
    "\n",
    "print(array_3_1)"
   ]
  },
  {
   "cell_type": "code",
   "execution_count": 55,
   "metadata": {},
   "outputs": [
    {
     "name": "stdout",
     "output_type": "stream",
     "text": [
      "[[['c' 'D' 'c' 'c' 'A']\n",
      "  ['c' 'A' 'c' 'c' 'D']\n",
      "  ['c' 'B' 'c' 'A' 'B']]\n",
      "\n",
      " [['A' 'c' 'B' 'B' 'B']\n",
      "  ['B' 'B' 'B' 'c' 'A']\n",
      "  ['c' 'B' 'c' 'B' 'B']]]\n"
     ]
    }
   ],
   "source": [
    "condicion_max= np.max(array_3)==array_3\n",
    "array_3_1=np.where(condicion_max, \"D\", array_3_1)\n",
    "\n",
    "print(array_3_1)"
   ]
  },
  {
   "cell_type": "code",
   "execution_count": 56,
   "metadata": {},
   "outputs": [
    {
     "name": "stdout",
     "output_type": "stream",
     "text": [
      "[[['c' 'D' 'c' 'c' 'A']\n",
      "  ['c' 'A' 'c' 'E' 'D']\n",
      "  ['c' 'B' 'c' 'A' 'B']]\n",
      "\n",
      " [['A' 'c' 'B' 'B' 'B']\n",
      "  ['B' 'B' 'B' 'c' 'A']\n",
      "  ['c' 'B' 'c' 'B' 'B']]]\n"
     ]
    }
   ],
   "source": [
    "condicion_min= np.min(array_3)==array_3\n",
    "array_3_1=np.where(condicion_min, \"E\", array_3_1)\n",
    "\n",
    "print(array_3_1)"
   ]
  }
 ],
 "metadata": {
  "kernelspec": {
   "display_name": "base",
   "language": "python",
   "name": "python3"
  },
  "language_info": {
   "codemirror_mode": {
    "name": "ipython",
    "version": 3
   },
   "file_extension": ".py",
   "mimetype": "text/x-python",
   "name": "python",
   "nbconvert_exporter": "python",
   "pygments_lexer": "ipython3",
   "version": "3.11.6"
  }
 },
 "nbformat": 4,
 "nbformat_minor": 2
}
