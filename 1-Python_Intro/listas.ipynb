{
 "cells": [
  {
   "cell_type": "code",
   "execution_count": 28,
   "metadata": {},
   "outputs": [
    {
     "name": "stdout",
     "output_type": "stream",
     "text": [
      "[1, 2, 3, 4, 1, 2, 3, 4]\n"
     ]
    }
   ],
   "source": [
    "# 1. Duplicar elementos de una lista\n",
    "\n",
    "lista=[1,2,3,4]\n",
    "lista.extend(lista)\n",
    "print(lista)"
   ]
  },
  {
   "cell_type": "code",
   "execution_count": 29,
   "metadata": {},
   "outputs": [
    {
     "name": "stdout",
     "output_type": "stream",
     "text": [
      "['A', 'B', 'C', 'D', 'E']\n"
     ]
    }
   ],
   "source": [
    "# 2. Combinar dos listas\n",
    " \n",
    "lista1=[\"A\", \"B\", \"C\"]\n",
    "lista2= [\"D\", \"E\"]\n",
    "lista1.extend(lista2)\n",
    "print(lista1)\n"
   ]
  },
  {
   "cell_type": "code",
   "execution_count": 30,
   "metadata": {},
   "outputs": [
    {
     "name": "stdout",
     "output_type": "stream",
     "text": [
      "10\n"
     ]
    }
   ],
   "source": [
    "# 3. Calcular la suma de una lista de números\n",
    "lista=[1,2,3,4]\n",
    "print(lista[0]+lista[1]+lista[2]+lista[3])"
   ]
  },
  {
   "cell_type": "code",
   "execution_count": 31,
   "metadata": {},
   "outputs": [
    {
     "data": {
      "text/plain": [
       "4"
      ]
     },
     "execution_count": 31,
     "metadata": {},
     "output_type": "execute_result"
    }
   ],
   "source": [
    "# 4. Encontrar el valor máximo en una lista\n",
    "max(lista)"
   ]
  },
  {
   "cell_type": "code",
   "execution_count": 32,
   "metadata": {},
   "outputs": [
    {
     "data": {
      "text/plain": [
       "4"
      ]
     },
     "execution_count": 32,
     "metadata": {},
     "output_type": "execute_result"
    }
   ],
   "source": [
    "# 5. Calcular la longitud de una lista\n",
    "len(lista)"
   ]
  },
  {
   "cell_type": "code",
   "execution_count": 33,
   "metadata": {},
   "outputs": [
    {
     "data": {
      "text/plain": [
       "1"
      ]
     },
     "execution_count": 33,
     "metadata": {},
     "output_type": "execute_result"
    }
   ],
   "source": [
    "# 6. Encontrar el índice de un elemento en una lista\n",
    "lista1.index(\"B\")"
   ]
  },
  {
   "cell_type": "code",
   "execution_count": 34,
   "metadata": {},
   "outputs": [
    {
     "data": {
      "text/plain": [
       "1"
      ]
     },
     "execution_count": 34,
     "metadata": {},
     "output_type": "execute_result"
    }
   ],
   "source": [
    "# 7 Contar ocurrencias de un elemento en una lista\n",
    "lista1.count(\"C\")"
   ]
  },
  {
   "cell_type": "code",
   "execution_count": 35,
   "metadata": {},
   "outputs": [
    {
     "name": "stdout",
     "output_type": "stream",
     "text": [
      "['A', 'B', 'C', 'D', 'E', 1, 2, 3, 4]\n"
     ]
    },
    {
     "data": {
      "text/plain": [
       "['C', 'D', 'E']"
      ]
     },
     "execution_count": 35,
     "metadata": {},
     "output_type": "execute_result"
    }
   ],
   "source": [
    "# 8. Obtener una sublista de una lista\n",
    "lista1.extend(lista)\n",
    "print(lista1)\n",
    "lista1[2:5]"
   ]
  },
  {
   "cell_type": "code",
   "execution_count": 36,
   "metadata": {},
   "outputs": [
    {
     "data": {
      "text/plain": [
       "4"
      ]
     },
     "execution_count": 36,
     "metadata": {},
     "output_type": "execute_result"
    }
   ],
   "source": [
    "# 9 y 10. Obtener el último elemento de una lista\n",
    "lista1[-1]"
   ]
  },
  {
   "cell_type": "code",
   "execution_count": 37,
   "metadata": {},
   "outputs": [
    {
     "data": {
      "text/plain": [
       "['B', 'C']"
      ]
     },
     "execution_count": 37,
     "metadata": {},
     "output_type": "execute_result"
    }
   ],
   "source": [
    "# 11. Obtener una sublista de una lista\n",
    "lista1[1:3]"
   ]
  },
  {
   "cell_type": "code",
   "execution_count": 38,
   "metadata": {},
   "outputs": [
    {
     "name": "stdout",
     "output_type": "stream",
     "text": [
      "['A', 'R', 'C', 'D', 'E', 1, 2, 3, 4, 1, 2, 3, 4, 1, 2, 3, 4]\n"
     ]
    }
   ],
   "source": [
    "# 12. Reemplazar un elemento en una lista\n",
    "lista1=['A', 'B', 'C', 'D', 'E', 1, 2, 3, 4, 1, 2, 3, 4, 1, 2, 3, 4]\n",
    "lista1.remove(\"B\") \n",
    "lista1.insert(1,\"R\")\n",
    "print(lista1)"
   ]
  },
  {
   "cell_type": "code",
   "execution_count": 39,
   "metadata": {},
   "outputs": [
    {
     "name": "stdout",
     "output_type": "stream",
     "text": [
      "[4, 3, 2, 1, 4, 3, 2, 1, 4, 3, 2, 1, 'E', 'D', 'C', 'R', 'A']\n"
     ]
    }
   ],
   "source": [
    "# 13. Obtener una lista inversa\n",
    "lista1.reverse()\n",
    "print(lista1)"
   ]
  },
  {
   "cell_type": "code",
   "execution_count": 40,
   "metadata": {},
   "outputs": [
    {
     "name": "stdout",
     "output_type": "stream",
     "text": [
      "[1, 2, 3, 4]\n"
     ]
    }
   ],
   "source": [
    "#14. Ordenar una lista en orden ascendente\n",
    "lista.sort()\n",
    "print(lista)"
   ]
  },
  {
   "cell_type": "code",
   "execution_count": 41,
   "metadata": {},
   "outputs": [
    {
     "data": {
      "text/plain": [
       "[1, 3, 5]"
      ]
     },
     "execution_count": 41,
     "metadata": {},
     "output_type": "execute_result"
    }
   ],
   "source": [
    "# 15. Obtener elementos pares de una lista\n",
    "lista= [1,2,3,4,5,6]\n",
    "lista[::2]\n"
   ]
  },
  {
   "cell_type": "code",
   "execution_count": 42,
   "metadata": {},
   "outputs": [
    {
     "name": "stdout",
     "output_type": "stream",
     "text": [
      "[1, 4]\n"
     ]
    }
   ],
   "source": [
    "# 16. Obtener una sublista saltando elementos\n",
    "\n",
    "lista_3 = lista[::3]\n",
    "print(lista_3)"
   ]
  },
  {
   "cell_type": "code",
   "execution_count": 43,
   "metadata": {},
   "outputs": [],
   "source": [
    "# 17. Encuentra el segundo valor máximo.\n",
    "\n",
    "lista_4 = [1, 2, 3, 4, 5, 6]\n",
    "#Primero se ordena (la nuestra no lo necesita)"
   ]
  },
  {
   "cell_type": "code",
   "execution_count": 44,
   "metadata": {},
   "outputs": [
    {
     "data": {
      "text/plain": [
       "5"
      ]
     },
     "execution_count": 44,
     "metadata": {},
     "output_type": "execute_result"
    }
   ],
   "source": [
    "lista_4[-2]"
   ]
  },
  {
   "cell_type": "code",
   "execution_count": 45,
   "metadata": {},
   "outputs": [
    {
     "data": {
      "text/plain": [
       "5"
      ]
     },
     "execution_count": 45,
     "metadata": {},
     "output_type": "execute_result"
    }
   ],
   "source": [
    "#segunda forma: \n",
    "\n",
    "lista_4.pop()\n",
    "lista_4[-1]"
   ]
  },
  {
   "cell_type": "markdown",
   "metadata": {},
   "source": [
    "18. Teórico. Deberéis contestar la pregunta en una celda markdown\n",
    "\n",
    "¿Qué diferencia existe entre el .sort() y el sorted()?\n",
    "\n",
    ".sort() modifica la lista y sorted() no modifica la original\n"
   ]
  },
  {
   "cell_type": "code",
   "execution_count": 1,
   "metadata": {},
   "outputs": [
    {
     "name": "stdout",
     "output_type": "stream",
     "text": [
      "['compra', 'perro', 'coche', ['baño', 'aspirador']]\n"
     ]
    },
    {
     "data": {
      "text/plain": [
       "4"
      ]
     },
     "execution_count": 1,
     "metadata": {},
     "output_type": "execute_result"
    }
   ],
   "source": [
    "# 19. Insertar un elemento en una posición específica (append)\n",
    "\n",
    "tareas = [\"compra\", \"perro\", \"coche\"]\n",
    "tareas_compartidas = [\"baño\", \"aspirador\"]\n",
    "\n",
    "tareas.append(tareas_compartidas)\n",
    "print(tareas)\n",
    "len(tareas)"
   ]
  },
  {
   "cell_type": "code",
   "execution_count": 7,
   "metadata": {},
   "outputs": [
    {
     "name": "stdout",
     "output_type": "stream",
     "text": [
      "['compra', 'perro', 'coche', 'baño', 'aspirador']\n"
     ]
    },
    {
     "data": {
      "text/plain": [
       "5"
      ]
     },
     "execution_count": 7,
     "metadata": {},
     "output_type": "execute_result"
    }
   ],
   "source": [
    "# 19. Insertar un elemento en una posición específica (extend)\n",
    "\n",
    "tareas = [\"compra\", \"perro\", \"coche\"]\n",
    "tareas_compartidas = [\"baño\", \"aspirador\"]\n",
    "\n",
    "tareas.extend(tareas_compartidas)\n",
    "print(tareas)\n",
    "len(tareas)"
   ]
  },
  {
   "cell_type": "code",
   "execution_count": 33,
   "metadata": {},
   "outputs": [
    {
     "name": "stdout",
     "output_type": "stream",
     "text": [
      "['compra', 'perro', 'coche', 'baño', 'aspirador', 'coche', '', 'comida']\n",
      "\n"
     ]
    }
   ],
   "source": [
    "# 20. Insertar un elemento en una posición específica\n",
    "\n",
    "#Descripción: Dada una lista, inserta un nuevo elemento en una posición específica determinada por el usuario\n",
    "# (debereis usar la función input para preguntar al usuario en que posición quiere insertar el elemento).\n",
    "\n",
    "print(tareas)\n",
    "\n",
    "tarea_extra = input()\n",
    "print(tarea_extra)\n",
    "\n",
    "tareas.append(tarea_extra)"
   ]
  },
  {
   "cell_type": "code",
   "execution_count": 34,
   "metadata": {},
   "outputs": [
    {
     "name": "stdout",
     "output_type": "stream",
     "text": [
      "['compra', 'perro', 'coche', 'baño', 'aspirador', 'coche', '', 'comida', '']\n"
     ]
    }
   ],
   "source": [
    "print(tareas)"
   ]
  },
  {
   "cell_type": "code",
   "execution_count": 3,
   "metadata": {},
   "outputs": [
    {
     "data": {
      "text/plain": [
       "False"
      ]
     },
     "execution_count": 3,
     "metadata": {},
     "output_type": "execute_result"
    }
   ],
   "source": [
    "# 21. Verificar si un elemento está presente en una lista\n",
    "\n",
    "tarea_extra2 = input()\n",
    "\n",
    "tarea_extra2 in tareas"
   ]
  },
  {
   "cell_type": "code",
   "execution_count": 4,
   "metadata": {},
   "outputs": [
    {
     "name": "stdout",
     "output_type": "stream",
     "text": [
      "['compra', 'perro', 'baño', 'aspirador']\n"
     ]
    }
   ],
   "source": [
    "# 22. Manipulación de una lista utilizando remove(), pop() y clear()\n",
    "\n",
    "tarea_copy = tareas.copy()\n",
    "\n",
    "tarea_copy.remove(\"coche\")\n",
    "print(tarea_copy)"
   ]
  },
  {
   "cell_type": "code",
   "execution_count": 5,
   "metadata": {},
   "outputs": [
    {
     "name": "stdout",
     "output_type": "stream",
     "text": [
      "['compra', 'perro', 'aspirador']\n"
     ]
    }
   ],
   "source": [
    "tarea_copy.pop(-2)\n",
    "print(tarea_copy)"
   ]
  },
  {
   "cell_type": "code",
   "execution_count": 6,
   "metadata": {},
   "outputs": [
    {
     "name": "stdout",
     "output_type": "stream",
     "text": [
      "[]\n"
     ]
    }
   ],
   "source": [
    "tarea_copy.clear()\n",
    "print(tarea_copy)"
   ]
  },
  {
   "cell_type": "markdown",
   "metadata": {},
   "source": [
    "## Ejercicios de Tuplas ##"
   ]
  },
  {
   "cell_type": "code",
   "execution_count": 1,
   "metadata": {},
   "outputs": [
    {
     "name": "stdout",
     "output_type": "stream",
     "text": [
      "El primer nucleótido de la tupla es adenina\n",
      "El primer nucleótido de la tupla es adenina\n"
     ]
    }
   ],
   "source": [
    "# 1. Acceder al primer elemento de una tupla\n",
    "nucleotidos_ADN= (\"adenina\", \"timina\", \"guanina\", \"citosina\")\n",
    "print (\"El primer nucleótido de la tupla es\", nucleotidos_ADN [-4])\n",
    "print (\"El primer nucleótido de la tupla es\", nucleotidos_ADN [0])"
   ]
  },
  {
   "cell_type": "code",
   "execution_count": 2,
   "metadata": {},
   "outputs": [
    {
     "name": "stdout",
     "output_type": "stream",
     "text": [
      "El último nucleótido de la tupla es citosina\n"
     ]
    }
   ],
   "source": [
    "# 2. Acceder al último elemento de una tupla\n",
    "print (\"El último nucleótido de la tupla es\", nucleotidos_ADN [-1])"
   ]
  },
  {
   "cell_type": "code",
   "execution_count": 3,
   "metadata": {},
   "outputs": [
    {
     "name": "stdout",
     "output_type": "stream",
     "text": [
      "La longitud de la tupla es 4\n"
     ]
    }
   ],
   "source": [
    "# 3. Obtener la longitud de una tupla\n",
    "print(\"La longitud de la tupla es\", len(nucleotidos_ADN))"
   ]
  },
  {
   "cell_type": "code",
   "execution_count": 4,
   "metadata": {},
   "outputs": [
    {
     "name": "stdout",
     "output_type": "stream",
     "text": [
      "Los nucleótidos de ARN son  ('adenina', 'citosina', 'guanina', 'uracilo')\n",
      "La concatenación de las tuplas es ('adenina', 'timina', 'guanina', 'citosina', 'adenina', 'citosina', 'guanina', 'uracilo')\n"
     ]
    }
   ],
   "source": [
    "# 4. Concatenar dos tuplas\n",
    "\n",
    "nucleotidos_ARN= (\"adenina\", \"citosina\", \"guanina\", \"uracilo\")\n",
    "print (\"Los nucleótidos de ARN son \",nucleotidos_ARN)\n",
    "\n",
    "nucleotidos= nucleotidos_ADN + nucleotidos_ARN\n",
    "\n",
    "print(\"La concatenación de las tuplas es\", nucleotidos)"
   ]
  },
  {
   "cell_type": "code",
   "execution_count": 5,
   "metadata": {},
   "outputs": [
    {
     "name": "stdout",
     "output_type": "stream",
     "text": [
      "El índice de la citosina es 3\n"
     ]
    }
   ],
   "source": [
    "# 5. Encontrar el índice de un elemento en una tupla\n",
    "\n",
    "print(\"El índice de la citosina es\", nucleotidos.index(\"citosina\"))"
   ]
  },
  {
   "cell_type": "code",
   "execution_count": 6,
   "metadata": {},
   "outputs": [
    {
     "name": "stdout",
     "output_type": "stream",
     "text": [
      "En la tupla dada encontramos la citosina 2 veces\n"
     ]
    }
   ],
   "source": [
    "# 6. Contar ocurrencias de un elemento en una tupla\n",
    "\n",
    "print(\"En la tupla dada encontramos la citosina\", nucleotidos.count(\"citosina\"), \"veces\")"
   ]
  },
  {
   "cell_type": "code",
   "execution_count": 7,
   "metadata": {},
   "outputs": [
    {
     "name": "stdout",
     "output_type": "stream",
     "text": [
      "Los elementos de la tupla del 1 al 3(sin incluirlo) son: ('timina', 'guanina')\n"
     ]
    }
   ],
   "source": [
    "# 7. Obtener una subtuple de una tupla\n",
    "\n",
    "nucleotidos_1_al_3 = nucleotidos[1:3]\n",
    "print(\"Los elementos de la tupla del 1 al 3(sin incluirlo) son:\", nucleotidos_1_al_3)"
   ]
  },
  {
   "cell_type": "code",
   "execution_count": 8,
   "metadata": {},
   "outputs": [
    {
     "name": "stdout",
     "output_type": "stream",
     "text": [
      "Nuestra tupla es: ('adenina', 'timina', 'guanina', 'citosina', 'adenina', 'citosina', 'guanina', 'uracilo')\n",
      "La tupla al revés es: ('uracilo', 'guanina', 'citosina', 'adenina', 'citosina', 'guanina', 'timina', 'adenina')\n",
      "También podemos darle la vuelta de la siguiente forma:\n",
      "['uracilo', 'guanina', 'citosina', 'adenina', 'citosina', 'guanina', 'timina', 'adenina']\n"
     ]
    }
   ],
   "source": [
    "# 8. Invertir una tupla\n",
    "\n",
    "print(\"Nuestra tupla es:\", nucleotidos)\n",
    "print(\"La tupla al revés es:\", nucleotidos[::-1])\n",
    "\n",
    "# Opción dos\n",
    "lista_nucleotidos = list(nucleotidos)\n",
    "lista_nucleotidos.reverse()\n",
    "print(\"También podemos darle la vuelta de la siguiente forma:\")\n",
    "print(lista_nucleotidos)"
   ]
  }
 ],
 "metadata": {
  "kernelspec": {
   "display_name": "base",
   "language": "python",
   "name": "python3"
  },
  "language_info": {
   "codemirror_mode": {
    "name": "ipython",
    "version": 3
   },
   "file_extension": ".py",
   "mimetype": "text/x-python",
   "name": "python",
   "nbconvert_exporter": "python",
   "pygments_lexer": "ipython3",
   "version": "3.11.4"
  }
 },
 "nbformat": 4,
 "nbformat_minor": 2
}
