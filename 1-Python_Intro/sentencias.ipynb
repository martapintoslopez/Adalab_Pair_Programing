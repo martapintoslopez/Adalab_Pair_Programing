{
 "cells": [
  {
   "cell_type": "code",
   "execution_count": 3,
   "metadata": {},
   "outputs": [
    {
     "name": "stdout",
     "output_type": "stream",
     "text": [
      "El número es negativo\n"
     ]
    }
   ],
   "source": [
    "#1. Verificar si un número es positivo, negativo o cero\n",
    "#Descripción: Dado un número, verifica si es positivo, negativo o cero.\n",
    "numero=float(input())\n",
    "if numero < 0:\n",
    "    print(\"El número es negativo\")\n",
    "elif numero==0:\n",
    "    print(\"El número es 0\")\n",
    "else: \n",
    "    print(\"El número es positivo\")"
   ]
  },
  {
   "cell_type": "code",
   "execution_count": 29,
   "metadata": {},
   "outputs": [
    {
     "name": "stdout",
     "output_type": "stream",
     "text": [
      "El número es impar\n"
     ]
    }
   ],
   "source": [
    "#2. Verificar si un número es par o impar\n",
    "#Descripción: Dado un número, verifica si es par o impar.\n",
    "numero=int(input())\n",
    "if numero % 2 == 0:\n",
    "    print(\"El número es par\")\n",
    "else: \n",
    "    print(\"El número es impar\")"
   ]
  },
  {
   "cell_type": "code",
   "execution_count": 7,
   "metadata": {},
   "outputs": [
    {
     "name": "stdout",
     "output_type": "stream",
     "text": [
      "Ha aprobado el examen\n"
     ]
    }
   ],
   "source": [
    "#3. Verificar si un estudiante aprobó o suspendió un examen\n",
    "#Descripción: Dada la calificación de un estudiante en un examen, verifica si aprobó o suspendió (si la calificación es mayor o igual a 60 se considera aprobado).\n",
    "nota=int(input())\n",
    "if nota>=60:\n",
    "    print(\"Ha aprobado el examen\")\n",
    "else: \n",
    "    print(\"Necesita mejorar\")"
   ]
  },
  {
   "cell_type": "code",
   "execution_count": 28,
   "metadata": {},
   "outputs": [
    {
     "name": "stdout",
     "output_type": "stream",
     "text": [
      "2.1 es mayor que 2.0\n"
     ]
    }
   ],
   "source": [
    "#4. Calcular el máximo entre dos números\n",
    "#Descripción: Dados dos números, encuentra el máximo entre ellos.\n",
    "numero_1=float(input())\n",
    "numero_2=float(input())\n",
    "\n",
    "if numero_1 > numero_2:\n",
    "    print(f\"{numero_1} es mayor que {numero_2}\")\n",
    "elif numero_2 > numero_1:\n",
    "    print (f\"{numero_2} es mayor que {numero_1}\")\n",
    "else: \n",
    "    print(f\"{numero_1} es igual a {numero_2}\")"
   ]
  },
  {
   "cell_type": "code",
   "execution_count": 12,
   "metadata": {},
   "outputs": [
    {
     "name": "stdout",
     "output_type": "stream",
     "text": [
      "g es una consonante\n"
     ]
    }
   ],
   "source": [
    "#5. Verificar si una letra es una vocal o una consonante\n",
    "#Descripción: Dada una letra, verifica si es una vocal o una consonante.\n",
    "\n",
    "vocales=[\"a\", \"e\", \"i\", \"o\", \"u\"]\n",
    "letra=input(\"Introduce una letra\")\n",
    "\n",
    "if letra in vocales:\n",
    "    print(f\"{letra} es una vocal\")\n",
    "else: \n",
    "    print(f\"{letra} es una consonante\")"
   ]
  },
  {
   "cell_type": "code",
   "execution_count": 15,
   "metadata": {},
   "outputs": [
    {
     "name": "stdout",
     "output_type": "stream",
     "text": [
      "No se puede aplicar ningún descuento. El importe ha sido de 70\n"
     ]
    }
   ],
   "source": [
    "#6. Calcular el descuento en una compra según el monto total\n",
    "# Descripción: Dado el monto total de una compra, calcula el descuento aplicado según las siguientes condiciones: \n",
    "# si el monto es mayor o igual a $100, aplica un descuento del 10%; de lo contrario, no aplica ningún descuento.\n",
    "\n",
    "gasto=float(input(\"El gasto ha sido de\"))\n",
    "\n",
    "if gasto>=100: \n",
    "    descuento=gasto*0.1\n",
    "    gasto-=descuento\n",
    "    print(\"Se aplica un 10% de descuento, por lo que el importe total es\", gasto)\n",
    "\n",
    "else: \n",
    "    print(\"No se puede aplicar ningún descuento. El importe ha sido de\", gasto)"
   ]
  },
  {
   "cell_type": "code",
   "execution_count": 9,
   "metadata": {},
   "outputs": [
    {
     "name": "stdout",
     "output_type": "stream",
     "text": [
      "El año 1900 es no bisiesto\n"
     ]
    }
   ],
   "source": [
    "#7. Verificar si un año es bisiesto o no\n",
    "# Descripción: Dado un año, verifica si es bisiesto o no (un año es bisiesto si es divisible entre 4, \n",
    "# excepto aquellos divisibles entre 100 pero no entre 400).\n",
    "\n",
    "anio = int(input(\"Introduzca año\"))\n",
    "\n",
    "if anio % 4 == 0:\n",
    "    if anio % 100 == 0:\n",
    "        if anio % 400 == 0:\n",
    "            print(f\"El año {anio} es bisiesto\")\n",
    "        else:\n",
    "            print(f\"El año {anio} es no bisiesto\")\n",
    "    else:\n",
    "        print(f\"El año {anio} es bisiesto\")\n",
    "else:\n",
    "    print(f\"El año {anio} es no bisiesto\")\n",
    "    \n"
   ]
  },
  {
   "cell_type": "code",
   "execution_count": 12,
   "metadata": {},
   "outputs": [
    {
     "name": "stdout",
     "output_type": "stream",
     "text": [
      "La categoría de edad de 65 es Adulto mayor\n"
     ]
    }
   ],
   "source": [
    "#8. Asignar una categoría a una edad\n",
    "# Descripción: Dada una edad, asigna una categoría según las siguientes condiciones: si la edad es menor de 18,\n",
    "# la categoría es \"Menor de edad\"; si la edad está entre 18 y 64 (incluyendo ambos), la categoría es \"Adulto\"; \n",
    "# de lo contrario, la categoría es \"Adulto mayor\".\n",
    "\n",
    "edad = int(input(\"Introduzca edad\"))\n",
    "\n",
    "if edad < 18:\n",
    "    print(f\"La categoría de edad de {edad} es Menor de edad\")\n",
    "elif 18 <= edad <= 64:\n",
    "    print(f\"La categoría de edad de {edad} es Adulto\")\n",
    "else:\n",
    "    print(f\"La categoría de edad de {edad} es Adulto mayor\")"
   ]
  },
  {
   "cell_type": "code",
   "execution_count": 31,
   "metadata": {},
   "outputs": [
    {
     "name": "stdout",
     "output_type": "stream",
     "text": [
      "No se puede formar un triangulo rectángulo\n"
     ]
    }
   ],
   "source": [
    "#9. Verificar si tres números forman un triángulo rectángulo\n",
    "# Descripción: Dados tres números, verifica si forman un triángulo rectángulo (si se cumple el teorema de Pitágoras).\n",
    "\n",
    "    #El teorema de pitágoras dice que la suma del cuadrado de los catetos es igual al cuadrado de la hipotenusa. \n",
    "\n",
    "a=float(input(\"Introduzca el valor del cateto a\"))\n",
    "b=float(input(\"Introduzca el valor del cateto b\"))\n",
    "c=float(input(\"Introduzca el valor de la hipotenusa\"))\n",
    "\n",
    "\n",
    "if c**2== ((a**2)+(b**2)):\n",
    "    print(\"Se puede formar un triángulo rectángulo\")\n",
    "\n",
    "else: \n",
    "    print(\"No se puede formar un triangulo rectángulo\")\n"
   ]
  },
  {
   "cell_type": "code",
   "execution_count": 10,
   "metadata": {},
   "outputs": [
    {
     "name": "stdout",
     "output_type": "stream",
     "text": [
      "La calificación es D\n"
     ]
    }
   ],
   "source": [
    "#10. Asignar una calificación a una puntuación\n",
    "# Descripción: Dada una puntuación, asigna una calificación según las siguientes condiciones: \n",
    "#- Si la puntuación es mayor o igual a 90, la calificación es \"A\"\n",
    "#- Si es mayor o igual a 80, la calificación es \"B\"\n",
    "#- Si es mayor o igual a 70, la calificación es \"C\"\n",
    "#- Si es mayor o igual a 60, la calificación es \"D\"\n",
    "#- De lo contrario, la calificación es \"F\".\n",
    "\n",
    "puntuacion= int(input())\n",
    "\n",
    "if puntuacion >= 90:\n",
    "    print(\"La calificación es A\")\n",
    "elif 80<= puntuacion: \n",
    "    print(\"La calificación es B\")\n",
    "elif 70<= puntuacion: \n",
    "    print(\"La calificación es C\")\n",
    "elif 60<= puntuacion: \n",
    "    print(\"La calificación es D\")\n",
    "else: \n",
    "    print(\"La calificación es F\")"
   ]
  },
  {
   "cell_type": "code",
   "execution_count": 27,
   "metadata": {},
   "outputs": [
    {
     "name": "stdout",
     "output_type": "stream",
     "text": [
      "Su índice de masa corporal es 22.2\n",
      "Su IMC 22.2 lo sitúa a usted en Peso normal\n"
     ]
    }
   ],
   "source": [
    "#11. Calcular el índice de masa corporal (IMC) y categorizarlo\n",
    "# Descripción: Dados el peso (en kg) y la altura (en metros) de una persona, calcula su IMC y categorízalo según las siguientes condiciones: \n",
    "# si el IMC es menor a 18.5, es \"Bajo peso\"\n",
    "# si está entre 18.5 y 24.9 (inclusive), es \"Peso normal\"\n",
    "# si está entre 25 y 29.9 (inclusive), es \"Sobrepeso\"\n",
    "# de lo contrario, es \"Obesidad\".\n",
    "\n",
    "peso=float(input(\"Introduzca su peso en kg\"))\n",
    "altura= float(input(\"Introduzca su alura en metros\"))\n",
    "IMC= round(peso/(altura**2), 1)\n",
    "print(\"Su índice de masa corporal es\", IMC)\n",
    "\n",
    "if IMC < 18.5: \n",
    "    print(f\"Su IMC {IMC} lo sitúa a usted en Bajo peso\")\n",
    "elif 18.5 <= IMC <= 24.9: \n",
    "    print(f\"Su IMC {IMC} lo sitúa a usted en Peso normal\")\n",
    "elif 25 <= IMC <= 29.9: \n",
    "    print(f\"Su IMC {IMC} lo sitúa a usted en Sobrepeso\")\n",
    "else: \n",
    "    print(f\"Su IMC {IMC} lo sitúa a usted en Obesidad\")\n",
    "\n"
   ]
  },
  {
   "cell_type": "code",
   "execution_count": 30,
   "metadata": {},
   "outputs": [
    {
     "name": "stdout",
     "output_type": "stream",
     "text": [
      "9.0 es mayor que 4.0 y 2.0\n"
     ]
    }
   ],
   "source": [
    "#12. Calcular el mayor de tres números\n",
    "# Descripción: Dados tres números, encuentra el mayor entre ellos.\n",
    "numero_a=float(input())\n",
    "numero_b=float(input())\n",
    "numero_c=float(input())\n",
    "\n",
    "if numero_a > numero_b and numero_a > numero_c:\n",
    "    print(f\"{numero_a} es mayor que {numero_b} y {numero_c}\")\n",
    "elif numero_b > numero_a and numero_b > numero_c:\n",
    "    print (f\"{numero_b} es mayor que {numero_a} y {numero_c}\")\n",
    "elif numero_c > numero_a and numero_c > numero_b:\n",
    "    print (f\"{numero_c} es mayor que {numero_a} y {numero_b}\")\n",
    "else: \n",
    "    print(\"Es el mismo número\")"
   ]
  },
  {
   "cell_type": "code",
   "execution_count": 1,
   "metadata": {},
   "outputs": [
    {
     "name": "stdout",
     "output_type": "stream",
     "text": [
      "La fecha introducida: 29/2/2024 es válida\n"
     ]
    }
   ],
   "source": [
    "#13. BONUS sentencias de control: Verificar la validez de una fecha\n",
    "# Descripción: Dados el día, el mes y el año de una fecha, verifica si la fecha es válida.\n",
    "\n",
    "dia = int(input(\"Introduce el día\"))\n",
    "mes = int(input(\"Introduce el número del mes\"))\n",
    "anio = int(input(\"Introduce el anio\"))\n",
    "\n",
    "# Compruebo si el año es bisiesto:\n",
    "if anio % 4 == 0:\n",
    "    if anio % 100 == 0:\n",
    "        if anio % 400 == 0:\n",
    "            bisiesto = anio\n",
    "    else:\n",
    "        bisiesto = anio\n",
    "\n",
    "if 0 < dia <= 31:\n",
    "    if dia == 31:\n",
    "        if mes == 1 or mes == 3 or mes == 5 or mes == 7 or mes == 8 or mes == 10 or mes == 12:\n",
    "            print(f\"La fecha introducida: {dia}/{mes}/{anio} es válida\")\n",
    "        else:\n",
    "            print(f\"La fecha introducida: {dia}/{mes}/{anio} es INCORRECTA\")\n",
    "    elif dia == 30:\n",
    "        if mes != 2:\n",
    "            print(f\"La fecha introducida: {dia}/{mes}/{anio} es válida\")\n",
    "        else:\n",
    "            print(f\"La fecha introducida: {dia}/{mes}/{anio} es INCORRECTA\")\n",
    "    elif mes == 2 and dia == 29 and anio != bisiesto:\n",
    "        print(f\"La fecha introducida: {dia}/{mes}/{anio} es INCORRECTA\")\n",
    "    else:\n",
    "        print(f\"La fecha introducida: {dia}/{mes}/{anio} es válida\")\n",
    "else:\n",
    "    print(f\"La fecha introducida: {dia}/{mes}/{anio} es INCORRECTA\")"
   ]
  },
  {
   "cell_type": "markdown",
   "metadata": {},
   "source": [
    "----------\n",
    "## Ejercicios While"
   ]
  },
  {
   "cell_type": "code",
   "execution_count": 3,
   "metadata": {},
   "outputs": [
    {
     "name": "stdout",
     "output_type": "stream",
     "text": [
      "---------\n",
      "Sumamos 0 con la suma de los anteriores (0), 0+0\n",
      "que nos da 0\n",
      "---------\n",
      "Sumamos 1 con la suma de los anteriores (0), 1+0\n",
      "que nos da 1\n",
      "---------\n",
      "Sumamos 2 con la suma de los anteriores (1), 2+1\n",
      "que nos da 3\n",
      "---------\n",
      "Sumamos 3 con la suma de los anteriores (3), 3+3\n",
      "que nos da 6\n",
      "---------\n",
      "Sumamos 4 con la suma de los anteriores (6), 4+6\n",
      "que nos da 10\n",
      "---------\n",
      "Sumamos 5 con la suma de los anteriores (10), 5+10\n",
      "que nos da 15\n",
      "---------\n",
      "Sumamos 6 con la suma de los anteriores (15), 6+15\n",
      "que nos da 21\n",
      "---------\n",
      "Sumamos 7 con la suma de los anteriores (21), 7+21\n",
      "que nos da 28\n",
      "---------\n",
      "Sumamos 8 con la suma de los anteriores (28), 8+28\n",
      "que nos da 36\n",
      "---------\n",
      "Sumamos 9 con la suma de los anteriores (36), 9+36\n",
      "que nos da 45\n",
      "---------\n",
      "Sumamos 10 con la suma de los anteriores (45), 10+45\n",
      "que nos da 55\n",
      "La suma total de los 10 primeros números naturales es 55\n"
     ]
    }
   ],
   "source": [
    "# 1. Calcular la suma de los primeros 10 números naturales utilizando un bucle while\n",
    "# Descripción: Utiliza un bucle while para calcular la suma de los primeros 10 números \n",
    "# naturales (1 + 2 + 3 + ... + 10).\n",
    "\n",
    "n = 0  # inicializamos en cero para empezar\n",
    "suma = 0 # inicializamos en cero para empezar\n",
    "\n",
    "while n <= 10:\n",
    "    print(\"---------\")\n",
    "    \n",
    "    print(f\"Sumamos {n} con la suma de los anteriores ({suma}), {n}+{suma}\")\n",
    "    suma = suma + n # sumamos el número nuevo con la suma previa\n",
    "    \n",
    "    print(f\"que nos da {suma}\")\n",
    "    \n",
    "    n += 1 # subimos el contador para pasar al siguiente número\n",
    "print(f\"La suma total de los 10 primeros números naturales es {suma}\")"
   ]
  },
  {
   "cell_type": "code",
   "execution_count": 4,
   "metadata": {},
   "outputs": [
    {
     "name": "stdout",
     "output_type": "stream",
     "text": [
      "¡No has acertado! Sigue intentándolo:\n",
      "¡No has acertado! Sigue intentándolo:\n",
      "¡No has acertado! Sigue intentándolo:\n",
      "¡SÍ! Era el 9\n"
     ]
    }
   ],
   "source": [
    "#2. Juego de adivinanza utilizando un bucle while\n",
    "# Descripción: Crea un juego de adivinanza en el que el jugador tiene que adivinar un \n",
    "# número secreto (tendrá que ser entre el 0 y el 10). Utiliza un bucle while para permitir \n",
    "# múltiples intentos hasta que el jugador adivine correctamente.\n",
    "\n",
    "import random\n",
    "\n",
    "n = random.randint(0, 10)\n",
    "m = int(input(\"¿Qué número he pensado?\"))\n",
    "\n",
    "while m != n:\n",
    "    print(\"¡No has acertado! Sigue intentándolo:\")\n",
    "    m = int(input(\"¿Qué número he pensado?\"))\n",
    "else:\n",
    "    print(f\"¡SÍ! Era el {n}\")"
   ]
  }
 ],
 "metadata": {
  "kernelspec": {
   "display_name": "base",
   "language": "python",
   "name": "python3"
  },
  "language_info": {
   "codemirror_mode": {
    "name": "ipython",
    "version": 3
   },
   "file_extension": ".py",
   "mimetype": "text/x-python",
   "name": "python",
   "nbconvert_exporter": "python",
   "pygments_lexer": "ipython3",
   "version": "3.11.4"
  }
 },
 "nbformat": 4,
 "nbformat_minor": 2
}
